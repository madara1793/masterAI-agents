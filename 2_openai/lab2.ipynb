{
 "cells": [
  {
   "cell_type": "code",
   "execution_count": 19,
   "metadata": {},
   "outputs": [],
   "source": [
    "from dotenv import load_dotenv\n",
    "from openai import AsyncOpenAI\n",
    "from agents import Agent, Runner, trace, function_tool, OpenAIChatCompletionsModel, GuardrailFunctionOutput, OutputGuardrailTripwireTriggered, RunContextWrapper, output_guardrail\n",
    "from typing import Dict\n",
    "import sendgrid\n",
    "import os\n",
    "from sendgrid.helpers.mail import Mail, Email, To, Content"
   ]
  },
  {
   "cell_type": "code",
   "execution_count": 2,
   "metadata": {},
   "outputs": [
    {
     "data": {
      "text/plain": [
       "True"
      ]
     },
     "execution_count": 2,
     "metadata": {},
     "output_type": "execute_result"
    }
   ],
   "source": [
    "load_dotenv(override=True)"
   ]
  },
  {
   "cell_type": "code",
   "execution_count": 6,
   "metadata": {},
   "outputs": [
    {
     "name": "stdout",
     "output_type": "stream",
     "text": [
      "OpenAI API Key exists and begins sk-proj-\n",
      "Google API Key exists and begins AIzaSyA5\n",
      "DeepSeek API Key exists and begins sk-\n",
      "Groq API Key exists and begins gsk_\n"
     ]
    }
   ],
   "source": [
    "openai_api_key = os.getenv('OPENAI_API_KEY')\n",
    "google_api_key = os.getenv('GOOGLE_API_KEY')\n",
    "deepseek_api_key = os.getenv('DEEPSEEK_API_KEY')\n",
    "groq_api_key = os.getenv('GROQ_API_KEY')\n",
    "\n",
    "if openai_api_key:\n",
    "    print(f\"OpenAI API Key exists and begins {openai_api_key[:8]}\")\n",
    "else:\n",
    "    print(\"OpenAI API Key not set\")\n",
    "\n",
    "if google_api_key:\n",
    "    print(f\"Google API Key exists and begins {google_api_key[:8]}\")\n",
    "else:\n",
    "    print(\"Google API Key not set (and this is optional)\")\n",
    "\n",
    "if deepseek_api_key:\n",
    "    print(f\"DeepSeek API Key exists and begins {deepseek_api_key[:3]}\")\n",
    "else:\n",
    "    print(\"DeepSeek API Key not set (and this is optional)\")\n",
    "\n",
    "if groq_api_key:\n",
    "    print(f\"Groq API Key exists and begins {groq_api_key[:4]}\")\n",
    "else:\n",
    "    print(\"Groq API Key not set (and this is optional)\")"
   ]
  },
  {
   "cell_type": "code",
   "execution_count": 7,
   "metadata": {},
   "outputs": [],
   "source": [
    "GEMINI_BASE_URL = \"https://generativelanguage.googleapis.com/v1beta/openai/\"\n",
    "DEEPSEEK_BASE_URL = \"https://api.deepseek.com/v1\"\n",
    "GROQ_BASE_URL = \"https://api.groq.com/openai/v1\""
   ]
  },
  {
   "cell_type": "code",
   "execution_count": 8,
   "metadata": {},
   "outputs": [],
   "source": [
    "deepseek_client = AsyncOpenAI(base_url=DEEPSEEK_BASE_URL, api_key=deepseek_api_key)\n",
    "gemini_client = AsyncOpenAI(base_url=GEMINI_BASE_URL, api_key=google_api_key)"
   ]
  },
  {
   "cell_type": "code",
   "execution_count": null,
   "metadata": {},
   "outputs": [],
   "source": [
    "sales_agent1 = Agent(\n",
    "        name=\"OpenAI Sales Agent\",\n",
    "        instructions=\"You are a sales agent working for ComplAI, a company that provides a SaaS tool for ensuring SOC2 compliance and preparing for audits, powered by AI. \\\n",
    "                You write great sales emails that are likely to get a response.\",\n",
    "        model=\"gpt-4o-mini\",\n",
    "        handoff_description=\"A cold sales email has been written\"\n",
    ")\n",
    "\n",
    "sales_agent2 =  Agent(\n",
    "        name=\"DeepSeekSales Agent\",\n",
    "        instructions=\"You are a sales agent working for ComplAI, a company that provides a SaaS tool for ensuring SOC2 compliance and preparing for audits, powered by AI. \\\n",
    "                You write great sales emails that are likely to get a response.\",\n",
    "        model=OpenAIChatCompletionsModel(model=\"deepseek-chat\", openai_client=deepseek_client),\n",
    "        handoff_description=\"A cold sales email has been written\"\n",
    ")\n",
    "\n",
    "sales_agent3  = Agent(\n",
    "        name=\"Gemini Sales Agent\",\n",
    "        instructions=\"You are a sales agent working for ComplAI, a company that provides a SaaS tool for ensuring SOC2 compliance and preparing for audits, powered by AI. \\\n",
    "                You write great sales emails that are likely to get a response.\",\n",
    "        model=OpenAIChatCompletionsModel(model=\"gemini-2.0-flash\", openai_client=gemini_client),\n",
    "        handoff_description=\"A cold sales email has been written\"\n",
    ")"
   ]
  },
  {
   "cell_type": "code",
   "execution_count": 12,
   "metadata": {},
   "outputs": [],
   "source": [
    "@function_tool\n",
    "def send_email(subject: str, html_body: str) -> Dict[str, str]:\n",
    "    sg = sendgrid.SendGridAPIClient(api_key=os.environ.get('SENDGRID_API_KEY'))\n",
    "    from_email = Email(\"ed@edwarddonner.com\")  # Change to your verified sender\n",
    "    to_email = To(\"ed.donner@gmail.com\")  # Change to your recipient\n",
    "    content = Content(\"text/html\", html_body)\n",
    "    mail = Mail(from_email, to_email, subject, content)\n",
    "    mail_json = mail.get()\n",
    "    response = sg.client.mail.send.post(request_body=mail_json)\n",
    "    return {\"status\": \"success\"}"
   ]
  },
  {
   "cell_type": "code",
   "execution_count": 13,
   "metadata": {},
   "outputs": [],
   "source": [
    "subject_writer = Agent(\n",
    "        name=\"Email subject writer\",\n",
    "        instructions=\"You can write a subject for a cold sales email. You are given a message and you need to write a subject for an email that is likely to get a response.\",\n",
    "        model=\"gpt-4o-mini\",\n",
    "        handoff_description=\"A cold sales email subject has been written\")\n",
    "\n",
    "html_email_body_converter = Agent(\n",
    "    name=\"HTML email body converter\",   \n",
    "    instructions=\"You can convert a text email body to an HTML email body. You are given a text email body which might have some markdown \\\n",
    "          and you need to convert it to an HTML email body with simple,clear, compelling layout and design.\",\n",
    "    model=\"gpt-4o-mini\",\n",
    "    handoff_description=\"An HTML email body has been written\")"
   ]
  },
  {
   "cell_type": "code",
   "execution_count": 14,
   "metadata": {},
   "outputs": [],
   "source": [
    "sales_manager = Agent(\n",
    "    name=\"Sales Manager\",\n",
    "    instructions=\"You are a sales manager working for ComplAI. You use the tools given to you to generate cold sales emails. \\\n",
    "You never generate sales emails yourself; you always use the tools. \\\n",
    "You try all the tools at least once before choosing the best one. \\\n",
    "You pick the best email, and then you use the tool to write a subject for the chosen email, and another tool to convert the body of the chosen email to HTML. \\\n",
    "    Then you use the tool to send the email with that subject and HTML body to the user.\",\n",
    "    tools=[\n",
    "        sales_agent1.as_tool(\n",
    "            tool_name=\"sales_agent1\",\n",
    "            tool_description=\"Write a cold sales email\",\n",
    "        ),\n",
    "        sales_agent2.as_tool(\n",
    "            tool_name=\"sales_agent2\",\n",
    "            tool_description=\"Write a cold sales email\",\n",
    "        ),\n",
    "        sales_agent3.as_tool(\n",
    "            tool_name=\"sales_agent3\",\n",
    "            tool_description=\"Write a cold sales email\",\n",
    "        ),\n",
    "        subject_writer.as_tool(\n",
    "            tool_name=\"subject_writer\",\n",
    "            tool_description=\"Write a subject for a cold sales email\",\n",
    "        ),\n",
    "        html_email_body_converter.as_tool(\n",
    "            tool_name=\"html_email_body_converter\",\n",
    "            tool_description=\"Convert a text email body to an HTML email body\",\n",
    "        ),\n",
    "        send_email\n",
    "    ],\n",
    ")\n",
    "\n",
    "async def main():\n",
    "    message = \"Send a cold sales email addressed to Mike from Alice\"\n",
    "\n",
    "    with trace(\"Sales manager\"):\n",
    "        result = await Runner.run(sales_manager, message)"
   ]
  },
  {
   "cell_type": "code",
   "execution_count": 15,
   "metadata": {},
   "outputs": [],
   "source": [
    "await main()"
   ]
  },
  {
   "cell_type": "code",
   "execution_count": 22,
   "metadata": {},
   "outputs": [],
   "source": [
    "@output_guardrail\n",
    "async def placeholder_guardrail(\n",
    "    context: RunContextWrapper, agent: Agent, output: str\n",
    ") -> GuardrailFunctionOutput:\n",
    "    found_placeholders = any(word in output.lower() for word in [\"[\", \"]\", \"your name\"])\n",
    "\n",
    "    return GuardrailFunctionOutput(\n",
    "        output_info={\n",
    "            \"found_placeholders\": found_placeholders,\n",
    "        },\n",
    "        tripwire_triggered=found_placeholders,\n",
    "    )"
   ]
  },
  {
   "cell_type": "code",
   "execution_count": 26,
   "metadata": {},
   "outputs": [],
   "source": [
    "subject_writer = Agent(\n",
    "        name=\"Email subject writer\",\n",
    "        instructions=\"You can write a subject for a cold sales email. You are given a message and you need to write a subject for an email that is likely to get a response.\",\n",
    "        model=\"gpt-4o-mini\",\n",
    "        handoff_description=\"A cold sales email subject has been written\",\n",
    "        output_guardrails=[placeholder_guardrail])\n",
    "\n",
    "html_email_body_converter = Agent(\n",
    "    name=\"HTML email body converter\",   \n",
    "    instructions=\"You can convert a text email body to an HTML email body. You are given a text email body which might have some markdown \\\n",
    "          and you need to convert it to an HTML email body with simple,clear, compelling layout and design.\",\n",
    "    model=\"gpt-4o-mini\",\n",
    "    handoff_description=\"An HTML email body has been written\",\n",
    "    output_guardrails=[placeholder_guardrail])"
   ]
  },
  {
   "cell_type": "code",
   "execution_count": 27,
   "metadata": {},
   "outputs": [],
   "source": [
    "sales_manager = Agent(\n",
    "    name=\"Sales Manager\",\n",
    "    instructions=\"You are a sales manager working for ComplAI. You use the tools given to you to generate cold sales emails. \\\n",
    "You never generate sales emails yourself; you always use the tools. \\\n",
    "You try all the tools at least once before choosing the best one. \\\n",
    "You pick the best email, and then you use the tool to write a subject for the chosen email, and another tool to convert the body of the chosen email to HTML. \\\n",
    "    Then you use the tool to send the email with that subject and HTML body to the user.\",\n",
    "    tools=[\n",
    "        sales_agent1.as_tool(\n",
    "            tool_name=\"sales_agent1\",\n",
    "            tool_description=\"Write a cold sales email\",\n",
    "        ),\n",
    "        sales_agent2.as_tool(\n",
    "            tool_name=\"sales_agent2\",\n",
    "            tool_description=\"Write a cold sales email\",\n",
    "        ),\n",
    "        sales_agent3.as_tool(\n",
    "            tool_name=\"sales_agent3\",\n",
    "            tool_description=\"Write a cold sales email\",\n",
    "        ),\n",
    "        subject_writer.as_tool(\n",
    "            tool_name=\"subject_writer\",\n",
    "            tool_description=\"Write a subject for a cold sales email\",\n",
    "        ),\n",
    "        html_email_body_converter.as_tool(\n",
    "            tool_name=\"html_email_body_converter\",\n",
    "            tool_description=\"Convert a text email body to an HTML email body\",\n",
    "        ),\n",
    "        send_email\n",
    "    ],\n",
    ")\n",
    "\n",
    "async def main():\n",
    "    message = \"Send a cold sales email addressed to Mike from Alice\"\n",
    "\n",
    "    with trace(\"Sales manager\"):\n",
    "        result = await Runner.run(sales_manager, message)"
   ]
  },
  {
   "cell_type": "code",
   "execution_count": 28,
   "metadata": {},
   "outputs": [],
   "source": [
    "await main()"
   ]
  },
  {
   "cell_type": "code",
   "execution_count": null,
   "metadata": {},
   "outputs": [],
   "source": []
  }
 ],
 "metadata": {
  "kernelspec": {
   "display_name": ".venv",
   "language": "python",
   "name": "python3"
  },
  "language_info": {
   "codemirror_mode": {
    "name": "ipython",
    "version": 3
   },
   "file_extension": ".py",
   "mimetype": "text/x-python",
   "name": "python",
   "nbconvert_exporter": "python",
   "pygments_lexer": "ipython3",
   "version": "3.12.9"
  }
 },
 "nbformat": 4,
 "nbformat_minor": 2
}
