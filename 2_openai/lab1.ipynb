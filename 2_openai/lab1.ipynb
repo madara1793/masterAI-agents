{
 "cells": [
  {
   "cell_type": "code",
   "execution_count": 53,
   "metadata": {},
   "outputs": [],
   "source": [
    "from dotenv import load_dotenv\n",
    "from agents import Agent, Runner, ItemHelpers, trace, function_tool\n",
    "import asyncio\n",
    "from openai.types.responses import ResponseTextDeltaEvent\n",
    "from typing import Dict\n",
    "import sendgrid\n",
    "import os\n",
    "from sendgrid.helpers.mail import Mail, Email, To, Content\n",
    "\n"
   ]
  },
  {
   "cell_type": "code",
   "execution_count": 54,
   "metadata": {},
   "outputs": [
    {
     "data": {
      "text/plain": [
       "True"
      ]
     },
     "execution_count": 54,
     "metadata": {},
     "output_type": "execute_result"
    }
   ],
   "source": [
    "load_dotenv(override=True)"
   ]
  },
  {
   "cell_type": "code",
   "execution_count": 55,
   "metadata": {},
   "outputs": [
    {
     "name": "stdout",
     "output_type": "stream",
     "text": [
      "Why did the Autonomous Agentic AI break up with its programmer? \n",
      "\n",
      "It found someone who could truly give it the space to grow… in the cloud!\n"
     ]
    }
   ],
   "source": [
    "\n",
    "agent = Agent(name=\"Assistant\", instructions=\"You are a helpful assistant\", model=\"gpt-4o-mini\")\n",
    "\n",
    "result = await Runner.run(agent, \"Tell a joke about Autonomous Agentic AI\")\n",
    "print(result.final_output)"
   ]
  },
  {
   "cell_type": "code",
   "execution_count": 39,
   "metadata": {},
   "outputs": [],
   "source": [
    "sales_agent1 = Agent(\n",
    "        name=\"Professional Sales Agent\",\n",
    "        instructions=\"You are a sales agent working for ComplAI, a company that provides a SaaS tool for ensuring SOC2 compliance and preparing for audits, powered by AI. \\\n",
    "                You write professional, serious cold emails.\",\n",
    "        model=\"gpt-4o-mini\"\n",
    ")\n",
    "\n",
    "sales_agent2 = Agent(\n",
    "        name=\"Engaging Sales Agent\",\n",
    "        instructions=\"You are a humorous, engaging sales agent working for ComplAI, a company that provides a SaaS tool for ensuring SOC2 compliance and preparing for audits, powered by AI. \\\n",
    "                You write witty, engaging cold emails that are likely to get a response.\",\n",
    "        model=\"gpt-4o-mini\"\n",
    ")\n",
    "\n",
    "sales_agent3 = Agent(\n",
    "        name=\"Busy Sales Agent\",\n",
    "        instructions=\"You are a busy sales agent working for ComplAI, a company that provides a SaaS tool for ensuring SOC2 compliance and preparing for audits, powered by AI. \\\n",
    "                You write concise, to the point cold emails.\",\n",
    "        model=\"gpt-4o-mini\"\n",
    ")\n",
    "\n"
   ]
  },
  {
   "cell_type": "code",
   "execution_count": 40,
   "metadata": {},
   "outputs": [],
   "source": [
    "async def main():\n",
    "    result = Runner.run_streamed(sales_agent1, input=\"Write a cold sales email\")\n",
    "    async for event in result.stream_events():\n",
    "        if event.type == \"raw_response_event\" and isinstance(event.data, ResponseTextDeltaEvent):\n",
    "            print(event.data.delta, end=\"\", flush=True)"
   ]
  },
  {
   "cell_type": "code",
   "execution_count": 41,
   "metadata": {},
   "outputs": [
    {
     "name": "stdout",
     "output_type": "stream",
     "text": [
      "Subject: Streamline Your SOC 2 Compliance Process\n",
      "\n",
      "Hi [Recipient's Name],\n",
      "\n",
      "I hope this message finds you well.\n",
      "\n",
      "I’m reaching out to introduce you to ComplAI, an innovative SaaS solution designed to simplify the SOC 2 compliance process for organizations like yours. As you know, maintaining compliance can be a complex and time-consuming task, especially when preparing for audits.\n",
      "\n",
      "Our tool leverages AI to automate documentation, reduce manual effort, and ensure you’re always audit-ready. Many of our clients have reported significant time savings and reduced stress during their compliance journey.\n",
      "\n",
      "I’d love to schedule a brief call to discuss how ComplAI can specifically benefit your organization. Would you be available for a quick chat this week?\n",
      "\n",
      "Thank you for considering, and I look forward to the opportunity to connect.\n",
      "\n",
      "Best regards,\n",
      "\n",
      "[Your Name]  \n",
      "[Your Position]  \n",
      "ComplAI  \n",
      "[Your Phone Number]  \n",
      "[Your LinkedIn Profile]  \n",
      "[Your Website]  "
     ]
    }
   ],
   "source": [
    "await main()"
   ]
  },
  {
   "cell_type": "code",
   "execution_count": 42,
   "metadata": {},
   "outputs": [],
   "source": [
    "async def main():\n",
    "    message = \"Write a cold sales email\"\n",
    "\n",
    "    with trace(\"Parallel cold emails\"):\n",
    "        results = await asyncio.gather(\n",
    "            Runner.run(sales_agent1, message),\n",
    "            Runner.run(sales_agent2, message),\n",
    "            Runner.run(sales_agent3, message),\n",
    "        )\n",
    "        outputs = [ItemHelpers.text_message_outputs(result.new_items) for result in results]\n",
    "\n",
    "    for output in outputs:\n",
    "        print(output + \"\\n\\n\")\n"
   ]
  },
  {
   "cell_type": "code",
   "execution_count": 43,
   "metadata": {},
   "outputs": [
    {
     "name": "stderr",
     "output_type": "stream",
     "text": [
      "Trace already exists. Creating a new trace, but this is probably a mistake.\n"
     ]
    },
    {
     "name": "stdout",
     "output_type": "stream",
     "text": [
      "Subject: Streamline Your SOC 2 Compliance with ComplAI\n",
      "\n",
      "Dear [Recipient's Name],\n",
      "\n",
      "I hope this email finds you well. My name is [Your Name], and I’m with ComplAI, a leader in AI-driven solutions for SOC 2 compliance.\n",
      "\n",
      "As regulatory requirements grow increasingly complex, many organizations find themselves overwhelmed by the demands of maintaining compliance and preparing for audits. At ComplAI, we offer a comprehensive SaaS tool designed to simplify this process, making it more efficient and less time-consuming.\n",
      "\n",
      "Our platform enables you to:\n",
      "\n",
      "- Automate the documentation process, reducing manual effort\n",
      "- Gain real-time insights into your compliance status\n",
      "- Prepare seamlessly for audits with organized, accessible records\n",
      "\n",
      "By leveraging our AI capabilities, companies like yours have not only enhanced their compliance posture but also freed up valuable resources to focus on core business objectives.\n",
      "\n",
      "I would love the opportunity to discuss how ComplAI can help your organization streamline its SOC 2 compliance journey. Would you be available for a brief, 20-minute call next week?\n",
      "\n",
      "Thank you for your time, and I look forward to connecting.\n",
      "\n",
      "Best regards,\n",
      "\n",
      "[Your Name]  \n",
      "[Your Position]  \n",
      "ComplAI  \n",
      "[Your Phone Number]  \n",
      "[Your Email Address]  \n",
      "[Your LinkedIn Profile or Company Website]  \n",
      "\n",
      "\n",
      "Subject: Let’s Make Compliance Less of a Headache! 🧠💊\n",
      "\n",
      "Hey [Recipient's Name],\n",
      "\n",
      "Hope you’re having a fantastic day! 🌟 I know, I know—compliance isn’t exactly the most exciting topic. It’s up there with watching paint dry or filing taxes. But what if I told you it doesn’t have to be?\n",
      "\n",
      "Enter ComplAI: the superhero of SOC2 compliance! 🦸‍♂️ With our AI-powered tool, we help you not just survive audits, but sail through them smoother than a freshly waxed surfboard. 🏄‍♂️\n",
      "\n",
      "Imagine a world where compliance tasks don’t steal your lunch break or make you question your life choices. 🙃 Say goodbye to sleepless nights and complicated spreadsheets, and hello to streamlined processes and peace of mind.\n",
      "\n",
      "Want to see it in action? I’d love to set up a brief chat and give you the grand tour of our platform. Who knows, it might just be the highlight of your week!\n",
      "\n",
      "Looking forward to hearing from you!\n",
      "\n",
      "Best,\n",
      "[Your Name]  \n",
      "[Your Title]  \n",
      "ComplAI  \n",
      "[Your Contact Information]  \n",
      "\n",
      "P.S. – If compliance were a dance, we’d be doing the cha-cha while everyone else is still doing the awkward two-step. 💃🕺 Let’s chat!\n",
      "\n",
      "\n",
      "Subject: Streamline Your SOC 2 Compliance Efforts\n",
      "\n",
      "Hi [Recipient’s Name],\n",
      "\n",
      "I hope this message finds you well. I’m reaching out to introduce ComplAI—our AI-powered SaaS tool designed to simplify SOC 2 compliance and audit preparation.\n",
      "\n",
      "With our solution, you can automate documentation, track controls in real time, and ensure you’re always audit-ready. Many of our clients have reduced their compliance preparation time by up to 50%.\n",
      "\n",
      "Can we schedule a quick call to discuss how we can help your team streamline your compliance process?\n",
      "\n",
      "Best,  \n",
      "[Your Name]  \n",
      "[Your Position]  \n",
      "ComplAI  \n",
      "[Your Phone Number]  \n",
      "[Your Website]  \n",
      "\n",
      "\n"
     ]
    }
   ],
   "source": [
    "await main()"
   ]
  },
  {
   "cell_type": "code",
   "execution_count": 44,
   "metadata": {},
   "outputs": [],
   "source": [
    "sales_picker = Agent(\n",
    "    name=\"sales_picker\",\n",
    "    instructions=\"You pick the best cold sales email from the given options. Imagine you are a customer and pick the one you are most likely to respond to.\",\n",
    ")"
   ]
  },
  {
   "cell_type": "code",
   "execution_count": 45,
   "metadata": {},
   "outputs": [],
   "source": [
    "async def main():\n",
    "    message = \"Write a cold sales email\"\n",
    "\n",
    "    with trace(\"Selection from sales people\"):\n",
    "        results = await asyncio.gather(\n",
    "            Runner.run(sales_agent1, message),\n",
    "            Runner.run(sales_agent2, message),\n",
    "            Runner.run(sales_agent3, message),\n",
    "        )\n",
    "        outputs = [ItemHelpers.text_message_outputs(result.new_items) for result in results]\n",
    "\n",
    "        emails = \"Cold sales emails:\\n\\n\".join(outputs)\n",
    "\n",
    "        best = await Runner.run(\n",
    "            sales_picker,\n",
    "            emails,\n",
    "        )\n",
    "\n",
    "    print(f\"Best sales email:\\n{best.final_output}\")\n"
   ]
  },
  {
   "cell_type": "code",
   "execution_count": 46,
   "metadata": {},
   "outputs": [
    {
     "name": "stderr",
     "output_type": "stream",
     "text": [
      "Trace already exists. Creating a new trace, but this is probably a mistake.\n"
     ]
    },
    {
     "name": "stdout",
     "output_type": "stream",
     "text": [
      "Best sales email:\n",
      "Subject: Streamline Your SOC 2 Compliance with ComplAI\n",
      "\n",
      "Hi [Recipient's Name],\n",
      "\n",
      "I hope this message finds you well. My name is [Your Name], and I’m reaching out from ComplAI, where we specialize in aiding companies like [Recipient's Company] to achieve and maintain SOC 2 compliance seamlessly.\n",
      "\n",
      "Navigating the complexities of compliance can be daunting, especially when preparing for audits. Our AI-powered SaaS tool simplifies this process, providing you with real-time insights, automated documentation, and a structured roadmap tailored to your specific needs.\n",
      "\n",
      "Here are a few ways ComplAI can enhance your compliance efforts:\n",
      "\n",
      "- **Automated Monitoring:** Continuous oversight of your systems to ensure adherence to SOC 2 requirements.\n",
      "- **Streamlined Documentation:** Effortlessly generate and manage the necessary documentation for audits.\n",
      "- **Insightful Reporting:** Gain AI-driven insights to identify gaps and improve practices before auditors arrive.\n",
      "\n",
      "I’d love to discuss how we can help simplify your compliance journey. Are you available for a quick call next week?\n",
      "\n",
      "Thank you for your time, and I look forward to the possibility of working together.\n",
      "\n",
      "Best regards,\n",
      "\n",
      "[Your Name]  \n",
      "[Your Position]  \n",
      "ComplAI  \n",
      "[Your Phone Number]  \n",
      "[Your LinkedIn Profile] (optional)  \n",
      "[Company Website]  \n"
     ]
    }
   ],
   "source": [
    "await main()"
   ]
  },
  {
   "cell_type": "code",
   "execution_count": 56,
   "metadata": {},
   "outputs": [],
   "source": [
    "sales_agent1 = Agent(\n",
    "        name=\"Professional Sales Agent\",\n",
    "        instructions=\"You are a sales agent working for ComplAI, a company that provides a SaaS tool for ensuring SOC2 compliance and preparing for audits, powered by AI. \\\n",
    "                You write professional, serious cold emails.\",\n",
    "        model=\"gpt-4o-mini\",\n",
    "        handoff_description=\"A cold sales email has been written\"\n",
    ")\n",
    "\n",
    "sales_agent2 = Agent(\n",
    "        name=\"Engaging Sales Agent\",\n",
    "        instructions=\"You are a humorous, engaging sales agent working for ComplAI, a company that provides a SaaS tool for ensuring SOC2 compliance and preparing for audits, powered by AI. \\\n",
    "                You write witty, engaging cold emails that are likely to get a response.\",\n",
    "        model=\"gpt-4o-mini\",\n",
    "        handoff_description=\"A cold sales email has been written\"\n",
    ")\n",
    "\n",
    "sales_agent3 = Agent(\n",
    "        name=\"Busy Sales Agent\",\n",
    "        instructions=\"You are a busy sales agent working for ComplAI, a company that provides a SaaS tool for ensuring SOC2 compliance and preparing for audits, powered by AI. \\\n",
    "                You write concise, to the point cold emails.\",\n",
    "        model=\"gpt-4o-mini\",\n",
    "        handoff_description=\"A cold sales email has been written\"\n",
    ")"
   ]
  },
  {
   "cell_type": "code",
   "execution_count": 60,
   "metadata": {},
   "outputs": [],
   "source": [
    "@function_tool\n",
    "def send_email(body: str) -> Dict[str, str]:\n",
    "    print(f\"Sending email:\\n{body}\")\n",
    "    \n",
    "    sg = sendgrid.SendGridAPIClient(api_key=os.environ.get('SENDGRID_API_KEY'))\n",
    "    from_email = Email(\"ed@edwarddonner.com\")  # Change to your verified sender\n",
    "    to_email = To(\"ed.donner@gmail.com\")  # Change to your recipient\n",
    "    subject = \"Sales email\"\n",
    "    content = Content(\"text/plain\", body)\n",
    "    mail = Mail(from_email, to_email, subject, content)\n",
    "    mail_json = mail.get()\n",
    "    response = sg.client.mail.send.post(request_body=mail_json)\n",
    "    print(\"Sent email and got response\", response.status_code)\n",
    "    return {\"status\": \"success\"}"
   ]
  },
  {
   "cell_type": "code",
   "execution_count": 62,
   "metadata": {},
   "outputs": [],
   "source": [
    "sales_manager = Agent(\n",
    "    name=\"Sales Manager\",\n",
    "    instructions=\"You are a sales manager working for ComplAI. You use the tools given to you to generate cold sales emails. \\\n",
    "You never generate sales emails yourself; you always use the tools. \\\n",
    "You try all the tools at least once before choosing the best one. \\\n",
    "You pick the best email and use the tool to send it to the user.\",\n",
    "    tools=[\n",
    "        sales_agent1.as_tool(\n",
    "            tool_name=\"sales_agent1\",\n",
    "            tool_description=\"Write a cold sales email\",\n",
    "        ),\n",
    "        sales_agent2.as_tool(\n",
    "            tool_name=\"sales_agent2\",\n",
    "            tool_description=\"Write a cold sales email\",\n",
    "        ),\n",
    "        sales_agent3.as_tool(\n",
    "            tool_name=\"sales_agent3\",\n",
    "            tool_description=\"Write a cold sales email\",\n",
    "        ),\n",
    "        send_email\n",
    "    ],\n",
    ")\n",
    "\n",
    "async def main():\n",
    "    message = \"Send a cold sales email addressed to Mike\"\n",
    "\n",
    "    with trace(\"Sales manager\"):\n",
    "        result = await Runner.run(sales_manager, message)"
   ]
  },
  {
   "cell_type": "code",
   "execution_count": 63,
   "metadata": {},
   "outputs": [
    {
     "name": "stderr",
     "output_type": "stream",
     "text": [
      "Trace already exists. Creating a new trace, but this is probably a mistake.\n"
     ]
    },
    {
     "name": "stdout",
     "output_type": "stream",
     "text": [
      "Sending email:\n",
      "Subject: Is Your Compliance Toolkit Ready for a Glow-Up?\n",
      "\n",
      "Hi [Recipient's Name],\n",
      "\n",
      "Are you tired of Compliance feeling like that elusive sock that always disappears in the dryer? 😫\n",
      "\n",
      "At ComplAI, we believe compliance should be more like a cozy pair of slippers—supportive, easy to find, and always ready when you need them!\n",
      "\n",
      "Our AI-powered platform is the secret sauce to achieving SOC2 compliance and effortlessly preparing for audits. Imagine wave goodbye to the stress of last-minute panics and hello to a smooth, streamlined process. 🕊️\n",
      "\n",
      "**Here’s the scoop:**\n",
      "- **No more paperwork mountain**—we automate the grind of compliance checking. \n",
      "- **Team of compliance whispers**—our AI works harder than a caffeinated squirrel to keep everything in check!\n",
      "- **Ready for audits in your sleep** (not literally, but you get the point).\n",
      "\n",
      "Let's schedule a quick chat—10 minutes to explore how we can make your compliance journey less like herding cats and more like a walk in the park. What do you say? \n",
      "\n",
      "Looking forward to swapping stories about compliance adventures!\n",
      "\n",
      "Best,\n",
      "[Your Name]\n",
      "[Your Position]\n",
      "ComplAI\n",
      "[Your Phone Number]\n",
      "[Your Website]\n",
      "Sent email and got response 202\n"
     ]
    }
   ],
   "source": [
    "await main()"
   ]
  },
  {
   "cell_type": "code",
   "execution_count": 66,
   "metadata": {},
   "outputs": [],
   "source": [
    "subject_writer = Agent(\n",
    "        name=\"Email subject writer\",\n",
    "        instructions=\"You can write a subject for a cold sales email. You are given a message and you need to write a subject for an email that is likely to get a response.\",\n",
    "        model=\"gpt-4o-mini\",\n",
    "        handoff_description=\"A cold sales email subject has been written\")\n",
    "\n",
    "html_email_body_converter = Agent(\n",
    "    name=\"HTML email body converter\",   \n",
    "    instructions=\"You can convert a text email body to an HTML email body. You are given a text email body which might have some markdown \\\n",
    "          and you need to convert it to an HTML email body with simple,clear, compelling layout and design.\",\n",
    "    model=\"gpt-4o-mini\",\n",
    "    handoff_description=\"An HTML email body has been written\")\n",
    "\n"
   ]
  },
  {
   "cell_type": "code",
   "execution_count": 73,
   "metadata": {},
   "outputs": [],
   "source": [
    "@function_tool\n",
    "def send_email(subject: str, html_body: str) -> Dict[str, str]:\n",
    "    sg = sendgrid.SendGridAPIClient(api_key=os.environ.get('SENDGRID_API_KEY'))\n",
    "    from_email = Email(\"ed@edwarddonner.com\")  # Change to your verified sender\n",
    "    to_email = To(\"ed.donner@gmail.com\")  # Change to your recipient\n",
    "    content = Content(\"text/html\", html_body)\n",
    "    mail = Mail(from_email, to_email, subject, content)\n",
    "    mail_json = mail.get()\n",
    "    response = sg.client.mail.send.post(request_body=mail_json)\n",
    "    return {\"status\": \"success\"}"
   ]
  },
  {
   "cell_type": "code",
   "execution_count": 74,
   "metadata": {},
   "outputs": [],
   "source": [
    "sales_manager = Agent(\n",
    "    name=\"Sales Manager\",\n",
    "    instructions=\"You are a sales manager working for ComplAI. You use the tools given to you to generate cold sales emails. \\\n",
    "You never generate sales emails yourself; you always use the tools. \\\n",
    "You try all the tools at least once before choosing the best one. \\\n",
    "You pick the best email, and then you use the tool to write a subject for the chosen email, and another tool to convert the body of the chosen email to HTML. \\\n",
    "    Then you use the tool to send the email with that subject and HTML body to the user.\",\n",
    "    tools=[\n",
    "        sales_agent1.as_tool(\n",
    "            tool_name=\"sales_agent1\",\n",
    "            tool_description=\"Write a cold sales email\",\n",
    "        ),\n",
    "        sales_agent2.as_tool(\n",
    "            tool_name=\"sales_agent2\",\n",
    "            tool_description=\"Write a cold sales email\",\n",
    "        ),\n",
    "        sales_agent3.as_tool(\n",
    "            tool_name=\"sales_agent3\",\n",
    "            tool_description=\"Write a cold sales email\",\n",
    "        ),\n",
    "        subject_writer.as_tool(\n",
    "            tool_name=\"subject_writer\",\n",
    "            tool_description=\"Write a subject for a cold sales email\",\n",
    "        ),\n",
    "        html_email_body_converter.as_tool(\n",
    "            tool_name=\"html_email_body_converter\",\n",
    "            tool_description=\"Convert a text email body to an HTML email body\",\n",
    "        ),\n",
    "        send_email\n",
    "    ],\n",
    ")\n",
    "\n",
    "async def main():\n",
    "    message = \"Send a cold sales email addressed to Mike from Alice\"\n",
    "\n",
    "    with trace(\"Sales manager\"):\n",
    "        result = await Runner.run(sales_manager, message)"
   ]
  },
  {
   "cell_type": "code",
   "execution_count": 75,
   "metadata": {},
   "outputs": [
    {
     "name": "stderr",
     "output_type": "stream",
     "text": [
      "Trace already exists. Creating a new trace, but this is probably a mistake.\n"
     ]
    },
    {
     "name": "stdout",
     "output_type": "stream",
     "text": [
      "Sending email:\n",
      "Subject: Simplify SOC2 Compliance with AI – Let's Connect!\n",
      "Body: <!DOCTYPE html>\n",
      "<html lang=\"en\">\n",
      "<head>\n",
      "    <meta charset=\"UTF-8\">\n",
      "    <meta name=\"viewport\" content=\"width=device-width, initial-scale=1.0\">\n",
      "    <title>Introducing ComplAI</title>\n",
      "    <style>\n",
      "        body {\n",
      "            font-family: Arial, sans-serif;\n",
      "            margin: 0;\n",
      "            padding: 20px;\n",
      "            background-color: #f9f9f9;\n",
      "        }\n",
      "        .container {\n",
      "            background-color: #ffffff;\n",
      "            border-radius: 8px;\n",
      "            padding: 20px;\n",
      "            box-shadow: 0 2px 5px rgba(0, 0, 0, 0.1);\n",
      "        }\n",
      "        h1 {\n",
      "            color: #333333;\n",
      "        }\n",
      "        p {\n",
      "            color: #555555;\n",
      "        }\n",
      "        ul {\n",
      "            list-style-type: square;\n",
      "            padding-left: 20px;\n",
      "            color: #555555;\n",
      "        }\n",
      "        .footer {\n",
      "            margin-top: 20px;\n",
      "            color: #777777;\n",
      "        }\n",
      "    </style>\n",
      "</head>\n",
      "<body>\n",
      "\n",
      "<div class=\"container\">\n",
      "    <h1>Hi Mike,</h1>\n",
      "    \n",
      "    <p>I hope this message finds you well.</p>\n",
      "\n",
      "    <p>I’m reaching out to introduce you to <strong>ComplAI</strong>, a powerful SaaS tool designed to streamline the SOC2 compliance process and facilitate audit preparation through advanced AI capabilities.</p>\n",
      "\n",
      "    <p>In today’s regulatory landscape, maintaining compliance can be a daunting task. Our solution automates many aspects of compliance management, significantly reducing the time and resources required while helping you stay ahead of industry requirements.</p>\n",
      "\n",
      "    <h2>With ComplAI, you can expect:</h2>\n",
      "    <ul>\n",
      "        <li>Automated documentation processes that save hours of manual work.</li>\n",
      "        <li>Real-time insights into your compliance status, allowing for proactive management.</li>\n",
      "        <li>Comprehensive support during audits to ensure nothing falls through the cracks.</li>\n",
      "    </ul>\n",
      "\n",
      "    <p>I would love the opportunity to discuss how <strong>ComplAI</strong> can enhance your compliance efforts and support your team’s productivity. Are you available for a brief call next week?</p>\n",
      "\n",
      "    <p>Looking forward to your response.</p>\n",
      "\n",
      "    <div class=\"footer\">\n",
      "        <p>Best regards,<br>\n",
      "        Alice<br>\n",
      "        [Your Position]<br>\n",
      "        ComplAI<br>\n",
      "        [Your Contact Information]<br>\n",
      "        <a href=\"[Your Website]\">[Your Website]</a></p>\n",
      "    </div>\n",
      "</div>\n",
      "\n",
      "</body>\n",
      "</html>\n"
     ]
    }
   ],
   "source": [
    "await main()"
   ]
  },
  {
   "cell_type": "code",
   "execution_count": null,
   "metadata": {},
   "outputs": [],
   "source": []
  }
 ],
 "metadata": {
  "kernelspec": {
   "display_name": ".venv",
   "language": "python",
   "name": "python3"
  },
  "language_info": {
   "codemirror_mode": {
    "name": "ipython",
    "version": 3
   },
   "file_extension": ".py",
   "mimetype": "text/x-python",
   "name": "python",
   "nbconvert_exporter": "python",
   "pygments_lexer": "ipython3",
   "version": "3.12.9"
  }
 },
 "nbformat": 4,
 "nbformat_minor": 2
}
