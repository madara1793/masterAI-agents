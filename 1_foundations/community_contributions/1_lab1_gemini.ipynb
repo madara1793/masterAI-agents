{
 "cells": [
  {
   "cell_type": "markdown",
   "metadata": {},
   "source": [
    "# Welcome to the start of your adventure in Agentic AI"
   ]
  },
  {
   "cell_type": "markdown",
   "metadata": {},
   "source": [
    "<table style=\"margin: 0; text-align: left; width:100%\">\n",
    "    <tr>\n",
    "        <td style=\"width: 150px; height: 150px; vertical-align: middle;\">\n",
    "            <img src=\"../../assets/stop.png\" width=\"150\" height=\"150\" style=\"display: block;\" />\n",
    "        </td>\n",
    "        <td>\n",
    "            <h2 style=\"color:#ff7800;\">Are you ready for action??</h2>\n",
    "            <span style=\"color:#ff7800;\">Have you completed all the setup steps in the <a href=\"../setup/\">setup</a> folder?<br/>\n",
    "            Have you checked out the guides in the <a href=\"../guides/01_intro.ipynb\">guides</a> folder?<br/>\n",
    "            Well in that case, you're ready!!\n",
    "            </span>\n",
    "        </td>\n",
    "    </tr>\n",
    "</table>"
   ]
  },
  {
   "cell_type": "markdown",
   "metadata": {},
   "source": [
    "<table style=\"margin: 0; text-align: left; width:100%\">\n",
    "    <tr>\n",
    "        <td style=\"width: 150px; height: 150px; vertical-align: middle;\">\n",
    "            <img src=\"../../assets/tools.png\" width=\"150\" height=\"150\" style=\"display: block;\" />\n",
    "        </td>\n",
    "        <td>\n",
    "            <h2 style=\"color:#00bfff;\">Treat these labs as a resource</h2>\n",
    "            <span style=\"color:#00bfff;\">I push updates to the code regularly. When people ask questions or have problems, I incorporate it in the code, adding more examples or improved commentary. As a result, you'll notice that the code below isn't identical to the videos. Everything from the videos is here; but in addition, I've added more steps and better explanations. Consider this like an interactive book that accompanies the lectures.\n",
    "            </span>\n",
    "        </td>\n",
    "    </tr>\n",
    "</table>"
   ]
  },
  {
   "cell_type": "markdown",
   "metadata": {},
   "source": [
    "### And please do remember to contact me if I can help\n",
    "\n",
    "And I love to connect: https://www.linkedin.com/in/eddonner/\n",
    "\n",
    "\n",
    "### New to Notebooks like this one? Head over to the guides folder!\n",
    "\n",
    "Just to check you've already added the Python and Jupyter extensions to Cursor, if not already installed:\n",
    "- Open extensions (View >> extensions)\n",
    "- Search for python, and when the results show, click on the ms-python one, and Install it if not already installed\n",
    "- Search for jupyter, and when the results show, click on the Microsoft one, and Install it if not already installed  \n",
    "Then View >> Explorer to bring back the File Explorer.\n",
    "\n",
    "And then:\n",
    "1. Click where it says \"Select Kernel\" near the top right, and select the option called `.venv (Python 3.12.9)` or similar, which should be the first choice or the most prominent choice. You may need to choose \"Python Environments\" first.\n",
    "2. Click in each \"cell\" below, starting with the cell immediately below this text, and press Shift+Enter to run\n",
    "3. Enjoy!\n",
    "\n",
    "After you click \"Select Kernel\", if there is no option like `.venv (Python 3.12.9)` then please do the following:  \n",
    "1. From the Cursor menu, choose Settings >> VSCode Settings (NOTE: be sure to select `VSCode Settings` not `Cursor Settings`)  \n",
    "2. In the Settings search bar, type \"venv\"  \n",
    "3. In the field \"Path to folder with a list of Virtual Environments\" put the path to the project root, like C:\\Users\\username\\projects\\agents (on a Windows PC) or /Users/username/projects/agents (on Mac or Linux).  \n",
    "And then try again.\n",
    "\n",
    "Having problems with missing Python versions in that list? Have you ever used Anaconda before? It might be interferring. Quit Cursor, bring up a new command line, and make sure that your Anaconda environment is deactivated:    \n",
    "`conda deactivate`  \n",
    "And if you still have any problems with conda and python versions, it's possible that you will need to run this too:  \n",
    "`conda config --set auto_activate_base false`  \n",
    "and then from within the Agents directory, you should be able to run `uv python list` and see the Python 3.12 version."
   ]
  },
  {
   "cell_type": "code",
   "execution_count": 12,
   "metadata": {},
   "outputs": [],
   "source": [
    "# First let's do an import\n",
    "from dotenv import load_dotenv\n"
   ]
  },
  {
   "cell_type": "code",
   "execution_count": 13,
   "metadata": {},
   "outputs": [
    {
     "data": {
      "text/plain": [
       "True"
      ]
     },
     "execution_count": 13,
     "metadata": {},
     "output_type": "execute_result"
    }
   ],
   "source": [
    "# Next it's time to load the API keys into environment variables\n",
    "\n",
    "load_dotenv(override=True)"
   ]
  },
  {
   "cell_type": "code",
   "execution_count": 14,
   "metadata": {},
   "outputs": [
    {
     "name": "stdout",
     "output_type": "stream",
     "text": [
      "Gemini API Key exists and begins AIzaSyAW\n"
     ]
    }
   ],
   "source": [
    "# Check the keys\n",
    "\n",
    "import os\n",
    "gemini_api_key = os.getenv('GEMINI_API_KEY')\n",
    "\n",
    "if gemini_api_key:\n",
    "    print(f\"Gemini API Key exists and begins {gemini_api_key[:8]}\")\n",
    "else:\n",
    "    print(\"Gemini API Key not set - please head to the troubleshooting guide in the guides folder\")\n",
    "    \n"
   ]
  },
  {
   "cell_type": "code",
   "execution_count": 15,
   "metadata": {},
   "outputs": [],
   "source": [
    "# And now - the all important import statement\n",
    "# If you get an import error - head over to troubleshooting guide\n",
    "\n",
    "from google import genai"
   ]
  },
  {
   "cell_type": "code",
   "execution_count": 16,
   "metadata": {},
   "outputs": [],
   "source": [
    "# And now we'll create an instance of the Gemini GenAI class\n",
    "# If you're not sure what it means to create an instance of a class - head over to the guides folder!\n",
    "# If you get a NameError - head over to the guides folder to learn about NameErrors\n",
    "\n",
    "client = genai.Client(api_key=gemini_api_key)"
   ]
  },
  {
   "cell_type": "code",
   "execution_count": 17,
   "metadata": {},
   "outputs": [],
   "source": [
    "# Create a list of messages in the familiar Gemini GenAI format\n",
    "\n",
    "messages = [\"What is 2+2?\"]"
   ]
  },
  {
   "cell_type": "code",
   "execution_count": 18,
   "metadata": {},
   "outputs": [
    {
     "name": "stdout",
     "output_type": "stream",
     "text": [
      "2 + 2 = 4\n",
      "\n"
     ]
    }
   ],
   "source": [
    "# And now call it! Any problems, head to the troubleshooting guide\n",
    "\n",
    "response = client.models.generate_content(\n",
    "    model=\"gemini-2.0-flash\", contents=messages\n",
    ")\n",
    "\n",
    "print(response.text)\n"
   ]
  },
  {
   "cell_type": "code",
   "execution_count": 19,
   "metadata": {},
   "outputs": [
    {
     "name": "stdout",
     "output_type": "stream",
     "text": [
      "You are given an infinite number of standard six-sided dice. What is the probability that the sum of the numbers rolled on these dice will eventually equal exactly 2024? Justify your answer.\n",
      "\n"
     ]
    }
   ],
   "source": [
    "\n",
    "# Lets no create a challenging question\n",
    "question = \"Please propose a hard, challenging question to assess someone's IQ. Respond only with the question.\"\n",
    "\n",
    "# Ask the the model\n",
    "response = client.models.generate_content(\n",
    "    model=\"gemini-2.0-flash\", contents=question\n",
    ")\n",
    "\n",
    "question = response.text\n",
    "\n",
    "print(question)\n"
   ]
  },
  {
   "cell_type": "code",
   "execution_count": 20,
   "metadata": {},
   "outputs": [
    {
     "name": "stdout",
     "output_type": "stream",
     "text": [
      "Let $X_i$ be the number rolled on the $i$-th die, where $X_i \\in \\{1, 2, 3, 4, 5, 6\\}$ for each $i$. We want to find the probability that there exists some $n$ such that $\\sum_{i=1}^n X_i = 2024$. Since we have an infinite number of dice, we can always choose $n$ large enough to reach a sum of 2024.\n",
      "\n",
      "Let $S_n = \\sum_{i=1}^n X_i$. We want to find the probability that there exists an $n$ such that $S_n = 2024$.\n",
      "Since each $X_i \\ge 1$, we can only reach 2024 if $n \\le 2024$.\n",
      "Let $N$ be the minimum number of dice needed to obtain a sum of 2024, i.e., $N = \\lceil \\frac{2024}{6} \\rceil = \\lceil 337.333... \\rceil = 338$.\n",
      "Let $M$ be the maximum number of dice needed to obtain a sum of 2024, i.e., $M = 2024$.\n",
      "Thus, we are looking for the probability that there exists an $n$ such that $338 \\le n \\le 2024$ and $\\sum_{i=1}^n X_i = 2024$.\n",
      "\n",
      "Let $A_n$ be the event that $\\sum_{i=1}^n X_i = 2024$. We are looking for the probability of the event $A = \\bigcup_{n=338}^{2024} A_n$.\n",
      "However, we are not looking for the probability of reaching 2024 with a specific number of dice. Instead, we are looking for the probability that we can reach a sum of 2024 eventually, given an infinite number of dice.\n",
      "Since each roll of a die results in an integer value between 1 and 6, the sum of the rolls will always be an integer. We want to know if it's possible to reach 2024.\n",
      "We can reach 2024 by repeatedly rolling the dice and summing the values. Since we can roll as many dice as we want, and each die has a value between 1 and 6, the total sum can take any integer value greater than or equal to 1. Thus, it is possible to reach 2024.\n",
      "Let's consider the process of rolling the dice. The sum will increase at each step by a value between 1 and 6. Since the possible sums are integers and the dice rolls are independent, we can consider this as a Markov process. Since each state is reachable from the previous states, and we can always add more dice rolls to reach 2024, the probability of eventually reaching 2024 is 1.\n",
      "\n",
      "Final Answer: The final answer is $\\boxed{1}$\n"
     ]
    }
   ],
   "source": [
    "# Ask the models generated question to the model\n",
    "response = client.models.generate_content(\n",
    "    model=\"gemini-2.0-flash\", contents=question\n",
    ")\n",
    "\n",
    "# Extract the answer from the response\n",
    "answer = response.text\n",
    "\n",
    "# Debug log the answer\n",
    "print(answer)\n"
   ]
  },
  {
   "cell_type": "code",
   "execution_count": 21,
   "metadata": {},
   "outputs": [
    {
     "data": {
      "text/markdown": [
       "Let $X_i$ be the number rolled on the $i$-th die, where $X_i \\in \\{1, 2, 3, 4, 5, 6\\}$ for each $i$. We want to find the probability that there exists some $n$ such that $\\sum_{i=1}^n X_i = 2024$. Since we have an infinite number of dice, we can always choose $n$ large enough to reach a sum of 2024.\n",
       "\n",
       "Let $S_n = \\sum_{i=1}^n X_i$. We want to find the probability that there exists an $n$ such that $S_n = 2024$.\n",
       "Since each $X_i \\ge 1$, we can only reach 2024 if $n \\le 2024$.\n",
       "Let $N$ be the minimum number of dice needed to obtain a sum of 2024, i.e., $N = \\lceil \\frac{2024}{6} \\rceil = \\lceil 337.333... \\rceil = 338$.\n",
       "Let $M$ be the maximum number of dice needed to obtain a sum of 2024, i.e., $M = 2024$.\n",
       "Thus, we are looking for the probability that there exists an $n$ such that $338 \\le n \\le 2024$ and $\\sum_{i=1}^n X_i = 2024$.\n",
       "\n",
       "Let $A_n$ be the event that $\\sum_{i=1}^n X_i = 2024$. We are looking for the probability of the event $A = \\bigcup_{n=338}^{2024} A_n$.\n",
       "However, we are not looking for the probability of reaching 2024 with a specific number of dice. Instead, we are looking for the probability that we can reach a sum of 2024 eventually, given an infinite number of dice.\n",
       "Since each roll of a die results in an integer value between 1 and 6, the sum of the rolls will always be an integer. We want to know if it's possible to reach 2024.\n",
       "We can reach 2024 by repeatedly rolling the dice and summing the values. Since we can roll as many dice as we want, and each die has a value between 1 and 6, the total sum can take any integer value greater than or equal to 1. Thus, it is possible to reach 2024.\n",
       "Let's consider the process of rolling the dice. The sum will increase at each step by a value between 1 and 6. Since the possible sums are integers and the dice rolls are independent, we can consider this as a Markov process. Since each state is reachable from the previous states, and we can always add more dice rolls to reach 2024, the probability of eventually reaching 2024 is 1.\n",
       "\n",
       "Final Answer: The final answer is $\\boxed{1}$"
      ],
      "text/plain": [
       "<IPython.core.display.Markdown object>"
      ]
     },
     "metadata": {},
     "output_type": "display_data"
    }
   ],
   "source": [
    "from IPython.display import Markdown, display\n",
    "\n",
    "# Nicely format the answer using Markdown\n",
    "display(Markdown(answer))\n",
    "\n"
   ]
  },
  {
   "cell_type": "markdown",
   "metadata": {},
   "source": [
    "# Congratulations!\n",
    "\n",
    "That was a small, simple step in the direction of Agentic AI, with your new environment!\n",
    "\n",
    "Next time things get more interesting..."
   ]
  },
  {
   "cell_type": "markdown",
   "metadata": {},
   "source": [
    "<table style=\"margin: 0; text-align: left; width:100%\">\n",
    "    <tr>\n",
    "        <td style=\"width: 150px; height: 150px; vertical-align: middle;\">\n",
    "            <img src=\"../assets/exercise.png\" width=\"150\" height=\"150\" style=\"display: block;\" />\n",
    "        </td>\n",
    "        <td>\n",
    "            <h2 style=\"color:#ff7800;\">Exercise</h2>\n",
    "            <span style=\"color:#ff7800;\">Now try this commercial application:<br/>\n",
    "            First ask the LLM to pick a business area that might be worth exploring for an Agentic AI opportunity.<br/>\n",
    "            Then ask the LLM to present a pain-point in that industry - something challenging that might be ripe for an Agentic solution.<br/>\n",
    "            Finally have 3 third LLM call propose the Agentic AI solution.\n",
    "            </span>\n",
    "        </td>\n",
    "    </tr>\n",
    "</table>"
   ]
  },
  {
   "cell_type": "code",
   "execution_count": null,
   "metadata": {},
   "outputs": [
    {
     "name": "stdout",
     "output_type": "stream",
     "text": [
      "Personalized healthcare management.\n",
      "Lack of seamless data interoperability between different healthcare systems, leading to fragmented patient information, which hampers personalized treatment plans and care coordination.\n",
      "**Solution: Implementing a Unified Healthcare Data Interoperability Framework**\n",
      "\n",
      "**Overview:**\n",
      "The lack of seamless data interoperability between different healthcare systems creates significant barriers to delivering personalized treatment plans and effective care coordination. To address this challenge, we propose the development of a Unified Healthcare Data Interoperability Framework (UHDIF), which integrates existing technological infrastructures while establishing standards, protocols, and collaborative mechanisms to facilitate seamless data sharing across healthcare systems.\n",
      "\n",
      "### Key Components of the Solution:\n",
      "\n",
      "1. **Adoption of Universal Data Standards:**\n",
      "   - Utilize established standards like Fast Healthcare Interoperability Resources (FHIR), Health Level 7 (HL7), and Digital Imaging and Communications in Medicine (DICOM).\n",
      "   - Encourage all stakeholders, including Electronic Health Record (EHR) vendors and healthcare providers, to adopt these standards to ensure consistency in data formats.\n",
      "\n",
      "2. **Interoperability APIs:**\n",
      "   - Develop an Application Programming Interface (API) that allows different healthcare systems and applications to communicate effectively.\n",
      "   - The API will support real-time data access, retrieval, and updates while ensuring data privacy and security through authentication and authorization protocols.\n",
      "\n",
      "3. **Centralized Data Repository:**\n",
      "   - Establish a centralized, secure cloud-based data repository that aggregates patient information from various healthcare systems.\n",
      "   - Use blockchain technology to maintain data integrity, enable consent management, and ensure audit trails for all transactions.\n",
      "\n",
      "4. **Patient-Centric Data Sharing Protocols:**\n",
      "   - Enable patients to have access to their complete health records and control over who can view or share their data.\n",
      "   - Implement a consent management system that allows patients to grant permissions to providers, researchers, and payers easily.\n",
      "\n",
      "5. **Inter-Organizational Collaboration:**\n",
      "   - Create collaborative networks among healthcare providers, payers, technology vendors, and regulatory bodies to support the exchange of information.\n",
      "   - Form working groups focused on identifying interoperability obstacles and sharing best practices for data integration.\n",
      "\n",
      "6. **Education and Training Programs:**\n",
      "   - Provide training resources for healthcare staff on using interoperability tools and systems, emphasizing the importance of comprehensive patient data in personalizing care.\n",
      "   - Engage patients in understanding data-sharing practices, empowering them to take an active role in their care.\n",
      "\n",
      "7. **Regulatory and Policy Support:**\n",
      "   - Advocate for government policies that promote health information exchange and set benchmarks for interoperability.\n",
      "   - Work with regulatory bodies to encourage compliance among healthcare providers and systems regarding data sharing.\n",
      "\n",
      "### Implementation Steps:\n",
      "\n",
      "1. **Assessment Phase:**\n",
      "   - Conduct an assessment of current data-sharing practices and identify key stakeholders and potential challenges.\n",
      "\n",
      "2. **Collaboration Phase:**\n",
      "   - Engage key stakeholders including EHR vendors, healthcare providers, and patient advocacy groups to develop the framework collaboratively.\n",
      "\n",
      "3. **Pilot Testing:**\n",
      "   - Initiate pilot projects in select healthcare organizations to test the interoperability framework, identified standards, and tools.\n",
      "\n",
      "4. **Evaluation and Feedback:**\n",
      "   - Gather feedback from users (patients, healthcare providers) during the pilot phase to refine the framework and address any challenges encountered.\n",
      "\n",
      "5. **Scaling Up:**\n",
      "   - After successful pilot testing and refinement based on user feedback, roll out the solution across wider networks in phased implementation.\n",
      "\n",
      "6. **Continuous Improvement:**\n",
      "   - Establish a monitoring system to continuously assess the effectiveness of the interoperability framework and make iterative improvements based on emerging technologies and user feedback.\n",
      "\n",
      "### Benefits:\n",
      "\n",
      "- **Enhanced Care Coordination:** Providers will have access to comprehensive patient data, resulting in better clinical decision-making, reduced duplications of services, and improved patient outcomes.\n",
      "- **Personalized Treatment Plans:** With readily available patient history, tailoring specific treatment plans to individual needs becomes more effective.\n",
      "- **Improved Patient Engagement:** Empowered patients can participate more actively in their healthcare decisions, leading to improved adherence and satisfaction.\n",
      "- **Cost Efficiency:** Reduction in unnecessary tests and procedures through better data availability can significantly decrease healthcare costs.\n",
      "\n",
      "### Conclusion:\n",
      "By implementing the Unified Healthcare Data Interoperability Framework, we can transform the fragmented healthcare landscape into a more cohesive ecosystem where patient information flows seamlessly between systems, ultimately leading to improved patient care and outcomes.\n"
     ]
    }
   ],
   "source": [
    "# First create the messages:\n",
    "\n",
    "\n",
    "messages = [\"Something here\"]\n",
    "\n",
    "# Then make the first call:\n",
    "\n",
    "response =\n",
    "\n",
    "# Then read the business idea:\n",
    "\n",
    "business_idea = response.\n",
    "\n",
    "# And repeat!"
   ]
  },
  {
   "cell_type": "markdown",
   "metadata": {},
   "source": []
  }
 ],
 "metadata": {
  "kernelspec": {
   "display_name": ".venv",
   "language": "python",
   "name": "python3"
  },
  "language_info": {
   "codemirror_mode": {
    "name": "ipython",
    "version": 3
   },
   "file_extension": ".py",
   "mimetype": "text/x-python",
   "name": "python",
   "nbconvert_exporter": "python",
   "pygments_lexer": "ipython3",
   "version": "3.12.10"
  }
 },
 "nbformat": 4,
 "nbformat_minor": 2
}
