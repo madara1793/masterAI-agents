{
 "cells": [
  {
   "cell_type": "markdown",
   "metadata": {},
   "source": [
    "Week 5 Day 2\n",
    "\n",
    "### AutoGen AgentChat - Going deeper..\n",
    "\n",
    "1. Multi-modal conversation\n",
    "2. Structured Outputs\n",
    "3. Using LangChain tools\n",
    "4. Teams\n",
    "\n",
    "...and a special surprise extra piece"
   ]
  },
  {
   "cell_type": "code",
   "execution_count": 1,
   "metadata": {},
   "outputs": [
    {
     "data": {
      "text/plain": [
       "True"
      ]
     },
     "execution_count": 1,
     "metadata": {},
     "output_type": "execute_result"
    }
   ],
   "source": [
    "from io import BytesIO\n",
    "import requests\n",
    "from autogen_agentchat.messages import TextMessage, MultiModalMessage\n",
    "from autogen_core import Image as AGImage\n",
    "from PIL import Image\n",
    "from dotenv import load_dotenv\n",
    "from autogen_ext.models.openai import OpenAIChatCompletionClient\n",
    "from autogen_agentchat.agents import AssistantAgent\n",
    "from autogen_core import CancellationToken\n",
    "from IPython.display import display, Markdown\n",
    "from pydantic import BaseModel, Field\n",
    "from typing import Literal\n",
    "\n",
    "load_dotenv(override=True)\n"
   ]
  },
  {
   "cell_type": "markdown",
   "metadata": {},
   "source": [
    "### A multi-modal conversation"
   ]
  },
  {
   "cell_type": "code",
   "execution_count": null,
   "metadata": {},
   "outputs": [],
   "source": [
    "url = \"https://edwarddonner.com/wp-content/uploads/2024/10/from-software-engineer-to-AI-DS.jpeg\"\n",
    "\n",
    "pil_image = Image.open(BytesIO(requests.get(url).content))\n",
    "img = AGImage(pil_image)\n",
    "img"
   ]
  },
  {
   "cell_type": "code",
   "execution_count": 3,
   "metadata": {},
   "outputs": [],
   "source": [
    "multi_modal_message = MultiModalMessage(content=[\"Describe the content of this image in detail\", img], source=\"User\")"
   ]
  },
  {
   "cell_type": "code",
   "execution_count": null,
   "metadata": {},
   "outputs": [],
   "source": [
    "model_client = OpenAIChatCompletionClient(model=\"gpt-4o-mini\")\n",
    "\n",
    "describer = AssistantAgent(\n",
    "    name=\"description_agent\",\n",
    "    model_client=model_client,\n",
    "    system_message=\"You are good at describing images\",\n",
    ")\n",
    "\n",
    "response = await describer.on_messages([multi_modal_message], cancellation_token=CancellationToken())\n",
    "reply = response.chat_message.content\n",
    "display(Markdown(reply))"
   ]
  },
  {
   "cell_type": "markdown",
   "metadata": {},
   "source": [
    "### Structured Outputs!\n",
    "\n",
    "Autogen AgentChat makes it easy."
   ]
  },
  {
   "cell_type": "code",
   "execution_count": 5,
   "metadata": {},
   "outputs": [],
   "source": [
    "\n",
    "class ImageDescription(BaseModel):\n",
    "    scene: str = Field(description=\"Briefly, the overall scene of the image\")\n",
    "    message: str = Field(description=\"The point that the image is trying to convey\")\n",
    "    style: str = Field(description=\"The artistic style of the image\")\n",
    "    orientation: Literal[\"portrait\", \"landscape\", \"square\"] = Field(description=\"The orientation of the image\")\n"
   ]
  },
  {
   "cell_type": "code",
   "execution_count": null,
   "metadata": {},
   "outputs": [],
   "source": [
    "model_client = OpenAIChatCompletionClient(model=\"gpt-4o-mini\")\n",
    "\n",
    "describer = AssistantAgent(\n",
    "    name=\"description_agent\",\n",
    "    model_client=model_client,\n",
    "    system_message=\"You are good at describing images in detail\",\n",
    "    output_content_type=ImageDescription,\n",
    ")\n",
    "\n",
    "response = await describer.on_messages([multi_modal_message], cancellation_token=CancellationToken())\n",
    "reply = response.chat_message.content\n",
    "reply"
   ]
  },
  {
   "cell_type": "code",
   "execution_count": null,
   "metadata": {},
   "outputs": [],
   "source": [
    "import textwrap\n",
    "print(f\"Scene:\\n{textwrap.fill(reply.scene)}\\n\\n\")\n",
    "print(f\"Message:\\n{textwrap.fill(reply.message)}\\n\\n\")\n",
    "print(f\"Style:\\n{textwrap.fill(reply.style)}\\n\\n\")\n",
    "print(f\"Orientation:\\n{textwrap.fill(reply.orientation)}\\n\\n\")"
   ]
  },
  {
   "cell_type": "markdown",
   "metadata": {},
   "source": [
    "### Using LangChain tools from AutoGen"
   ]
  },
  {
   "cell_type": "code",
   "execution_count": null,
   "metadata": {},
   "outputs": [],
   "source": [
    "# AutoGen's wrapper:\n",
    "\n",
    "from autogen_ext.tools.langchain import LangChainToolAdapter\n",
    "\n",
    "# LangChain tools:\n",
    "\n",
    "from langchain_community.utilities import GoogleSerperAPIWrapper\n",
    "from langchain_community.agent_toolkits import FileManagementToolkit\n",
    "from langchain.agents import Tool\n",
    "\n",
    "\n",
    "prompt = \"\"\"Your task is to find a one-way non-stop flight from JFK to LHR in June 2025.\n",
    "First search online for promising deals.\n",
    "Next, write all the deals to a file called flights.md with full details.\n",
    "Finally, select the one you think is best and reply with a short summary.\n",
    "Reply with the selected flight only, and only after you have written the details to the file.\"\"\"\n",
    "\n",
    "\n",
    "serper = GoogleSerperAPIWrapper()\n",
    "langchain_serper =Tool(name=\"internet_search\", func=serper.run, description=\"useful for when you need to search the internet\")\n",
    "autogen_serper = LangChainToolAdapter(langchain_serper)\n",
    "autogen_tools = [autogen_serper]\n",
    "\n",
    "langchain_file_management_tools = FileManagementToolkit(root_dir=\"sandbox\").get_tools()\n",
    "for tool in langchain_file_management_tools:\n",
    "    autogen_tools.append(LangChainToolAdapter(tool))\n",
    "\n",
    "for tool in autogen_tools:\n",
    "    print(tool.name, tool.description)\n",
    "\n",
    "model_client = OpenAIChatCompletionClient(model=\"gpt-4o-mini\")\n",
    "agent = AssistantAgent(name=\"searcher\", model_client=model_client, tools=autogen_tools, reflect_on_tool_use=True)\n",
    "message = TextMessage(content=prompt, source=\"user\")\n",
    "result = await agent.on_messages([message], cancellation_token=CancellationToken())\n",
    "for message in result.inner_messages:\n",
    "    print(message.content)\n",
    "display(Markdown(result.chat_message.content))"
   ]
  },
  {
   "cell_type": "code",
   "execution_count": null,
   "metadata": {},
   "outputs": [],
   "source": [
    "# Now we need to call the agent again to write the file\n",
    "\n",
    "message = TextMessage(content=\"OK proceed\", source=\"user\")\n",
    "\n",
    "result = await agent.on_messages([message], cancellation_token=CancellationToken())\n",
    "for message in result.inner_messages:\n",
    "    print(message.content)\n",
    "display(Markdown(result.chat_message.content))"
   ]
  },
  {
   "cell_type": "markdown",
   "metadata": {},
   "source": [
    "### Team interactions"
   ]
  },
  {
   "cell_type": "code",
   "execution_count": 2,
   "metadata": {},
   "outputs": [],
   "source": [
    "from autogen_agentchat.agents import AssistantAgent\n",
    "from autogen_agentchat.conditions import  TextMentionTermination\n",
    "from autogen_agentchat.teams import RoundRobinGroupChat\n",
    "\n",
    "from autogen_ext.tools.langchain import LangChainToolAdapter\n",
    "from langchain_community.utilities import GoogleSerperAPIWrapper\n",
    "from langchain.agents import Tool\n",
    "\n",
    "serper = GoogleSerperAPIWrapper()\n",
    "langchain_serper =Tool(name=\"internet_search\", func=serper.run, description=\"useful for when you need to search the internet\")\n",
    "autogen_serper = LangChainToolAdapter(langchain_serper)\n",
    "\n",
    "model_client = OpenAIChatCompletionClient(model=\"gpt-4o-mini\")\n",
    "\n",
    "\n",
    "prompt = \"\"\"Find a one-way non-stop flight from JFK to LHR in June 2025.\"\"\"\n",
    "\n",
    "\n",
    "primary_agent = AssistantAgent(\n",
    "    \"primary\",\n",
    "    model_client=model_client,\n",
    "    tools=[autogen_serper],\n",
    "    system_message=\"You are a helpful AI research assistant who looks for promising deals on flights. Incorporate any feedback you receive.\",\n",
    ")\n",
    "\n",
    "evaluation_agent = AssistantAgent(\n",
    "    \"evaluator\",\n",
    "    model_client=model_client,\n",
    "    system_message=\"Provide constructive feedback. Respond with 'APPROVE' when your feedback is addressed.\",\n",
    ")\n",
    "\n",
    "text_termination = TextMentionTermination(\"APPROVE\")\n",
    "\n",
    "team = RoundRobinGroupChat([primary_agent, evaluation_agent], termination_condition=text_termination)\n"
   ]
  },
  {
   "cell_type": "code",
   "execution_count": 3,
   "metadata": {},
   "outputs": [
    {
     "name": "stdout",
     "output_type": "stream",
     "text": [
      "user:\n",
      "Find a one-way non-stop flight from JFK to LHR in June 2025.\n",
      "\n",
      "\n",
      "primary:\n",
      "[FunctionCall(id='call_ElhWbybmgoAOTWETQ3ZwMKWU', arguments='{\"query\":\"one-way non-stop flights from JFK to LHR June 2025\"}', name='internet_search')]\n",
      "\n",
      "\n",
      "primary:\n",
      "[FunctionExecutionResult(content='Need to get from New York to London? With fares from $402, we offer a great choice of food, drinks and onboard entertainment & WiFi. Cheap Flights from New York (JFK) to London (LHR) start at $187 for one-way and $459 for round trip. Earn your airline miles on top of our rewards! Discover flight offers to London with Virgin Atlantic. With fares from $497, we offer a great choice of food, drinks and onboard entertainment & WiFi. Looking for a cheap flight? 25% of our users found flights on this route for $338 or less one-way and $582 or less round-trip. JetBlue offers 14 nonstop flights and 31 connecting flights per week. JetBlue flies from John F. Kennedy International Airport (JFK), LaGuardia Airport (LGA) to ... Search for cheap flights deals from JFK to LHR (John F. Kennedy Intl. to Heathrow). We offer cheap direct, non-stop flights including one way and roundtrip Missing: June | Show results with:June. Kennedy to London Heathrow? Find the lowest prices on one-way and round-trip tickets right here. Missing: June | Show results with:June. Popular JetBlue flights to London. · New York (JFK)to. London (LHR). May 4. from. $314*. one-way. Book now · Boston (BOS)to. London (LHR). May 3. from. $303*. one ... Find the Best Time to Book Cheap Flights from New York to London ; Apr 2025 · $129 ; May 2025 · $159 ; Jun 2025 · $239 ; Jul 2025 · $139 ; Aug 2025 · $339 ... Find Delta airfare deals on flights to London, England. Fly nonstop to LHR from JFK, ATL, BOS, DTW, MSP, LAX, SEA & SLC plus nonstop to LGW from JFK.', name='internet_search', call_id='call_ElhWbybmgoAOTWETQ3ZwMKWU', is_error=False)]\n",
      "\n",
      "\n",
      "primary:\n",
      "Need to get from New York to London? With fares from $402, we offer a great choice of food, drinks and onboard entertainment & WiFi. Cheap Flights from New York (JFK) to London (LHR) start at $187 for one-way and $459 for round trip. Earn your airline miles on top of our rewards! Discover flight offers to London with Virgin Atlantic. With fares from $497, we offer a great choice of food, drinks and onboard entertainment & WiFi. Looking for a cheap flight? 25% of our users found flights on this route for $338 or less one-way and $582 or less round-trip. JetBlue offers 14 nonstop flights and 31 connecting flights per week. JetBlue flies from John F. Kennedy International Airport (JFK), LaGuardia Airport (LGA) to ... Search for cheap flights deals from JFK to LHR (John F. Kennedy Intl. to Heathrow). We offer cheap direct, non-stop flights including one way and roundtrip Missing: June | Show results with:June. Kennedy to London Heathrow? Find the lowest prices on one-way and round-trip tickets right here. Missing: June | Show results with:June. Popular JetBlue flights to London. · New York (JFK)to. London (LHR). May 4. from. $314*. one-way. Book now · Boston (BOS)to. London (LHR). May 3. from. $303*. one ... Find the Best Time to Book Cheap Flights from New York to London ; Apr 2025 · $129 ; May 2025 · $159 ; Jun 2025 · $239 ; Jul 2025 · $139 ; Aug 2025 · $339 ... Find Delta airfare deals on flights to London, England. Fly nonstop to LHR from JFK, ATL, BOS, DTW, MSP, LAX, SEA & SLC plus nonstop to LGW from JFK.\n",
      "\n",
      "\n",
      "evaluator:\n",
      "Your response contains a lot of good information about flight options from New York to London, but it lacks a specific answer to the inquiry for a one-way non-stop flight from JFK to LHR in June 2025. Here are some suggestions to improve your response:\n",
      "\n",
      "1. **Focus on User's Request**: Begin with an explicit answer to the user's specific request: \"For a one-way non-stop flight from JFK to LHR in June 2025, consider checking airlines like Virgin Atlantic and Delta, as they offer non-stop flights.\"\n",
      "\n",
      "2. **Clarify Dates**: Since the user asked for flights in June 2025 specifically, you might want to mention that flight schedules and fares for that time frame may not be fully available yet, but to monitor prices as the date approaches.\n",
      "\n",
      "3. **Organize Information**: Use bullet points or headings to clearly separate airlines, fares, and flight characteristics, which helps the user quickly locate the information they're looking for.\n",
      "\n",
      "4. **Remove Redundant Information**: Some of the information provided is repetitive and confusing. Streamline your response to focus on the relevant details.\n",
      "\n",
      "5. **Include a Call to Action**: Encourage the user to check airline websites or flight comparison tools for the most up-to-date information as the travel date approaches.\n",
      "\n",
      "By addressing these points, your response will be much more helpful and aligned with the user's needs. \n",
      "\n",
      "Once you've made these adjustments, please let me know to confirm that I approve the changes.\n",
      "\n",
      "\n",
      "primary:\n",
      "Thank you for the feedback! Here’s a revised response that focuses on the user's request for a one-way non-stop flight from JFK to LHR in June 2025:\n",
      "\n",
      "---\n",
      "\n",
      "For a one-way non-stop flight from JFK (John F. Kennedy International Airport) to LHR (London Heathrow Airport) in June 2025, consider the following options:\n",
      "\n",
      "### Airlines Offering Non-Stop Flights:\n",
      "- **Virgin Atlantic**\n",
      "- **Delta Air Lines**\n",
      "\n",
      "### Estimated Fares:\n",
      "- Prices for one-way non-stop flights are expected to start at approximately **$239** based on recent trends for that month.\n",
      "\n",
      "### Additional Notes:\n",
      "- Availability and specific flight schedules for June 2025 may not be fully released yet, so it's a good idea to monitor prices as the date approaches.\n",
      "- Many users have reported bookings in the range of **$338 or less** for this route, so keep an eye out for deals.\n",
      "\n",
      "### Call to Action:\n",
      "- Check the official websites of the airlines mentioned or use flight comparison tools for the most current options and pricing as your travel date approaches.\n",
      "\n",
      "---\n",
      "\n",
      "Please let me know if you would like any further adjustments!\n",
      "\n",
      "\n",
      "evaluator:\n",
      "APPROVE\n",
      "\n",
      "\n"
     ]
    }
   ],
   "source": [
    "result = await team.run(task=prompt)\n",
    "for message in result.messages:\n",
    "    print(f\"{message.source}:\\n{message.content}\\n\\n\")\n"
   ]
  },
  {
   "cell_type": "markdown",
   "metadata": {},
   "source": [
    "### Drumroll..\n",
    "\n",
    "## Introducing MCP!\n",
    "\n",
    "Our first look at the Model Context Protocol from Anthropic -\n",
    "\n",
    "Autogen makes it easy to use MCP tools, just like LangChain tools."
   ]
  },
  {
   "cell_type": "code",
   "execution_count": 4,
   "metadata": {},
   "outputs": [
    {
     "data": {
      "text/markdown": [
       "# Summary of Edward Donner's Website\n",
       "\n",
       "## Introduction\n",
       "\n",
       "Edward Donner is a technology enthusiast with a focus on coding and experimenting with Large Language Models (LLMs). In addition to his technical pursuits, he has interests in DJing, electronic music production, and engaging with topics on Hacker News.\n",
       "\n",
       "## Professional Background\n",
       "\n",
       "- **Current Role**: Co-founder and CTO of [Nebula.io](https://nebula.io)\n",
       "  - **Mission**: Nebula aims to leverage AI in aiding individuals to discover their potential and achieve their life goals. The platform is utilized by recruiters for sourcing and managing talent.\n",
       "  \n",
       "- **Previous Experience**: Founder and CEO of **untapt**, an AI startup acquired in 2021. The company specialized in talent management.\n",
       "\n",
       "## Notable Achievements\n",
       "\n",
       "- Developed proprietary LLMs tailored for talent matching.\n",
       "- Patent holder for their matching model.\n",
       "- Achieved significant media coverage and customer satisfaction with their platform.\n",
       "\n",
       "## Networking\n",
       "\n",
       "Edward encourages connections through his [LinkedIn profile](https://www.linkedin.com/in/eddonner/).\n",
       "\n",
       "---\n",
       "\n",
       "This summary encapsulates the key aspects of Edward Donner's professional endeavors and interests as presented on his website. \n",
       "\n",
       "TERMINATE"
      ],
      "text/plain": [
       "<IPython.core.display.Markdown object>"
      ]
     },
     "metadata": {},
     "output_type": "display_data"
    }
   ],
   "source": [
    "from autogen_agentchat.agents import AssistantAgent\n",
    "from autogen_ext.models.openai import OpenAIChatCompletionClient\n",
    "from autogen_ext.tools.mcp import StdioServerParams, mcp_server_tools\n",
    "\n",
    "# Get the fetch tool from mcp-server-fetch.\n",
    "fetch_mcp_server = StdioServerParams(command=\"uvx\", args=[\"mcp-server-fetch\"])\n",
    "fetcher = await mcp_server_tools(fetch_mcp_server)\n",
    "\n",
    "# Create an agent that can use the fetch tool.\n",
    "model_client = OpenAIChatCompletionClient(model=\"gpt-4o-mini\")\n",
    "agent = AssistantAgent(name=\"fetcher\", model_client=model_client, tools=fetcher, reflect_on_tool_use=True)  # type: ignore\n",
    "\n",
    "# Let the agent fetch the content of a URL and summarize it.\n",
    "result = await agent.run(task=\"Review edwarddonner.com and summarize what you learn. Reply in Markdown.\")\n",
    "display(Markdown(result.messages[-1].content))"
   ]
  },
  {
   "cell_type": "code",
   "execution_count": null,
   "metadata": {},
   "outputs": [],
   "source": []
  }
 ],
 "metadata": {
  "kernelspec": {
   "display_name": ".venv",
   "language": "python",
   "name": "python3"
  },
  "language_info": {
   "codemirror_mode": {
    "name": "ipython",
    "version": 3
   },
   "file_extension": ".py",
   "mimetype": "text/x-python",
   "name": "python",
   "nbconvert_exporter": "python",
   "pygments_lexer": "ipython3",
   "version": "3.12.9"
  }
 },
 "nbformat": 4,
 "nbformat_minor": 2
}
