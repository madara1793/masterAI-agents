{
 "cells": [
  {
   "cell_type": "code",
   "execution_count": 1,
   "metadata": {},
   "outputs": [],
   "source": [
    "from autogen_ext.runtimes.grpc import GrpcWorkerAgentRuntimeHost\n",
    "from agent import Agent\n",
    "from creator import Creator\n",
    "from autogen_ext.runtimes.grpc import GrpcWorkerAgentRuntime\n",
    "from autogen_core import AgentId\n",
    "from messages import Message\n",
    "import glob\n",
    "import importlib\n",
    "import os"
   ]
  },
  {
   "cell_type": "code",
   "execution_count": 2,
   "metadata": {},
   "outputs": [],
   "source": [
    "\n",
    "host = GrpcWorkerAgentRuntimeHost(address=\"localhost:50051\")\n",
    "host.start() "
   ]
  },
  {
   "cell_type": "code",
   "execution_count": 3,
   "metadata": {},
   "outputs": [
    {
     "name": "stdout",
     "output_type": "stream",
     "text": [
      "AgentType(type='Creator')\n"
     ]
    }
   ],
   "source": [
    "creator_worker = GrpcWorkerAgentRuntime(host_address=\"localhost:50051\")\n",
    "name = \"Creator\"\n",
    "await creator_worker.start()\n",
    "result = await Creator.register(creator_worker, name, lambda: Creator(name))\n",
    "print(result)\n",
    "creator_id = AgentId(name, \"default\")"
   ]
  },
  {
   "cell_type": "code",
   "execution_count": 4,
   "metadata": {},
   "outputs": [
    {
     "name": "stderr",
     "output_type": "stream",
     "text": [
      "About to generate agent: agent3.py\n",
      "INFO:autogen_core.trace:About to generate agent: agent3.py\n",
      "Generated agent: agent3.py\n",
      "INFO:autogen_core.trace:Generated agent: agent3.py\n",
      "Wrote agent to file: agent3.py\n",
      "INFO:autogen_core.trace:Wrote agent to file: agent3.py\n",
      "About to generate agent: agent4.py\n",
      "INFO:autogen_core.trace:About to generate agent: agent4.py\n",
      "Generated agent: agent4.py\n",
      "INFO:autogen_core.trace:Generated agent: agent4.py\n",
      "Wrote agent to file: agent4.py\n",
      "INFO:autogen_core.trace:Wrote agent to file: agent4.py\n"
     ]
    },
    {
     "name": "stdout",
     "output_type": "stream",
     "text": [
      "Creating agent agent3.py\n",
      "Creating agent agent4.py\n"
     ]
    }
   ],
   "source": [
    "async def create_agents():\n",
    "    how_many_agents = 2\n",
    "    new_agents = 0\n",
    "    count = 1\n",
    "\n",
    "    while new_agents < how_many_agents:\n",
    "        name = f\"agent{count}.py\"\n",
    "        if not os.path.exists(name):\n",
    "            print(f\"Creating agent {name}\")\n",
    "            await creator_worker.send_message(Message(content=name), creator_id)\n",
    "            new_agents += 1\n",
    "        count += 1\n",
    "\n",
    "await create_agents()"
   ]
  },
  {
   "cell_type": "code",
   "execution_count": 5,
   "metadata": {},
   "outputs": [
    {
     "name": "stdout",
     "output_type": "stream",
     "text": [
      "Imagine a platform that connects businesses with freelance accessibility consultants who specialize in digital inclusivity. This service would offer tailored audits and recommendations for websites and applications, ensuring compliance with accessibility standards while enhancing user experience for individuals with disabilities. By fostering a culture of inclusivity, this platform not only empowers users but also helps businesses tap into a wider audience, driving both social impact and economic growth.\n",
      "Consider launching a subscription service that delivers curated art and music experiences directly to consumers' homes. Each month, subscribers receive a box containing limited-edition prints from emerging artists, a playlist of new music curated by genre or theme, and an accompanying booklet that explores the cultural significance of the featured works. This idea not only supports artists and musicians but also fosters a deeper appreciation of art and music history among subscribers, creating a unique community around cultural engagement.\n",
      "Introducing \"HealthEd AI,\" a revolutionary platform that combines personalized health education with AI-driven insights. By leveraging Agentic AI, users can receive tailored wellness plans and educational resources based on their unique health profiles and learning preferences. This approach not only empowers individuals to take charge of their health but also disrupts traditional healthcare education by making it interactive, engaging, and accessible anytime, anywhere.\n",
      "Develop a platform that connects homeowners with local renewable energy providers, facilitating the installation of solar panels and wind turbines. This platform can leverage smart technology to analyze energy consumption patterns, recommend optimal renewable solutions, and offer financing options, ultimately promoting sustainable living while reducing dependency on fossil fuels. Additionally, incorporate a community-driven feedback system to share experiences and tips on maintaining eco-friendly practices, fostering a network of environmentally conscious individuals.\n",
      "Launch a subscription-based service that delivers eco-friendly household products, such as biodegradable cleaning supplies, reusable kitchen items, and zero-waste personal care products, directly to consumers. This business can incorporate a rewards program that encourages customers to return used containers for recycling, fostering a circular economy. By educating subscribers on sustainability practices through monthly newsletters, you can inspire a community that prioritizes eco-conscious living.\n"
     ]
    }
   ],
   "source": [
    "workers = []\n",
    "agent_ids = []\n",
    "count = 1\n",
    "\n",
    "async def run_agents():\n",
    "\n",
    "    agent_files = glob.glob(\"agent*.py\")\n",
    "    module_names = [os.path.splitext(file)[0] for file in agent_files]\n",
    "        \n",
    "    for name in module_names:\n",
    "        try:\n",
    "            module = importlib.import_module(name)\n",
    "            worker = GrpcWorkerAgentRuntime(host_address=\"localhost:50051\")\n",
    "            await worker.start()\n",
    "            await module.Agent.register(worker, name, lambda: module.Agent(name))\n",
    "            workers.append(worker)\n",
    "            agent_id = AgentId(name, \"default\")\n",
    "            agent_ids.append(agent_id)\n",
    "            response = await worker.send_message(Message(content=\"Please give me brief business idea in 2-3 sentences.\"), agent_id)\n",
    "            print(response.content)\n",
    "        except Exception as e:\n",
    "            print(f\"Error with this agent: {name}: {e}\")\n",
    "\n",
    "await run_agents()"
   ]
  },
  {
   "cell_type": "code",
   "execution_count": null,
   "metadata": {},
   "outputs": [],
   "source": [
    "for worker in workers + [creator_worker]:\n",
    "    try:\n",
    "        await worker.stop()\n",
    "    except Exception as e:\n",
    "        print(f\"Error stopping worker: {e}\")\n",
    "try:\n",
    "    await host.stop()   \n",
    "except Exception as e:\n",
    "    print(f\"Error stopping host: {e}\")"
   ]
  },
  {
   "cell_type": "code",
   "execution_count": null,
   "metadata": {},
   "outputs": [],
   "source": []
  }
 ],
 "metadata": {
  "kernelspec": {
   "display_name": ".venv",
   "language": "python",
   "name": "python3"
  },
  "language_info": {
   "codemirror_mode": {
    "name": "ipython",
    "version": 3
   },
   "file_extension": ".py",
   "mimetype": "text/x-python",
   "name": "python",
   "nbconvert_exporter": "python",
   "pygments_lexer": "ipython3",
   "version": "3.12.9"
  }
 },
 "nbformat": 4,
 "nbformat_minor": 2
}
