{
 "cells": [
  {
   "cell_type": "markdown",
   "metadata": {},
   "source": [
    "### AutoGen Project\n",
    "\n",
    "## Project: Creator\n",
    "\n",
    "This is an answer to the idea: could an Agentic Framework create Agents itself?"
   ]
  },
  {
   "cell_type": "code",
   "execution_count": 1,
   "metadata": {},
   "outputs": [],
   "source": [
    "from autogen_ext.runtimes.grpc import GrpcWorkerAgentRuntimeHost\n",
    "from agent import Agent\n",
    "from creator import Creator\n",
    "from autogen_ext.runtimes.grpc import GrpcWorkerAgentRuntime\n",
    "from autogen_core import AgentId\n",
    "import messages\n",
    "import glob\n",
    "import importlib\n",
    "import os\n",
    "from autogen_agentchat.messages import TextMessage\n"
   ]
  },
  {
   "cell_type": "code",
   "execution_count": 2,
   "metadata": {},
   "outputs": [],
   "source": [
    "\n",
    "host = GrpcWorkerAgentRuntimeHost(address=\"localhost:50051\")\n",
    "host.start() "
   ]
  },
  {
   "cell_type": "code",
   "execution_count": null,
   "metadata": {},
   "outputs": [],
   "source": [
    "host"
   ]
  },
  {
   "cell_type": "code",
   "execution_count": 4,
   "metadata": {},
   "outputs": [],
   "source": [
    "worker = GrpcWorkerAgentRuntime(host_address=\"localhost:50051\")\n",
    "await worker.start()"
   ]
  },
  {
   "cell_type": "code",
   "execution_count": null,
   "metadata": {},
   "outputs": [],
   "source": []
  },
  {
   "cell_type": "code",
   "execution_count": null,
   "metadata": {},
   "outputs": [],
   "source": [
    "\n",
    "name = \"Creator\"\n",
    "result = await Creator.register(worker, name, lambda: Creator(name))\n",
    "print(result)\n",
    "creator_id = AgentId(name, \"default\")"
   ]
  },
  {
   "cell_type": "code",
   "execution_count": null,
   "metadata": {},
   "outputs": [],
   "source": [
    "name = \"agent1.py\"\n",
    "await worker.send_message(messages.Message(content=\"boo\"), creator_id)"
   ]
  },
  {
   "cell_type": "code",
   "execution_count": null,
   "metadata": {},
   "outputs": [],
   "source": [
    "async def create_agents():\n",
    "    how_many_agents = 2\n",
    "    new_agents = 0\n",
    "    count = 1\n",
    "\n",
    "    while new_agents < how_many_agents:\n",
    "        name = f\"agent{count}.py\"\n",
    "        if not os.path.exists(name):\n",
    "            print(f\"Creating agent {name}\")\n",
    "            await creator_worker.send_message(Message(content=name), creator_id)\n",
    "            new_agents += 1\n",
    "        count += 1\n",
    "\n",
    "await create_agents()"
   ]
  },
  {
   "cell_type": "code",
   "execution_count": null,
   "metadata": {},
   "outputs": [],
   "source": [
    "workers = []\n",
    "agent_ids = []\n",
    "count = 1\n",
    "\n",
    "async def run_agents():\n",
    "\n",
    "    agent_files = glob.glob(\"agent*.py\")\n",
    "    module_names = [os.path.splitext(file)[0] for file in agent_files]\n",
    "        \n",
    "    for name in module_names:\n",
    "        try:\n",
    "            module = importlib.import_module(name)\n",
    "            worker = GrpcWorkerAgentRuntime(host_address=\"localhost:50051\")\n",
    "            await worker.start()\n",
    "            await module.Agent.register(worker, name, lambda: module.Agent(name))\n",
    "            workers.append(worker)\n",
    "            agent_id = AgentId(name, \"default\")\n",
    "            agent_ids.append(agent_id)\n",
    "            response = await worker.send_message(Message(content=\"Please give me brief business idea in 2-3 sentences.\"), agent_id)\n",
    "            print(response.content)\n",
    "        except Exception as e:\n",
    "            print(f\"Error with this agent: {name}: {e}\")\n",
    "\n",
    "await run_agents()"
   ]
  },
  {
   "cell_type": "code",
   "execution_count": null,
   "metadata": {},
   "outputs": [],
   "source": [
    "for worker in workers + [creator_worker]:\n",
    "    try:\n",
    "        await worker.stop()\n",
    "    except Exception as e:\n",
    "        print(f\"Error stopping worker: {e}\")\n",
    "try:\n",
    "    await host.stop()   \n",
    "except Exception as e:\n",
    "    print(f\"Error stopping host: {e}\")"
   ]
  },
  {
   "cell_type": "code",
   "execution_count": null,
   "metadata": {},
   "outputs": [],
   "source": [
    "await worker.stop()\n",
    "await host.stop()"
   ]
  },
  {
   "cell_type": "code",
   "execution_count": null,
   "metadata": {},
   "outputs": [],
   "source": []
  }
 ],
 "metadata": {
  "kernelspec": {
   "display_name": ".venv",
   "language": "python",
   "name": "python3"
  },
  "language_info": {
   "codemirror_mode": {
    "name": "ipython",
    "version": 3
   },
   "file_extension": ".py",
   "mimetype": "text/x-python",
   "name": "python",
   "nbconvert_exporter": "python",
   "pygments_lexer": "ipython3",
   "version": "3.12.9"
  }
 },
 "nbformat": 4,
 "nbformat_minor": 2
}
