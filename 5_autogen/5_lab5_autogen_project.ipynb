{
 "cells": [
  {
   "cell_type": "markdown",
   "metadata": {},
   "source": [
    "### AutoGen Project\n",
    "\n",
    "## Project: Creator\n",
    "\n",
    "This is an answer to the idea: could an Agentic Framework create Agents itself?"
   ]
  },
  {
   "cell_type": "code",
   "execution_count": 1,
   "metadata": {},
   "outputs": [],
   "source": [
    "from autogen_ext.runtimes.grpc import GrpcWorkerAgentRuntimeHost\n",
    "from agent import Agent\n",
    "from creator import Creator\n",
    "from autogen_ext.runtimes.grpc import GrpcWorkerAgentRuntime\n",
    "from autogen_core import AgentId\n",
    "import messages\n",
    "import glob\n",
    "import importlib\n",
    "import os\n",
    "from autogen_agentchat.messages import TextMessage\n"
   ]
  },
  {
   "cell_type": "code",
   "execution_count": 2,
   "metadata": {},
   "outputs": [],
   "source": [
    "\n",
    "host = GrpcWorkerAgentRuntimeHost(address=\"localhost:50051\")\n",
    "host.start() "
   ]
  },
  {
   "cell_type": "code",
   "execution_count": 3,
   "metadata": {},
   "outputs": [
    {
     "data": {
      "text/plain": [
       "<autogen_ext.runtimes.grpc._worker_runtime_host.GrpcWorkerAgentRuntimeHost at 0x10bdcf920>"
      ]
     },
     "execution_count": 3,
     "metadata": {},
     "output_type": "execute_result"
    }
   ],
   "source": [
    "host"
   ]
  },
  {
   "cell_type": "code",
   "execution_count": 4,
   "metadata": {},
   "outputs": [],
   "source": [
    "worker = GrpcWorkerAgentRuntime(host_address=\"localhost:50051\")\n",
    "await worker.start()"
   ]
  },
  {
   "cell_type": "code",
   "execution_count": null,
   "metadata": {},
   "outputs": [],
   "source": []
  },
  {
   "cell_type": "code",
   "execution_count": 5,
   "metadata": {},
   "outputs": [
    {
     "name": "stdout",
     "output_type": "stream",
     "text": [
      "AgentType(type='Creator')\n"
     ]
    }
   ],
   "source": [
    "\n",
    "name = \"Creator\"\n",
    "result = await Creator.register(worker, name, lambda: Creator(name))\n",
    "print(result)\n",
    "creator_id = AgentId(name, \"default\")"
   ]
  },
  {
   "cell_type": "code",
   "execution_count": 6,
   "metadata": {},
   "outputs": [
    {
     "ename": "ValidationError",
     "evalue": "1 validation error for TextMessage\nsource\n  Field required [type=missing, input_value={'content': 'boo'}, input_type=dict]\n    For further information visit https://errors.pydantic.dev/2.11/v/missing",
     "output_type": "error",
     "traceback": [
      "\u001b[31m---------------------------------------------------------------------------\u001b[39m",
      "\u001b[31mValidationError\u001b[39m                           Traceback (most recent call last)",
      "\u001b[36mCell\u001b[39m\u001b[36m \u001b[39m\u001b[32mIn[6]\u001b[39m\u001b[32m, line 2\u001b[39m\n\u001b[32m      1\u001b[39m name = \u001b[33m\"\u001b[39m\u001b[33magent1.py\u001b[39m\u001b[33m\"\u001b[39m\n\u001b[32m----> \u001b[39m\u001b[32m2\u001b[39m \u001b[38;5;28;01mawait\u001b[39;00m worker.send_message(\u001b[43mTextMessage\u001b[49m\u001b[43m(\u001b[49m\u001b[43mcontent\u001b[49m\u001b[43m=\u001b[49m\u001b[33;43m\"\u001b[39;49m\u001b[33;43mboo\u001b[39;49m\u001b[33;43m\"\u001b[39;49m\u001b[43m)\u001b[49m, creator_id)\n",
      "\u001b[36mFile \u001b[39m\u001b[32m~/projects/agents/.venv/lib/python3.12/site-packages/pydantic/main.py:253\u001b[39m, in \u001b[36mBaseModel.__init__\u001b[39m\u001b[34m(self, **data)\u001b[39m\n\u001b[32m    251\u001b[39m \u001b[38;5;66;03m# `__tracebackhide__` tells pytest and some other tools to omit this function from tracebacks\u001b[39;00m\n\u001b[32m    252\u001b[39m __tracebackhide__ = \u001b[38;5;28;01mTrue\u001b[39;00m\n\u001b[32m--> \u001b[39m\u001b[32m253\u001b[39m validated_self = \u001b[38;5;28;43mself\u001b[39;49m\u001b[43m.\u001b[49m\u001b[43m__pydantic_validator__\u001b[49m\u001b[43m.\u001b[49m\u001b[43mvalidate_python\u001b[49m\u001b[43m(\u001b[49m\u001b[43mdata\u001b[49m\u001b[43m,\u001b[49m\u001b[43m \u001b[49m\u001b[43mself_instance\u001b[49m\u001b[43m=\u001b[49m\u001b[38;5;28;43mself\u001b[39;49m\u001b[43m)\u001b[49m\n\u001b[32m    254\u001b[39m \u001b[38;5;28;01mif\u001b[39;00m \u001b[38;5;28mself\u001b[39m \u001b[38;5;129;01mis\u001b[39;00m \u001b[38;5;129;01mnot\u001b[39;00m validated_self:\n\u001b[32m    255\u001b[39m     warnings.warn(\n\u001b[32m    256\u001b[39m         \u001b[33m'\u001b[39m\u001b[33mA custom validator is returning a value other than `self`.\u001b[39m\u001b[38;5;130;01m\\n\u001b[39;00m\u001b[33m'\u001b[39m\n\u001b[32m    257\u001b[39m         \u001b[33m\"\u001b[39m\u001b[33mReturning anything other than `self` from a top level model validator isn\u001b[39m\u001b[33m'\u001b[39m\u001b[33mt supported when validating via `__init__`.\u001b[39m\u001b[38;5;130;01m\\n\u001b[39;00m\u001b[33m\"\u001b[39m\n\u001b[32m    258\u001b[39m         \u001b[33m'\u001b[39m\u001b[33mSee the `model_validator` docs (https://docs.pydantic.dev/latest/concepts/validators/#model-validators) for more details.\u001b[39m\u001b[33m'\u001b[39m,\n\u001b[32m    259\u001b[39m         stacklevel=\u001b[32m2\u001b[39m,\n\u001b[32m    260\u001b[39m     )\n",
      "\u001b[31mValidationError\u001b[39m: 1 validation error for TextMessage\nsource\n  Field required [type=missing, input_value={'content': 'boo'}, input_type=dict]\n    For further information visit https://errors.pydantic.dev/2.11/v/missing"
     ]
    }
   ],
   "source": [
    "name = \"agent1.py\"\n",
    "await worker.send_message(messages.Message(content=\"boo\"), creator_id)"
   ]
  },
  {
   "cell_type": "code",
   "execution_count": null,
   "metadata": {},
   "outputs": [],
   "source": [
    "async def create_agents():\n",
    "    how_many_agents = 2\n",
    "    new_agents = 0\n",
    "    count = 1\n",
    "\n",
    "    while new_agents < how_many_agents:\n",
    "        name = f\"agent{count}.py\"\n",
    "        if not os.path.exists(name):\n",
    "            print(f\"Creating agent {name}\")\n",
    "            await creator_worker.send_message(Message(content=name), creator_id)\n",
    "            new_agents += 1\n",
    "        count += 1\n",
    "\n",
    "await create_agents()"
   ]
  },
  {
   "cell_type": "code",
   "execution_count": null,
   "metadata": {},
   "outputs": [],
   "source": [
    "workers = []\n",
    "agent_ids = []\n",
    "count = 1\n",
    "\n",
    "async def run_agents():\n",
    "\n",
    "    agent_files = glob.glob(\"agent*.py\")\n",
    "    module_names = [os.path.splitext(file)[0] for file in agent_files]\n",
    "        \n",
    "    for name in module_names:\n",
    "        try:\n",
    "            module = importlib.import_module(name)\n",
    "            worker = GrpcWorkerAgentRuntime(host_address=\"localhost:50051\")\n",
    "            await worker.start()\n",
    "            await module.Agent.register(worker, name, lambda: module.Agent(name))\n",
    "            workers.append(worker)\n",
    "            agent_id = AgentId(name, \"default\")\n",
    "            agent_ids.append(agent_id)\n",
    "            response = await worker.send_message(Message(content=\"Please give me brief business idea in 2-3 sentences.\"), agent_id)\n",
    "            print(response.content)\n",
    "        except Exception as e:\n",
    "            print(f\"Error with this agent: {name}: {e}\")\n",
    "\n",
    "await run_agents()"
   ]
  },
  {
   "cell_type": "code",
   "execution_count": null,
   "metadata": {},
   "outputs": [],
   "source": [
    "for worker in workers + [creator_worker]:\n",
    "    try:\n",
    "        await worker.stop()\n",
    "    except Exception as e:\n",
    "        print(f\"Error stopping worker: {e}\")\n",
    "try:\n",
    "    await host.stop()   \n",
    "except Exception as e:\n",
    "    print(f\"Error stopping host: {e}\")"
   ]
  },
  {
   "cell_type": "code",
   "execution_count": null,
   "metadata": {},
   "outputs": [],
   "source": [
    "await worker.stop()\n",
    "await host.stop()"
   ]
  },
  {
   "cell_type": "code",
   "execution_count": null,
   "metadata": {},
   "outputs": [],
   "source": []
  }
 ],
 "metadata": {
  "kernelspec": {
   "display_name": ".venv",
   "language": "python",
   "name": "python3"
  },
  "language_info": {
   "codemirror_mode": {
    "name": "ipython",
    "version": 3
   },
   "file_extension": ".py",
   "mimetype": "text/x-python",
   "name": "python",
   "nbconvert_exporter": "python",
   "pygments_lexer": "ipython3",
   "version": "3.12.9"
  }
 },
 "nbformat": 4,
 "nbformat_minor": 2
}
