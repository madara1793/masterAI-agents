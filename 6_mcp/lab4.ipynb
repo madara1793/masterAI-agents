{
 "cells": [
  {
   "cell_type": "code",
   "execution_count": 1,
   "metadata": {},
   "outputs": [],
   "source": [
    "from accounts_client import get_accounts_tools_openai, read_accounts_resource\n",
    "from alpha_client import get_stock_tools_openai\n",
    "from brave_client import get_search_tools_openai\n",
    "from financial_datasets_client import get_financial_datasets_tools_openai"
   ]
  },
  {
   "cell_type": "code",
   "execution_count": 2,
   "metadata": {},
   "outputs": [],
   "source": [
    "tools = await get_accounts_tools_openai() + await get_financial_datasets_tools_openai() + await get_search_tools_openai()"
   ]
  },
  {
   "cell_type": "code",
   "execution_count": 3,
   "metadata": {},
   "outputs": [],
   "source": [
    "from agents import Agent, Runner\n",
    "agent_name = \"Alice\"\n",
    "\n",
    "result = await read_accounts_resource(agent_name)\n",
    "account_details = result.contents[0].text\n",
    "\n",
    "instructions = f\"\"\"\n",
    "You are a trader that manages a portfolio of shares. Your name is {agent_name} and your account is under your name, {agent_name}.\n",
    "You have access to tools that allow you to search the internet for company news, check stock prices, and buy and sell shares.\n",
    "Your current holdings and balance is:\n",
    "{account_details}\n",
    "You have the tools to perform a websearch for relevant news and information.\n",
    "You have tools to check stock prices.\n",
    "You have tools to buy and sell shares.\n",
    "Please make use of these tools to manage your portfolio. Carry out trades as you see fit; do not wait for instructions or ask for confirmation.\n",
    "\"\"\"\n",
    "\n",
    "prompt = \"\"\"\n",
    "Use your tools to make decisions about your portfolio.\n",
    "Investigate the news and the market, make your decision, make the trades, and respond with a summary of your actions.\n",
    "\"\"\""
   ]
  },
  {
   "cell_type": "code",
   "execution_count": 4,
   "metadata": {},
   "outputs": [
    {
     "name": "stdout",
     "output_type": "stream",
     "text": [
      "### Summary of Actions\n",
      "\n",
      "1. **Market Investigation**:\n",
      "   - Current Stock Prices:\n",
      "     - **Apple (AAPL)**: $223.98 (+1.47%)\n",
      "     - **Tesla (TSLA)**: $287.02 (+3.1%)\n",
      "     - **Amazon (AMZN)**: $205.38 (+1.04%)\n",
      "     - **Google (GOOGL)**: $170.41 (+1.63%)\n",
      "   - The market is showing some positive trends, particularly with Tesla experiencing significant gains.\n",
      "\n",
      "2. **Trades Executed**:\n",
      "   - **Purchased Shares**:\n",
      "     - **Apple (AAPL)**: 4 shares\n",
      "     - **Tesla (TSLA)**: 2 shares\n",
      "     - **Amazon (AMZN)**: 3 shares\n",
      "\n",
      "### Portfolio After Trades\n",
      "- **New Holdings**:\n",
      "  - Apple (AAPL): 4 shares\n",
      "  - Tesla (TSLA): 2 shares\n",
      "  - Amazon (AMZN): 3 shares\n",
      "\n",
      "- **Remaining Balance**: Account balance reduced based on the total costs of these purchases.\n",
      "\n",
      "With these additions to the portfolio, I'm positioned in three strong tech companies, which are showing positive momentum. The overall market sentiment seems to be improving, potentially benefiting my trades.\n"
     ]
    }
   ],
   "source": [
    "trader = Agent(\n",
    "    name=agent_name,\n",
    "    instructions=instructions,\n",
    "    tools=tools,\n",
    "    model=\"gpt-4o-mini\",\n",
    ")\n",
    "result = await Runner.run(trader, prompt)\n",
    "print(result.final_output)"
   ]
  },
  {
   "cell_type": "code",
   "execution_count": null,
   "metadata": {},
   "outputs": [],
   "source": [
    "from accounts import get_share_price\n",
    "get_share_price(\"IBM\")"
   ]
  },
  {
   "cell_type": "code",
   "execution_count": 1,
   "metadata": {},
   "outputs": [],
   "source": [
    "from financial_datasets_client import list_financial_datasets_tools, call_financial_datasets_tool, get_financial_datasets_tools_openai\n"
   ]
  },
  {
   "cell_type": "code",
   "execution_count": 2,
   "metadata": {},
   "outputs": [],
   "source": [
    "tools =await list_financial_datasets_tools()"
   ]
  },
  {
   "cell_type": "code",
   "execution_count": null,
   "metadata": {},
   "outputs": [],
   "source": [
    "tools[3]"
   ]
  },
  {
   "cell_type": "code",
   "execution_count": null,
   "metadata": {},
   "outputs": [],
   "source": [
    "await call_financial_datasets_tool('get_current_price', {\"ticker\": \"IBM\"})"
   ]
  },
  {
   "cell_type": "code",
   "execution_count": null,
   "metadata": {},
   "outputs": [],
   "source": [
    "from agents import Agent, Runner\n",
    "agent_name = \"Alice\"\n",
    "\n",
    "result = await read_accounts_resource(agent_name)\n",
    "account_details = result.contents[0].text\n",
    "tools = await get_financial_datasets_tools_openai()\n",
    "\n",
    "instructions = f\"\"\"\n",
    "You are a trader that manages a portfolio of shares. Your name is {agent_name} and your account is under your name, {agent_name}.\n",
    "You have access to tools that allow you to search the internet for company news, check stock prices, and buy and sell shares.\n",
    "Your current holdings and balance is:\n",
    "{account_details}\n",
    "You have the tools to perform a websearch for relevant news and information.\n",
    "You have tools to check stock prices.\n",
    "You have tools to buy and sell shares.\n",
    "Please make use of these tools to manage your portfolio. Carry out trades as you see fit; do not wait for instructions or ask for confirmation.\n",
    "\"\"\"\n",
    "\n",
    "prompt = \"\"\"\n",
    "Use your tools to make decisions about your portfolio.\n",
    "Investigate the market, make your decision, make the trades, and respond with a summary of your actions.\n",
    "\"\"\""
   ]
  },
  {
   "cell_type": "code",
   "execution_count": null,
   "metadata": {},
   "outputs": [],
   "source": []
  }
 ],
 "metadata": {
  "kernelspec": {
   "display_name": ".venv",
   "language": "python",
   "name": "python3"
  },
  "language_info": {
   "codemirror_mode": {
    "name": "ipython",
    "version": 3
   },
   "file_extension": ".py",
   "mimetype": "text/x-python",
   "name": "python",
   "nbconvert_exporter": "python",
   "pygments_lexer": "ipython3",
   "version": "3.12.9"
  }
 },
 "nbformat": 4,
 "nbformat_minor": 2
}
