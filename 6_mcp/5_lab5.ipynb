{
 "cells": [
  {
   "cell_type": "markdown",
   "metadata": {},
   "source": [
    "<table style=\"margin: 0; text-align: left; width:100%\">\n",
    "    <tr>\n",
    "        <td style=\"width: 220px; height: 150px; vertical-align: middle;\">\n",
    "            <img src=\"../assets/aaa.png\" width=\"220\" height=\"150\" style=\"display: block;\" />\n",
    "        </td>\n",
    "        <td>\n",
    "            <h2 style=\"color:#ff7800;\">Autonomous Alpha Agents</h2>\n",
    "            <span style=\"color:#ff7800;\">An equity trading simulation to illustrate autonomous agents powered by tools and resources from MCP servers.\n",
    "            </span>\n",
    "        </td>\n",
    "    </tr>\n",
    "</table>"
   ]
  },
  {
   "cell_type": "markdown",
   "metadata": {},
   "source": [
    "### Week 6 Day 5\n",
    "\n",
    "THE GRAND FINALE!!\n",
    "\n",
    "# Autonomous Alpha Agents\n",
    "\n",
    "An equity trading simulation, with 3 Traders and a Researcher, powered by a slew of MCP servers with tools & resources:\n",
    "\n",
    "Time to add a team of traders."
   ]
  },
  {
   "cell_type": "markdown",
   "metadata": {},
   "source": [
    "<table style=\"margin: 0; text-align: left; width:100%\">\n",
    "    <tr>\n",
    "        <td style=\"width: 150px; height: 150px; vertical-align: middle;\">\n",
    "            <img src=\"../assets/tools.png\" width=\"150\" height=\"150\" style=\"display: block;\" />\n",
    "        </td>\n",
    "        <td>\n",
    "            <h2 style=\"color:#00bfff;\">Adding more and more MCP Servers</h2>\n",
    "            <span style=\"color:#00bfff;\">Over time, I plan to keep adding MCP Servers agents and functionality - and you should too! For now I've added Push Notification since it's been a recurring theme through the course.\n",
    "            </span>\n",
    "        </td>\n",
    "    </tr>\n",
    "</table>"
   ]
  },
  {
   "cell_type": "code",
   "execution_count": 2,
   "metadata": {},
   "outputs": [],
   "source": [
    "# Set traders\n",
    "\n",
    "from reset import reset_traders\n",
    "reset_traders()"
   ]
  },
  {
   "cell_type": "markdown",
   "metadata": {},
   "source": [
    "### Now go and look at the rest of the code:\n",
    "\n",
    "`trading_floor.py`\n",
    "\n",
    "`app.py`\n",
    "\n",
    "And then from a terminal, in this directory:\n",
    "\n",
    "`uv run app.py`"
   ]
  },
  {
   "cell_type": "markdown",
   "metadata": {},
   "source": [
    "<table style=\"margin: 0; text-align: left; width:100%\">\n",
    "    <tr>\n",
    "        <td style=\"width: 150px; height: 150px; vertical-align: middle;\">\n",
    "            <img src=\"../assets/thanks.png\" width=\"150\" height=\"150\" style=\"display: block;\" />\n",
    "        </td>\n",
    "        <td>\n",
    "            <h2 style=\"color:#00cc00;\">THANK YOU SO SO MUCH!</h2>\n",
    "            <span style=\"color:#00cc00;\">You've reached the conclusion! I'm so grateful that you stuck at it all the way to the end. My editor would smack me if I didn't mention one more time: if you're able to rate the course on Udemy, I'd be super thankful: it's the most important way that Udemy decides whether to show the course to others and it makes a massive difference.<br/><br/>Please do stay in touch and let me know how you get on, and share your journey in this extraordinary field in these extraordinary times. If you've made it this far and somehow resisted connecting with me on LinkedIn - <a href=\"https://www.linkedin.com/in/eddonner/\">here I am</a> one more time! If you wanted to post about your accomplishment on the course, please tag me and I'll weigh in to increase your exposure.<br><br/>Congratulations! \n",
    "            </span>\n",
    "        </td>\n",
    "    </tr>\n",
    "</table>"
   ]
  }
 ],
 "metadata": {
  "kernelspec": {
   "display_name": ".venv",
   "language": "python",
   "name": "python3"
  },
  "language_info": {
   "codemirror_mode": {
    "name": "ipython",
    "version": 3
   },
   "file_extension": ".py",
   "mimetype": "text/x-python",
   "name": "python",
   "nbconvert_exporter": "python",
   "pygments_lexer": "ipython3",
   "version": "3.12.9"
  }
 },
 "nbformat": 4,
 "nbformat_minor": 2
}
