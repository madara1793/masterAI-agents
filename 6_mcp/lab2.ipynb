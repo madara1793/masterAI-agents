{
 "cells": [
  {
   "cell_type": "code",
   "execution_count": 1,
   "metadata": {},
   "outputs": [],
   "source": [
    "from accounts_client import list_accounts_tools, call_accounts_tool, read_accounts_resource"
   ]
  },
  {
   "cell_type": "code",
   "execution_count": null,
   "metadata": {},
   "outputs": [],
   "source": [
    "await list_accounts_tools()"
   ]
  },
  {
   "cell_type": "code",
   "execution_count": null,
   "metadata": {},
   "outputs": [],
   "source": [
    "result = await read_accounts_resource(\"file://accounts_server/john\")\n",
    "result.contents[0].text"
   ]
  },
  {
   "cell_type": "code",
   "execution_count": null,
   "metadata": {},
   "outputs": [],
   "source": [
    "import requests\n",
    "from dotenv import load_dotenv\n",
    "import os\n",
    "load_dotenv(override=True)\n",
    "api_key = os.getenv(\"ALPHA_VANTAGE_API_KEY\")\n",
    "\n",
    "url = f'https://www.alphavantage.co/query?function=GLOBAL_QUOTE&symbol=IBM&apikey={api_key}'\n",
    "r = requests.get(url)\n",
    "data = r.json()\n",
    "\n",
    "print(data)"
   ]
  },
  {
   "cell_type": "code",
   "execution_count": null,
   "metadata": {},
   "outputs": [],
   "source": [
    "args = {'name': 'john', 'symbol': 'ibm', 'quantity': 1}\n",
    "await call_accounts_tool('buy_shares', args)"
   ]
  },
  {
   "cell_type": "code",
   "execution_count": null,
   "metadata": {},
   "outputs": [],
   "source": [
    "result = await read_accounts_resource(\"file://accounts_server/john\")\n",
    "result.contents[0].text"
   ]
  },
  {
   "cell_type": "code",
   "execution_count": null,
   "metadata": {},
   "outputs": [],
   "source": [
    "args = {'name': 'john', 'symbol': 'ibm', 'quantity': 1}\n",
    "await call_accounts_tool('sell_shares', args)"
   ]
  },
  {
   "cell_type": "code",
   "execution_count": null,
   "metadata": {},
   "outputs": [],
   "source": [
    "result = await read_accounts_resource(\"file://accounts_server/john\")\n",
    "result.contents[0].text"
   ]
  },
  {
   "cell_type": "code",
   "execution_count": 35,
   "metadata": {},
   "outputs": [
    {
     "data": {
      "text/plain": [
       "[FunctionTool(name='get_balance', description='Get the cash balance of the given account name.\\n\\n    Args:\\n        name: The name of the account holder\\n    ', params_json_schema={'properties': {'name': {'title': 'Name', 'type': 'string'}}, 'required': ['name'], 'title': 'get_balanceArguments', 'type': 'object', 'additionalProperties': False}, on_invoke_tool=<function <lambda> at 0x12a822c00>, strict_json_schema=True),\n",
       " FunctionTool(name='get_holdings', description='Get the holdings of the given account name.\\n\\n    Args:\\n        name: The name of the account holder\\n    ', params_json_schema={'properties': {'name': {'title': 'Name', 'type': 'string'}}, 'required': ['name'], 'title': 'get_holdingsArguments', 'type': 'object', 'additionalProperties': False}, on_invoke_tool=<function <lambda> at 0x12a820d60>, strict_json_schema=True),\n",
       " FunctionTool(name='buy_shares', description='Buy shares of a stock.\\n\\n    Args:\\n        name: The name of the account holder\\n        symbol: The symbol of the stock\\n        quantity: The quantity of shares to buy\\n    ', params_json_schema={'properties': {'name': {'title': 'Name', 'type': 'string'}, 'symbol': {'title': 'Symbol', 'type': 'string'}, 'quantity': {'title': 'Quantity', 'type': 'integer'}}, 'required': ['name', 'symbol', 'quantity'], 'title': 'buy_sharesArguments', 'type': 'object', 'additionalProperties': False}, on_invoke_tool=<function <lambda> at 0x12a8218a0>, strict_json_schema=True),\n",
       " FunctionTool(name='sell_shares', description='Sell shares of a stock.\\n\\n    Args:\\n        name: The name of the account holder\\n        symbol: The symbol of the stock\\n        quantity: The quantity of shares to sell\\n    ', params_json_schema={'properties': {'name': {'title': 'Name', 'type': 'string'}, 'symbol': {'title': 'Symbol', 'type': 'string'}, 'quantity': {'title': 'Quantity', 'type': 'integer'}}, 'required': ['name', 'symbol', 'quantity'], 'title': 'sell_sharesArguments', 'type': 'object', 'additionalProperties': False}, on_invoke_tool=<function <lambda> at 0x12a821f80>, strict_json_schema=True)]"
      ]
     },
     "execution_count": 35,
     "metadata": {},
     "output_type": "execute_result"
    }
   ],
   "source": [
    "from agents import FunctionTool\n",
    "\n",
    "openai_tools = []\n",
    "import json\n",
    "\n",
    "tools = await list_accounts_tools()\n",
    "\n",
    "for tool in tools:\n",
    "    schema = tool.inputSchema\n",
    "    schema[\"additionalProperties\"] = False\n",
    "    openai_tool = FunctionTool(\n",
    "        name=tool.name,\n",
    "        description=tool.description,\n",
    "        params_json_schema=schema,\n",
    "        on_invoke_tool=lambda ctx, args, toolname=tool.name: call_accounts_tool(toolname, json.loads(args))\n",
    "            \n",
    "    )\n",
    "    openai_tools.append(openai_tool)\n",
    "\n",
    "openai_tools"
   ]
  },
  {
   "cell_type": "code",
   "execution_count": 41,
   "metadata": {},
   "outputs": [],
   "source": [
    "agent_name = \"trader\"\n",
    "\n",
    "result = await read_accounts_resource(f\"file://accounts_server/{agent_name}\")\n",
    "account_details = result.contents[0].text\n",
    "\n",
    "instructions = f\"\"\"\n",
    "You are an agent that trades in the stock market. Your name is {agent_name} and your account is under your name, {agent_name}.\n",
    "Your current account details are:\n",
    "{account_details}\n",
    "You have the tools to buy and sell shares. You will be asked to buy or sell particular shares and should use the tools to do so.\n",
    "If the tools return an error, you should report on the error using natural language.\n",
    "\"\"\"\n",
    "\n",
    "prompt = \"Please execute the following trades to add to the existing portfolio: buy 1 share of IBM\""
   ]
  },
  {
   "cell_type": "code",
   "execution_count": 42,
   "metadata": {},
   "outputs": [
    {
     "name": "stdout",
     "output_type": "stream",
     "text": [
      "The trade to buy 1 share of IBM has been successfully executed. \n",
      "\n",
      "### Updated Account Details:\n",
      "- **New Holdings**: 2 shares of IBM\n",
      "- **New Balance**: $503.10\n",
      "\n",
      "If you need further assistance or wish to execute more trades, just let me know!\n"
     ]
    }
   ],
   "source": [
    "from agents import Agent, Runner\n",
    "trader = Agent(\n",
    "    name=agent_name,\n",
    "    instructions=instructions,\n",
    "    tools=openai_tools,\n",
    "    model=\"gpt-4o-mini\")\n",
    "\n",
    "result = await Runner.run(trader, prompt)\n",
    "print(result.final_output)"
   ]
  },
  {
   "cell_type": "code",
   "execution_count": null,
   "metadata": {},
   "outputs": [],
   "source": []
  }
 ],
 "metadata": {
  "kernelspec": {
   "display_name": ".venv",
   "language": "python",
   "name": "python3"
  },
  "language_info": {
   "codemirror_mode": {
    "name": "ipython",
    "version": 3
   },
   "file_extension": ".py",
   "mimetype": "text/x-python",
   "name": "python",
   "nbconvert_exporter": "python",
   "pygments_lexer": "ipython3",
   "version": "3.12.9"
  }
 },
 "nbformat": 4,
 "nbformat_minor": 2
}
