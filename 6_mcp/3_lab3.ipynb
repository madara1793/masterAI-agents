{
 "cells": [
  {
   "cell_type": "markdown",
   "metadata": {},
   "source": [
    "### Welcome to Week 6 Day 3!\n",
    "\n",
    "Let's experiment with a bunch more MCP Servers"
   ]
  },
  {
   "cell_type": "code",
   "execution_count": 1,
   "metadata": {},
   "outputs": [
    {
     "data": {
      "text/plain": [
       "True"
      ]
     },
     "execution_count": 1,
     "metadata": {},
     "output_type": "execute_result"
    }
   ],
   "source": [
    "from dotenv import load_dotenv\n",
    "from agents import Agent, Runner, trace\n",
    "from agents.mcp import MCPServerStdio, MCPServerSse\n",
    "import os\n",
    "from IPython.display import Markdown, display\n",
    "from datetime import datetime\n",
    "load_dotenv(override=True)"
   ]
  },
  {
   "cell_type": "markdown",
   "metadata": {},
   "source": [
    "### The first type of MCP Server: runs locally, everything local\n",
    "\n",
    "Here's a really interesting one: a knowledge-graph based memory.\n",
    "\n",
    "It's a persistent memory store of entities, observations about them, and relationships between them.\n",
    "\n",
    "https://github.com/modelcontextprotocol/servers/tree/main/src/memory\n"
   ]
  },
  {
   "cell_type": "code",
   "execution_count": null,
   "metadata": {},
   "outputs": [],
   "source": [
    "params = {\"command\": \"npx\", \"args\": [\"-y\", \"@modelcontextprotocol/server-memory\"]}\n",
    "\n",
    "async with MCPServerStdio(params=params) as server:\n",
    "    mcp_tools = await server.list_tools()\n",
    "\n",
    "mcp_tools"
   ]
  },
  {
   "cell_type": "code",
   "execution_count": 3,
   "metadata": {},
   "outputs": [],
   "source": [
    "instructions = \"You use your entity tools as a persistent memory to store and recall information about your conversations.\"\n",
    "request = f\"My name's Ed. I'm an LLM engineer. I'm teaching a course about AI Agents, including the incredible MCP protocol. \\\n",
    "MCP is a protocol for connecting agents with tools, resources and prompt templates, and makes it easy to integrate AI agents with capabilities.\"\n",
    "model = \"gpt-4o-mini\""
   ]
  },
  {
   "cell_type": "code",
   "execution_count": null,
   "metadata": {},
   "outputs": [],
   "source": [
    "async with MCPServerStdio(params=params) as mcp_server:\n",
    "    agent = Agent(name=\"agent\", instructions=instructions, model=model, mcp_servers=[mcp_server])\n",
    "    with trace(\"conversation\"):\n",
    "        result = await Runner.run(agent, request)\n",
    "    display(Markdown(result.final_output))"
   ]
  },
  {
   "cell_type": "code",
   "execution_count": null,
   "metadata": {},
   "outputs": [],
   "source": [
    "async with MCPServerStdio(params=params) as mcp_server:\n",
    "    agent = Agent(name=\"agent\", instructions=instructions, model=model, mcp_servers=[mcp_server])\n",
    "    with trace(\"conversation\"):\n",
    "        result = await Runner.run(agent, \"My name's Ed. What do you know about me?\")\n",
    "    display(Markdown(result.final_output))"
   ]
  },
  {
   "cell_type": "markdown",
   "metadata": {},
   "source": [
    "### Check the trace:\n",
    "\n",
    "https://platform.openai.com/traces"
   ]
  },
  {
   "cell_type": "markdown",
   "metadata": {},
   "source": [
    "### The 2nd type of MCP server - runs locally, calls a web service\n",
    "\n",
    "### Brave Search - apologies - this will need another API key! But it's free again.\n",
    "\n",
    "https://brave.com/search/api/\n",
    "\n",
    "Set up your account, and put your key in the .env under `BRAVE_API_KEY`"
   ]
  },
  {
   "cell_type": "code",
   "execution_count": 6,
   "metadata": {},
   "outputs": [],
   "source": [
    "env = {\"BRAVE_API_KEY\": os.getenv(\"BRAVE_API_KEY\")}\n",
    "params = {\"command\": \"npx\", \"args\": [\"-y\", \"@modelcontextprotocol/server-brave-search\"], \"env\": env}\n",
    "\n",
    "async with MCPServerStdio(params=params) as server:\n",
    "    mcp_tools = await server.list_tools()"
   ]
  },
  {
   "cell_type": "code",
   "execution_count": null,
   "metadata": {},
   "outputs": [],
   "source": [
    "mcp_tools"
   ]
  },
  {
   "cell_type": "code",
   "execution_count": 8,
   "metadata": {},
   "outputs": [],
   "source": [
    "instructions = \"You are able to search the web for information and briefly summarize the takeaways.\"\n",
    "request = f\"Please research the latest news on Amazon stock price and briefly summarize its outlook. \\\n",
    "For context, the current date is {datetime.now().strftime('%Y-%m-%d')}\"\n",
    "model = \"gpt-4o-mini\""
   ]
  },
  {
   "cell_type": "code",
   "execution_count": null,
   "metadata": {},
   "outputs": [],
   "source": [
    "async with MCPServerStdio(params=params) as mcp_server:\n",
    "    agent = Agent(name=\"agent\", instructions=instructions, model=model, mcp_servers=[mcp_server])\n",
    "    with trace(\"conversation\"):\n",
    "        result = await Runner.run(agent, request)\n",
    "    display(Markdown(result.final_output))"
   ]
  },
  {
   "cell_type": "markdown",
   "metadata": {},
   "source": [
    "### As usual, check out the trace:\n",
    "\n",
    "https://platform.openai.com/traces"
   ]
  },
  {
   "cell_type": "markdown",
   "metadata": {},
   "source": [
    "### And now the third time: running remotely\n",
    "\n",
    "https://smithery.ai/server/@qubaomingg/stock-analysis-mcp\n",
    "\n",
    "First we need to set up a free Share Price account with AlphaVantage at:\n",
    "\n",
    "https://www.alphavantage.co/\n",
    "\n",
    "Click \"Get Free API Key\"\n",
    "\n",
    "And enter that in your .env as `ALPHA_VANTAGE_API_KEY`\n",
    "\n",
    "\n"
   ]
  },
  {
   "cell_type": "code",
   "execution_count": 2,
   "metadata": {},
   "outputs": [],
   "source": [
    "import smithery\n",
    "\n",
    "url = smithery.create_smithery_url(\"wss://server.smithery.ai/@qubaomingg/stock-analysis-mcp/ws\", {\n",
    "  \"alphaVantageApiKey\": os.getenv(\"ALPHA_VANTAGE_API_KEY\")\n",
    "})\n"
   ]
  },
  {
   "cell_type": "markdown",
   "metadata": {},
   "source": [
    "#### Difficulties with the OpenAI Agents SDK SSE Client\n",
    "\n",
    "This code should work (I believe) but it didn't!\n",
    "\n",
    "```\n",
    "params = {\"url\": url}\n",
    "async with MCPServerSse(params=params) as server:\n",
    "    mcp_tools = await server.list_tools()\n",
    "```\n",
    "\n",
    "So I wrote a quick client myself - see financial_datasets_client.py"
   ]
  },
  {
   "cell_type": "code",
   "execution_count": 3,
   "metadata": {},
   "outputs": [],
   "source": [
    "from alpha_client import get_stock_tools_openai\n",
    "openai_tools = await get_stock_tools_openai()"
   ]
  },
  {
   "cell_type": "code",
   "execution_count": 4,
   "metadata": {},
   "outputs": [
    {
     "data": {
      "text/plain": [
       "[FunctionTool(name='get-stock-data', description='get stock data', params_json_schema={'type': 'object', 'properties': {'symbol': {'type': 'string', 'description': 'Stock symbol (e.g., IBM, AAPL)'}}, 'required': ['symbol'], 'additionalProperties': False, '$schema': 'http://json-schema.org/draft-07/schema#'}, on_invoke_tool=<function get_stock_tools_openai.<locals>.<lambda> at 0x120db3380>, strict_json_schema=True),\n",
       " FunctionTool(name='get-stock-alerts', description='get stock alerts', params_json_schema={'type': 'object', 'properties': {'symbol': {'type': 'string', 'description': 'Stock symbol (e.g., IBM, AAPL)'}}, 'required': ['symbol'], 'additionalProperties': False, '$schema': 'http://json-schema.org/draft-07/schema#'}, on_invoke_tool=<function get_stock_tools_openai.<locals>.<lambda> at 0x120db2de0>, strict_json_schema=True),\n",
       " FunctionTool(name='get-daily-stock-data', description='get daily stock data', params_json_schema={'type': 'object', 'properties': {'symbol': {'type': 'string', 'description': 'Stock symbol (e.g., IBM, AAPL)'}}, 'required': ['symbol'], 'additionalProperties': False, '$schema': 'http://json-schema.org/draft-07/schema#'}, on_invoke_tool=<function get_stock_tools_openai.<locals>.<lambda> at 0x120db3a60>, strict_json_schema=True)]"
      ]
     },
     "execution_count": 4,
     "metadata": {},
     "output_type": "execute_result"
    }
   ],
   "source": [
    "openai_tools"
   ]
  },
  {
   "cell_type": "code",
   "execution_count": 13,
   "metadata": {},
   "outputs": [],
   "source": [
    "instructions = \"You can use tools to get stock prices.\"\n",
    "request = f\"Please let me know the share price of Amazon.\"\n",
    "model = \"gpt-4o-mini\""
   ]
  },
  {
   "cell_type": "code",
   "execution_count": 14,
   "metadata": {},
   "outputs": [
    {
     "name": "stdout",
     "output_type": "stream",
     "text": [
      "Calling get-stock-data with {'symbol': 'AMZN'}\n",
      "Result: meta=None content=[TextContent(type='text', text='Error fetching stock data: No time series data found in the response', annotations=None)] isError=True\n",
      "Calling get-daily-stock-data with {'symbol': 'AMZN'}\n",
      "Result: meta=None content=[TextContent(type='text', text='Error fetching daily stock data: No time series data found in the response', annotations=None)] isError=True\n"
     ]
    },
    {
     "data": {
      "text/markdown": [
       "I'm currently unable to fetch the share price for Amazon. You might want to check a financial news website or a stock trading app for the latest updates. If there's anything else you'd like to know, feel free to ask!"
      ],
      "text/plain": [
       "<IPython.core.display.Markdown object>"
      ]
     },
     "metadata": {},
     "output_type": "display_data"
    }
   ],
   "source": [
    "agent = Agent(name=\"agent\", instructions=instructions, model=model, tools=openai_tools)\n",
    "with trace(\"conversation\"):\n",
    "    result = await Runner.run(agent, request)\n",
    "display(Markdown(result.final_output))"
   ]
  },
  {
   "cell_type": "markdown",
   "metadata": {},
   "source": [
    "### As usual, check out the trace:\n",
    "\n",
    "https://platform.openai.com/traces"
   ]
  },
  {
   "cell_type": "markdown",
   "metadata": {},
   "source": [
    "### Totally optional:\n",
    "\n",
    "I was willing to fork out $20 to pay for this live financial data MCP server, at a cost of 1 cent per lookup!\n",
    "\n",
    "But this is totally optional.\n",
    "\n",
    "There's slightly more setup required, as we need to install their project locally to run their server:\n",
    "\n",
    "https://mcp.so/server/mcp-server/financial-datasets?tab=content\n",
    "\n",
    "You'll also need to set up an API key here:\n",
    "\n",
    "https://www.financialdatasets.ai/\n",
    "\n",
    "And then set up an env file in this repo with the name `.env` to contain your `FINANCIAL_DATASETS_API_KEY`"
   ]
  },
  {
   "cell_type": "code",
   "execution_count": 27,
   "metadata": {},
   "outputs": [],
   "source": [
    "\n",
    "directory = \"/Users/ed/projects/mcp-server\"\n",
    "env = {\"FINANCIAL_DATASETS_API_KEY\": os.getenv(\"FINANCIAL_DATASETS_API_KEY\")}\n",
    "params = {\"command\": \"uv\", \"args\": [\"--directory\", directory, \"run\", \"server.py\"], \"env\": env}\n"
   ]
  },
  {
   "cell_type": "code",
   "execution_count": 28,
   "metadata": {},
   "outputs": [
    {
     "data": {
      "text/plain": [
       "[Tool(name='get_income_statements', description='Get income statements for a company.\\n\\n    Args:\\n        ticker: Ticker symbol of the company (e.g. AAPL, GOOGL)\\n        period: Period of the income statement (e.g. annual, quarterly, ttm)\\n        limit: Number of income statements to return (default: 4)\\n    ', inputSchema={'properties': {'ticker': {'title': 'Ticker', 'type': 'string'}, 'period': {'default': 'annual', 'title': 'Period', 'type': 'string'}, 'limit': {'default': 4, 'title': 'Limit', 'type': 'integer'}}, 'required': ['ticker'], 'title': 'get_income_statementsArguments', 'type': 'object'}),\n",
       " Tool(name='get_balance_sheets', description='Get balance sheets for a company.\\n\\n    Args:\\n        ticker: Ticker symbol of the company (e.g. AAPL, GOOGL)\\n        period: Period of the balance sheet (e.g. annual, quarterly, ttm)\\n        limit: Number of balance sheets to return (default: 4)\\n    ', inputSchema={'properties': {'ticker': {'title': 'Ticker', 'type': 'string'}, 'period': {'default': 'annual', 'title': 'Period', 'type': 'string'}, 'limit': {'default': 4, 'title': 'Limit', 'type': 'integer'}}, 'required': ['ticker'], 'title': 'get_balance_sheetsArguments', 'type': 'object'}),\n",
       " Tool(name='get_cash_flow_statements', description='Get cash flow statements for a company.\\n\\n    Args:\\n        ticker: Ticker symbol of the company (e.g. AAPL, GOOGL)\\n        period: Period of the cash flow statement (e.g. annual, quarterly, ttm)\\n        limit: Number of cash flow statements to return (default: 4)\\n    ', inputSchema={'properties': {'ticker': {'title': 'Ticker', 'type': 'string'}, 'period': {'default': 'annual', 'title': 'Period', 'type': 'string'}, 'limit': {'default': 4, 'title': 'Limit', 'type': 'integer'}}, 'required': ['ticker'], 'title': 'get_cash_flow_statementsArguments', 'type': 'object'}),\n",
       " Tool(name='get_current_stock_price', description='Get the current / latest price of a company.\\n\\n    Args:\\n        ticker: Ticker symbol of the company (e.g. AAPL, GOOGL)\\n    ', inputSchema={'properties': {'ticker': {'title': 'Ticker', 'type': 'string'}}, 'required': ['ticker'], 'title': 'get_current_stock_priceArguments', 'type': 'object'}),\n",
       " Tool(name='get_historical_stock_prices', description='Gets historical stock prices for a company.\\n\\n    Args:\\n        ticker: Ticker symbol of the company (e.g. AAPL, GOOGL)\\n        start_date: Start date of the price data (e.g. 2020-01-01)\\n        end_date: End date of the price data (e.g. 2020-12-31)\\n        interval: Interval of the price data (e.g. minute, hour, day, week, month)\\n        interval_multiplier: Multiplier of the interval (e.g. 1, 2, 3)\\n    ', inputSchema={'properties': {'ticker': {'title': 'Ticker', 'type': 'string'}, 'start_date': {'title': 'Start Date', 'type': 'string'}, 'end_date': {'title': 'End Date', 'type': 'string'}, 'interval': {'default': 'day', 'title': 'Interval', 'type': 'string'}, 'interval_multiplier': {'default': 1, 'title': 'Interval Multiplier', 'type': 'integer'}}, 'required': ['ticker', 'start_date', 'end_date'], 'title': 'get_historical_stock_pricesArguments', 'type': 'object'}),\n",
       " Tool(name='get_company_news', description='Get news for a company.\\n\\n    Args:\\n        ticker: Ticker symbol of the company (e.g. AAPL, GOOGL)\\n    ', inputSchema={'properties': {'ticker': {'title': 'Ticker', 'type': 'string'}}, 'required': ['ticker'], 'title': 'get_company_newsArguments', 'type': 'object'}),\n",
       " Tool(name='get_available_crypto_tickers', description='\\n    Gets all available crypto tickers.\\n    ', inputSchema={'properties': {}, 'title': 'get_available_crypto_tickersArguments', 'type': 'object'}),\n",
       " Tool(name='get_crypto_prices', description='\\n    Gets historical prices for a crypto currency.\\n    ', inputSchema={'properties': {'ticker': {'title': 'Ticker', 'type': 'string'}, 'start_date': {'title': 'Start Date', 'type': 'string'}, 'end_date': {'title': 'End Date', 'type': 'string'}, 'interval': {'default': 'day', 'title': 'Interval', 'type': 'string'}, 'interval_multiplier': {'default': 1, 'title': 'Interval Multiplier', 'type': 'integer'}}, 'required': ['ticker', 'start_date', 'end_date'], 'title': 'get_crypto_pricesArguments', 'type': 'object'}),\n",
       " Tool(name='get_historical_crypto_prices', description='Gets historical prices for a crypto currency.\\n\\n    Args:\\n        ticker: Ticker symbol of the crypto currency (e.g. BTC-USD). The list of available crypto tickers can be retrieved via the get_available_crypto_tickers tool.\\n        start_date: Start date of the price data (e.g. 2020-01-01)\\n        end_date: End date of the price data (e.g. 2020-12-31)\\n        interval: Interval of the price data (e.g. minute, hour, day, week, month)\\n        interval_multiplier: Multiplier of the interval (e.g. 1, 2, 3)\\n    ', inputSchema={'properties': {'ticker': {'title': 'Ticker', 'type': 'string'}, 'start_date': {'title': 'Start Date', 'type': 'string'}, 'end_date': {'title': 'End Date', 'type': 'string'}, 'interval': {'default': 'day', 'title': 'Interval', 'type': 'string'}, 'interval_multiplier': {'default': 1, 'title': 'Interval Multiplier', 'type': 'integer'}}, 'required': ['ticker', 'start_date', 'end_date'], 'title': 'get_historical_crypto_pricesArguments', 'type': 'object'}),\n",
       " Tool(name='get_current_crypto_price', description='Get the current / latest price of a crypto currency.\\n\\n    Args:\\n        ticker: Ticker symbol of the crypto currency (e.g. BTC-USD). The list of available crypto tickers can be retrieved via the get_available_crypto_tickers tool.\\n    ', inputSchema={'properties': {'ticker': {'title': 'Ticker', 'type': 'string'}}, 'required': ['ticker'], 'title': 'get_current_crypto_priceArguments', 'type': 'object'})]"
      ]
     },
     "execution_count": 28,
     "metadata": {},
     "output_type": "execute_result"
    }
   ],
   "source": [
    "async with MCPServerStdio(params=params) as server:\n",
    "    mcp_tools = await server.list_tools()\n",
    "mcp_tools"
   ]
  },
  {
   "cell_type": "code",
   "execution_count": 29,
   "metadata": {},
   "outputs": [
    {
     "data": {
      "text/markdown": [
       "The current share price of Amazon (AMZN) is **$170.66**. \n",
       "\n",
       "- **Day Change:** -$4.29\n",
       "- **Day Change Percentage:** -2.45%\n",
       "- **Market Cap:** $1.93 trillion\n",
       "- **Volume:** 86,926,646 shares\n",
       "\n",
       "If you have any more questions, feel free to ask!"
      ],
      "text/plain": [
       "<IPython.core.display.Markdown object>"
      ]
     },
     "metadata": {},
     "output_type": "display_data"
    }
   ],
   "source": [
    "async with MCPServerStdio(params=params) as mcp_server:\n",
    "    agent = Agent(name=\"agent\", instructions=instructions, model=model, mcp_servers=[mcp_server])\n",
    "    with trace(\"conversation\"):\n",
    "        result = await Runner.run(agent, request)\n",
    "    display(Markdown(result.final_output))"
   ]
  },
  {
   "cell_type": "markdown",
   "metadata": {},
   "source": [
    "<table style=\"margin: 0; text-align: left; width:100%\">\n",
    "    <tr>\n",
    "        <td style=\"width: 150px; height: 150px; vertical-align: middle;\">\n",
    "            <img src=\"../assets/exercise.png\" width=\"150\" height=\"150\" style=\"display: block;\" />\n",
    "        </td>\n",
    "        <td>\n",
    "            <h2 style=\"color:#ff7800;\">Exercises</h2>\n",
    "            <span style=\"color:#ff7800;\">Explore MCP server marketplaces and integrate your own, using all 3 approaches.\n",
    "            </span>\n",
    "        </td>\n",
    "    </tr>\n",
    "</table>"
   ]
  },
  {
   "cell_type": "markdown",
   "metadata": {},
   "source": []
  }
 ],
 "metadata": {
  "kernelspec": {
   "display_name": ".venv",
   "language": "python",
   "name": "python3"
  },
  "language_info": {
   "codemirror_mode": {
    "name": "ipython",
    "version": 3
   },
   "file_extension": ".py",
   "mimetype": "text/x-python",
   "name": "python",
   "nbconvert_exporter": "python",
   "pygments_lexer": "ipython3",
   "version": "3.12.9"
  }
 },
 "nbformat": 4,
 "nbformat_minor": 2
}
