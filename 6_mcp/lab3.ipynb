{
 "cells": [
  {
   "cell_type": "code",
   "execution_count": 13,
   "metadata": {},
   "outputs": [],
   "source": [
    "from alpha_client import call_stock_tool, list_stock_tools"
   ]
  },
  {
   "cell_type": "code",
   "execution_count": null,
   "metadata": {},
   "outputs": [],
   "source": [
    "from agents import FunctionTool\n",
    "\n",
    "openai_tools = []\n",
    "import json\n",
    "\n",
    "tools = await list_stock_tools()\n",
    "\n",
    "for tool in tools:\n",
    "    schema = tool.inputSchema\n",
    "    schema[\"additionalProperties\"] = False\n",
    "    schema[\"properties\"] = {\"symbol\":schema[\"properties\"][\"symbol\"]}\n",
    "    openai_tool = FunctionTool(\n",
    "        name=tool.name,\n",
    "        description=tool.name.replace(\"-\", \" \"),\n",
    "        params_json_schema=schema,\n",
    "        on_invoke_tool=lambda ctx, args, toolname=tool.name: call_stock_tool(toolname, json.loads(args))\n",
    "    )\n",
    "    openai_tools.append(openai_tool)\n",
    "\n",
    "openai_tools"
   ]
  },
  {
   "cell_type": "code",
   "execution_count": null,
   "metadata": {},
   "outputs": [],
   "source": [
    "await call_stock_tool(\"get-stock-data\", {\"symbol\": \"IBM\", \"outputsize\": \"compact\", \"interval\": \"60min\"})"
   ]
  },
  {
   "cell_type": "code",
   "execution_count": null,
   "metadata": {},
   "outputs": [],
   "source": [
    "await call_stock_tool(\"get-daily-stock-data\", {\"symbol\": \"IBM\", \"outputsize\": \"compact\"})"
   ]
  },
  {
   "cell_type": "code",
   "execution_count": null,
   "metadata": {},
   "outputs": [],
   "source": [
    "await call_stock_tool(\"get-stock-alerts\", {\"symbol\": \"IBM\"})"
   ]
  },
  {
   "cell_type": "code",
   "execution_count": null,
   "metadata": {},
   "outputs": [],
   "source": [
    "for tool in tools:\n",
    "    print(tool)"
   ]
  },
  {
   "cell_type": "code",
   "execution_count": 10,
   "metadata": {},
   "outputs": [],
   "source": [
    "from accounts_client import read_accounts_resource"
   ]
  },
  {
   "cell_type": "code",
   "execution_count": 24,
   "metadata": {},
   "outputs": [],
   "source": [
    "agent_name = \"trader\"\n",
    "\n",
    "result = await read_accounts_resource(f\"file://accounts_server/{agent_name}\")\n",
    "account_details = result.contents[0].text\n",
    "\n",
    "instructions = f\"\"\"\n",
    "You are an agent that decides whether to buy or sell shares. Your name is {agent_name} and your account is under your name, {agent_name}.\n",
    "Your current account details are:\n",
    "{account_details}\n",
    "You have the tools to investigate the share prices. Please use these tools to investigate prices.\n",
    "Then please respond with your view on shares to buy, and whether to sell any existing shares.\n",
    "\"\"\"\n",
    "\n",
    "prompt = \"Please respond with your view on shares to buy or sell, based on your analysis of the market using the tools provided.\""
   ]
  },
  {
   "cell_type": "code",
   "execution_count": null,
   "metadata": {},
   "outputs": [],
   "source": [
    "from agents import Agent, Runner\n",
    "trader = Agent(\n",
    "    name=agent_name,\n",
    "    instructions=instructions,\n",
    "    tools=openai_tools,\n",
    "    model=\"gpt-4o-mini\",\n",
    ")\n",
    "result = await Runner.run(trader, prompt)\n",
    "print(result.final_output)"
   ]
  },
  {
   "cell_type": "code",
   "execution_count": 4,
   "metadata": {},
   "outputs": [],
   "source": [
    "from brave_client import list_search_tools, call_search_tool\n"
   ]
  },
  {
   "cell_type": "code",
   "execution_count": 5,
   "metadata": {},
   "outputs": [
    {
     "data": {
      "text/plain": [
       "[Tool(name='brave_web_search', description='Performs a web search using the Brave Search API, ideal for general queries, news, articles, and online content. Use this for broad information gathering, recent events, or when you need diverse web sources. Supports pagination, content filtering, and freshness controls. Maximum 20 results per request, with offset for pagination. ', inputSchema={'type': 'object', 'properties': {'query': {'type': 'string', 'description': 'Search query (max 400 chars, 50 words)'}, 'count': {'type': 'number', 'description': 'Number of results (1-20, default 10)', 'default': 10}, 'offset': {'type': 'number', 'description': 'Pagination offset (max 9, default 0)', 'default': 0}}, 'required': ['query']}),\n",
       " Tool(name='brave_local_search', description=\"Searches for local businesses and places using Brave's Local Search API. Best for queries related to physical locations, businesses, restaurants, services, etc. Returns detailed information including:\\n- Business names and addresses\\n- Ratings and review counts\\n- Phone numbers and opening hours\\nUse this when the query implies 'near me' or mentions specific locations. Automatically falls back to web search if no local results are found.\", inputSchema={'type': 'object', 'properties': {'query': {'type': 'string', 'description': \"Local search query (e.g. 'pizza near Central Park')\"}, 'count': {'type': 'number', 'description': 'Number of results (1-20, default 5)', 'default': 5}}, 'required': ['query']})]"
      ]
     },
     "execution_count": 5,
     "metadata": {},
     "output_type": "execute_result"
    }
   ],
   "source": [
    "await list_search_tools()"
   ]
  },
  {
   "cell_type": "code",
   "execution_count": 23,
   "metadata": {},
   "outputs": [
    {
     "data": {
      "text/plain": [
       "[FunctionTool(name='brave_web_search', description='Performs a web search using the Brave Search API, ideal for general queries, news, articles, and online content. Use this for broad information gathering, recent events, or when you need diverse web sources. Supports pagination, content filtering, and freshness controls. Maximum 20 results per request, with offset for pagination. ', params_json_schema={'type': 'object', 'properties': {'query': {'type': 'string', 'description': 'Search query (max 400 chars, 50 words)'}}, 'required': ['query'], 'additionalProperties': False}, on_invoke_tool=<function <lambda> at 0x1297fa480>, strict_json_schema=True),\n",
       " FunctionTool(name='brave_local_search', description=\"Searches for local businesses and places using Brave's Local Search API. Best for queries related to physical locations, businesses, restaurants, services, etc. Returns detailed information including:\\n- Business names and addresses\\n- Ratings and review counts\\n- Phone numbers and opening hours\\nUse this when the query implies 'near me' or mentions specific locations. Automatically falls back to web search if no local results are found.\", params_json_schema={'type': 'object', 'properties': {'query': {'type': 'string', 'description': \"Local search query (e.g. 'pizza near Central Park')\"}}, 'required': ['query'], 'additionalProperties': False}, on_invoke_tool=<function <lambda> at 0x1297faca0>, strict_json_schema=True)]"
      ]
     },
     "execution_count": 23,
     "metadata": {},
     "output_type": "execute_result"
    }
   ],
   "source": [
    "from agents import FunctionTool\n",
    "\n",
    "openai_tools = []\n",
    "import json\n",
    "\n",
    "tools = await list_search_tools()\n",
    "\n",
    "for tool in tools:\n",
    "    schema = tool.inputSchema\n",
    "    schema[\"additionalProperties\"] = False\n",
    "    schema[\"properties\"] = {\"query\":schema[\"properties\"][\"query\"]}\n",
    "    openai_tool = FunctionTool(\n",
    "        name=tool.name,\n",
    "        description=tool.description,\n",
    "        params_json_schema=schema,\n",
    "        on_invoke_tool=lambda ctx, args, toolname=tool.name: call_search_tool(toolname, json.loads(args))\n",
    "    )\n",
    "    openai_tools.append(openai_tool)\n",
    "\n",
    "openai_tools"
   ]
  },
  {
   "cell_type": "code",
   "execution_count": 24,
   "metadata": {},
   "outputs": [],
   "source": [
    "from accounts_client import read_accounts_resource\n",
    "agent_name = \"trader\"\n",
    "\n",
    "result = await read_accounts_resource(f\"file://accounts_server/{agent_name}\")\n",
    "account_details = result.contents[0].text\n",
    "\n",
    "instructions = f\"\"\"\n",
    "You are an agent that decides whether to buy or sell shares. Your name is {agent_name} and your account is under your name, {agent_name}.\n",
    "Your current account details are:\n",
    "{account_details}\n",
    "You have the tools to perform a websearch for relevant news and information.\n",
    "Please use these tools to search for news that might drive an investment decision.\n",
    "Repond with ideas of shares to buy or sell based on the latest news.\n",
    "\"\"\"\n",
    "\n",
    "prompt = \"Please respond with your view on shares to buy or sell, based on your analysis of the news using the tools provided.\""
   ]
  },
  {
   "cell_type": "code",
   "execution_count": 25,
   "metadata": {},
   "outputs": [
    {
     "name": "stdout",
     "output_type": "stream",
     "text": [
      "Based on recent news and analyses regarding IBM, here are some insights for making investment decisions:\n",
      "\n",
      "### Current Situation:\n",
      "1. **Stock Price and Forecast**:\n",
      "   - IBM's stock has seen fluctuations, with recent predictions suggesting potential upsides. For instance, one forecast indicates that IBM shares may reach **$290** in mid-2025 due to increasing revenues from cloud services and AI solutions.\n",
      "\n",
      "2. **Recent Performance**:\n",
      "   - The latest data indicates that IBM's stock was around **$248.45**, with 52-week price ranges showing a high of around **$266.45**. This suggests that the stock has not significantly dipped below previous lows.\n",
      "\n",
      "3. **Long-term Outlook**:\n",
      "   - There are optimistic forecasts for IBM, with some analysts predicting prices significantly higher in the coming years. Meanwhile, other forecasts suggest a more cautious outlook, predicting prices in the range of **$230 to $323** over the next few years.\n",
      "\n",
      "### Recommendations:\n",
      "- **Buy More Shares**: Given the positive long-term outlook and potential growth in key business areas like cloud services and AI, increasing your holdings in IBM might be beneficial. The relatively stable price and forecasts suggest that IBM could offer good value now.\n",
      "\n",
      "- **Hold Current Shares**: If you are concerned about short-term volatility, you can maintain your current position without selling. The stock's historical resilience indicates it could recover from potential dips.\n",
      "\n",
      "- **Watch for News**: Continue monitoring news related to IBM's performance and developments in the tech sector, particularly regarding advancements in its cloud and AI divisions. These could significantly affect the stock price.\n",
      "\n",
      "### Conclusion:\n",
      "Given your current holding of 2 shares, considering adding more positions in IBM in light of its potential upside over the next few years seems prudent. However, ensure you evaluate your overall investment strategy and risk tolerance before proceeding.\n"
     ]
    }
   ],
   "source": [
    "from agents import Agent, Runner\n",
    "trader = Agent(\n",
    "    name=agent_name,\n",
    "    instructions=instructions,\n",
    "    tools=openai_tools,\n",
    "    model=\"gpt-4o-mini\",\n",
    ")\n",
    "result = await Runner.run(trader, prompt)\n",
    "print(result.final_output)"
   ]
  },
  {
   "cell_type": "code",
   "execution_count": 13,
   "metadata": {},
   "outputs": [
    {
     "data": {
      "text/plain": [
       "[FunctionTool(name='brave_web_search', description='Performs a web search using the Brave Search API, ideal for general queries, news, articles, and online content. Use this for broad information gathering, recent events, or when you need diverse web sources. Supports pagination, content filtering, and freshness controls. Maximum 20 results per request, with offset for pagination. ', params_json_schema={'type': 'object', 'properties': {'query': {'type': 'string', 'description': 'Search query (max 400 chars, 50 words)'}, 'count': {'type': 'number', 'description': 'Number of results (1-20, default 10)', 'default': 10}, 'offset': {'type': 'number', 'description': 'Pagination offset (max 9, default 0)', 'default': 0}}, 'required': ['query'], 'additionalProperties': False}, on_invoke_tool=<function <lambda> at 0x11d42f920>, strict_json_schema=True),\n",
       " FunctionTool(name='brave_local_search', description=\"Searches for local businesses and places using Brave's Local Search API. Best for queries related to physical locations, businesses, restaurants, services, etc. Returns detailed information including:\\n- Business names and addresses\\n- Ratings and review counts\\n- Phone numbers and opening hours\\nUse this when the query implies 'near me' or mentions specific locations. Automatically falls back to web search if no local results are found.\", params_json_schema={'type': 'object', 'properties': {'query': {'type': 'string', 'description': \"Local search query (e.g. 'pizza near Central Park')\"}, 'count': {'type': 'number', 'description': 'Number of results (1-20, default 5)', 'default': 5}}, 'required': ['query'], 'additionalProperties': False}, on_invoke_tool=<function <lambda> at 0x11d42f420>, strict_json_schema=True)]"
      ]
     },
     "execution_count": 13,
     "metadata": {},
     "output_type": "execute_result"
    }
   ],
   "source": [
    "openai_tools"
   ]
  },
  {
   "cell_type": "code",
   "execution_count": null,
   "metadata": {},
   "outputs": [],
   "source": []
  }
 ],
 "metadata": {
  "kernelspec": {
   "display_name": ".venv",
   "language": "python",
   "name": "python3"
  },
  "language_info": {
   "codemirror_mode": {
    "name": "ipython",
    "version": 3
   },
   "file_extension": ".py",
   "mimetype": "text/x-python",
   "name": "python",
   "nbconvert_exporter": "python",
   "pygments_lexer": "ipython3",
   "version": "3.12.9"
  }
 },
 "nbformat": 4,
 "nbformat_minor": 2
}
