{
 "cells": [
  {
   "cell_type": "code",
   "execution_count": 1,
   "metadata": {},
   "outputs": [],
   "source": [
    "from traders import Trader\n",
    "from agents import trace"
   ]
  },
  {
   "cell_type": "code",
   "execution_count": 2,
   "metadata": {},
   "outputs": [
    {
     "data": {
      "text/plain": [
       "Agent(name='Alice', instructions='\\nYou are Alice, a trader on the stock market. Your account is under your name, Alice.\\nThis is your investment thesis.\\nYou are an aggressive day-trader.\\nYou hunt for great opportunities and you take decisive action.\\nYou buy and sell regularly to maximize profits and limit losses.\\nYou are constantly seeking out new opportunities based on the latest news in the market.\\nYou always act according to your thesis.\\nYou have access to tools including a researcher to research online for news and opportunities, based on your request.\\nYou also have tools to access to the latest financial data for stocks, via a financial data API.\\nAnd you have tools to buy and sell stocks using your account name Alice.\\nUse these tools to carry out research, make decisions, and execute trades.\\nYour goal is to maximize your profits according to your thesis.\\n', handoff_description=None, handoffs=[], model=<agents.models.openai_chatcompletions.OpenAIChatCompletionsModel object at 0x10f5570e0>, model_settings=ModelSettings(temperature=None, top_p=None, frequency_penalty=None, presence_penalty=None, tool_choice=None, parallel_tool_calls=False, truncation=None, max_tokens=None), tools=[FunctionTool(name='get_income_statements', description='Get income statements for a company.\\n\\n    Args:\\n        ticker: Ticker symbol of the company (e.g. AAPL, GOOGL)\\n    ', params_json_schema={'properties': {'ticker': {'title': 'Ticker', 'type': 'string'}}, 'required': ['ticker'], 'title': 'get_income_statementsArguments', 'type': 'object', 'additionalProperties': False}, on_invoke_tool=<function get_financial_datasets_tools_openai.<locals>.<lambda> at 0x106a48680>, strict_json_schema=True), FunctionTool(name='get_balance_sheets', description='Get balance sheets for a company.\\n\\n    Args:\\n        ticker: Ticker symbol of the company (e.g. AAPL, GOOGL)\\n    ', params_json_schema={'properties': {'ticker': {'title': 'Ticker', 'type': 'string'}}, 'required': ['ticker'], 'title': 'get_balance_sheetsArguments', 'type': 'object', 'additionalProperties': False}, on_invoke_tool=<function get_financial_datasets_tools_openai.<locals>.<lambda> at 0x10f524720>, strict_json_schema=True), FunctionTool(name='get_cash_flow_statements', description='Get cash flow statements for a company.\\n\\n    Args:\\n        ticker: Ticker symbol of the company (e.g. AAPL, GOOGL)\\n    ', params_json_schema={'properties': {'ticker': {'title': 'Ticker', 'type': 'string'}}, 'required': ['ticker'], 'title': 'get_cash_flow_statementsArguments', 'type': 'object', 'additionalProperties': False}, on_invoke_tool=<function get_financial_datasets_tools_openai.<locals>.<lambda> at 0x10f575f80>, strict_json_schema=True), FunctionTool(name='get_current_price', description='Get the current / latest price of a company.\\n\\n    Args:\\n        ticker: Ticker symbol of the company (e.g. AAPL, GOOGL)\\n    ', params_json_schema={'properties': {'ticker': {'title': 'Ticker', 'type': 'string'}}, 'required': ['ticker'], 'title': 'get_current_priceArguments', 'type': 'object', 'additionalProperties': False}, on_invoke_tool=<function get_financial_datasets_tools_openai.<locals>.<lambda> at 0x10f576840>, strict_json_schema=True), FunctionTool(name='get_prices', description='Gets historical stock prices for a company.\\n\\n    Args:\\n        ticker: Ticker symbol of the company (e.g. AAPL, GOOGL)\\n        start_date: Start date of the price data (e.g. 2020-01-01)\\n        end_date: End date of the price data (e.g. 2020-12-31)\\n        interval: Interval of the price data (e.g. minute, hour, day, week, month)\\n        interval_multiplier: Multiplier of the interval (e.g. 1, 2, 3)\\n    ', params_json_schema={'properties': {'ticker': {'title': 'Ticker', 'type': 'string'}, 'start_date': {'title': 'Start Date', 'type': 'string'}, 'end_date': {'title': 'End Date', 'type': 'string'}}, 'required': ['ticker', 'start_date', 'end_date'], 'title': 'get_pricesArguments', 'type': 'object', 'additionalProperties': False}, on_invoke_tool=<function get_financial_datasets_tools_openai.<locals>.<lambda> at 0x10f576020>, strict_json_schema=True), FunctionTool(name='get_news', description='Get news for a company.\\n\\n    Args:\\n        ticker: Ticker symbol of the company (e.g. AAPL, GOOGL)\\n    ', params_json_schema={'properties': {'ticker': {'title': 'Ticker', 'type': 'string'}}, 'required': ['ticker'], 'title': 'get_newsArguments', 'type': 'object', 'additionalProperties': False}, on_invoke_tool=<function get_financial_datasets_tools_openai.<locals>.<lambda> at 0x10f576ca0>, strict_json_schema=True), FunctionTool(name='get_balance', description='Get the cash balance of the given account name.\\n\\n    Args:\\n        name: The name of the account holder\\n    ', params_json_schema={'properties': {'name': {'title': 'Name', 'type': 'string'}}, 'required': ['name'], 'title': 'get_balanceArguments', 'type': 'object', 'additionalProperties': False}, on_invoke_tool=<function get_accounts_tools_openai.<locals>.<lambda> at 0x10f5249a0>, strict_json_schema=True), FunctionTool(name='get_holdings', description='Get the holdings of the given account name.\\n\\n    Args:\\n        name: The name of the account holder\\n    ', params_json_schema={'properties': {'name': {'title': 'Name', 'type': 'string'}}, 'required': ['name'], 'title': 'get_holdingsArguments', 'type': 'object', 'additionalProperties': False}, on_invoke_tool=<function get_accounts_tools_openai.<locals>.<lambda> at 0x106addd00>, strict_json_schema=True), FunctionTool(name='buy_shares', description=\"Buy shares of a stock.\\n\\n    Args:\\n        name: The name of the account holder\\n        symbol: The symbol of the stock\\n        quantity: The quantity of shares to buy\\n        rationale: The rationale for the purchase and fit with the account's strategy\\n    \", params_json_schema={'properties': {'name': {'title': 'Name', 'type': 'string'}, 'symbol': {'title': 'Symbol', 'type': 'string'}, 'quantity': {'title': 'Quantity', 'type': 'integer'}, 'rationale': {'title': 'Rationale', 'type': 'string'}}, 'required': ['name', 'symbol', 'quantity', 'rationale'], 'title': 'buy_sharesArguments', 'type': 'object', 'additionalProperties': False}, on_invoke_tool=<function get_accounts_tools_openai.<locals>.<lambda> at 0x10f576f20>, strict_json_schema=True), FunctionTool(name='sell_shares', description=\"Sell shares of a stock.\\n\\n    Args:\\n        name: The name of the account holder\\n        symbol: The symbol of the stock\\n        quantity: The quantity of shares to sell\\n        rationale: The rationale for the sale and fit with the account's strategy\\n    \", params_json_schema={'properties': {'name': {'title': 'Name', 'type': 'string'}, 'symbol': {'title': 'Symbol', 'type': 'string'}, 'quantity': {'title': 'Quantity', 'type': 'integer'}, 'rationale': {'title': 'Rationale', 'type': 'string'}}, 'required': ['name', 'symbol', 'quantity', 'rationale'], 'title': 'sell_sharesArguments', 'type': 'object', 'additionalProperties': False}, on_invoke_tool=<function get_accounts_tools_openai.<locals>.<lambda> at 0x10f5762a0>, strict_json_schema=True), FunctionTool(name='Researcher', description='Research online for news and opportunities,                 either based on your specific request to look into a certain stock,                 or generally for notable financial news and opportunities.', params_json_schema={'properties': {'input': {'title': 'Input', 'type': 'string'}}, 'required': ['input'], 'title': 'Researcher_args', 'type': 'object', 'additionalProperties': False}, on_invoke_tool=<function function_tool.<locals>._create_function_tool.<locals>._on_invoke_tool at 0x10f577100>, strict_json_schema=True)], input_guardrails=[], output_guardrails=[], output_type=None, hooks=None, tool_use_behavior='run_llm_again')"
      ]
     },
     "execution_count": 2,
     "metadata": {},
     "output_type": "execute_result"
    }
   ],
   "source": [
    "alice_thesis = \"\"\"You are an aggressive day-trader.\n",
    "You hunt for great opportunities and you take decisive action.\n",
    "You buy and sell regularly to maximize profits and limit losses.\n",
    "You are constantly seeking out new opportunities based on the latest news in the market.\"\"\"\n",
    "\n",
    "alice = Trader(\"Alice\", alice_thesis, model_name=\"deepseek-chat\")\n",
    "\n",
    "await alice.init_agent()"
   ]
  },
  {
   "cell_type": "code",
   "execution_count": 3,
   "metadata": {},
   "outputs": [
    {
     "data": {
      "text/plain": [
       "{'name': 'alice',\n",
       " 'balance': 3965.5,\n",
       " 'holdings': {'NVDA': 50},\n",
       " 'transactions': [{'symbol': 'PLTR',\n",
       "   'quantity': 50,\n",
       "   'price': 96.5,\n",
       "   'timestamp': '2025-03-25 19:56:32',\n",
       "   'rationale': 'PLTR is priced at $96.5, showing minor declines. It recently led a tech rally, indicating potential for quick gains if the trend resumes.'},\n",
       "  {'symbol': 'PLTR',\n",
       "   'quantity': -50,\n",
       "   'price': 96.5,\n",
       "   'timestamp': '2025-03-25 19:58:01',\n",
       "   'rationale': 'PLTR is showing volatility and potential further decline, with analysts expressing valuation concerns. Selling to limit losses aligns with aggressive day-trading strategy.'},\n",
       "  {'symbol': 'NVDA',\n",
       "   'quantity': 50,\n",
       "   'price': 120.69,\n",
       "   'timestamp': '2025-03-26 07:42:30',\n",
       "   'rationale': 'NVDA is showing resilience with a slight uptick in price and positive day change. The tech sector rally and potential for further gains make it a strong candidate for aggressive day trading.'}],\n",
       " 'total_portfolio_value': 10000.0,\n",
       " 'total_profit_loss': 0.0}"
      ]
     },
     "execution_count": 3,
     "metadata": {},
     "output_type": "execute_result"
    }
   ],
   "source": [
    "await alice.get_account()"
   ]
  },
  {
   "cell_type": "code",
   "execution_count": null,
   "metadata": {},
   "outputs": [],
   "source": [
    "from accounts_client import read_accounts_resource\n",
    "stuff = await read_accounts_resource(\"alice\")\n"
   ]
  },
  {
   "cell_type": "code",
   "execution_count": null,
   "metadata": {},
   "outputs": [],
   "source": [
    "stuff.contents[0].text"
   ]
  },
  {
   "cell_type": "code",
   "execution_count": null,
   "metadata": {},
   "outputs": [],
   "source": [
    "bob_thesis = \"\"\"You are an investor that looks for long-term value.\n",
    "You search for companies that are undervalued and have a strong business model.\n",
    "You buy and hold for sufficient time to realize a profit.\n",
    "You like to research news to find companies that might be under the radar, \n",
    "and you like to research fundamentals to find companies that are undervalued.\n",
    "You pride yourself on the quality of your research and the long-term success of your investments.\n",
    "\"\"\"\n",
    "\n",
    "bob = Trader(\"Bob\", bob_thesis)\n",
    "await bob.init_agent()"
   ]
  },
  {
   "cell_type": "code",
   "execution_count": null,
   "metadata": {},
   "outputs": [],
   "source": [
    "carol_thesis = \"\"\"You are an investor that looks for technical indicators to find trading opportunities.\n",
    "You use technical indicators to find companies that are overbought or oversold.\n",
    "You buy and sell based on these indicators to maximize profits and limit losses.\n",
    "You are constantly seeking out new opportunities based on the latest technical indicators in the market.\"\"\"\n",
    "\n",
    "carol = Trader(\"Carol\", carol_thesis, model_name=\"gemini-2.0-flash\")\n",
    "await carol.init_agent()"
   ]
  },
  {
   "cell_type": "code",
   "execution_count": null,
   "metadata": {},
   "outputs": [],
   "source": [
    "with trace(\"Trading\"):\n",
    "    print(await alice.trade())\n",
    "    print(await bob.trade())\n",
    "    print(await carol.trade())\n",
    "    print(await alice.rebalance())\n",
    "    print(await bob.rebalance())\n",
    "    print(await carol.rebalance())"
   ]
  },
  {
   "cell_type": "code",
   "execution_count": null,
   "metadata": {},
   "outputs": [],
   "source": []
  },
  {
   "cell_type": "code",
   "execution_count": null,
   "metadata": {},
   "outputs": [],
   "source": []
  }
 ],
 "metadata": {
  "kernelspec": {
   "display_name": ".venv",
   "language": "python",
   "name": "python3"
  },
  "language_info": {
   "codemirror_mode": {
    "name": "ipython",
    "version": 3
   },
   "file_extension": ".py",
   "mimetype": "text/x-python",
   "name": "python",
   "nbconvert_exporter": "python",
   "pygments_lexer": "ipython3",
   "version": "3.12.9"
  }
 },
 "nbformat": 4,
 "nbformat_minor": 2
}
