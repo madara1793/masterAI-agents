{
 "cells": [
  {
   "cell_type": "code",
   "execution_count": 4,
   "metadata": {},
   "outputs": [
    {
     "data": {
      "text/plain": [
       "[Tool(name='get_balance', description='Get the cash balance of the given account name.\\n\\n    Args:\\n        name: The name of the account holder\\n    ', inputSchema={'properties': {'name': {'title': 'Name', 'type': 'string'}}, 'required': ['name'], 'title': 'get_balanceArguments', 'type': 'object'})]"
      ]
     },
     "execution_count": 4,
     "metadata": {},
     "output_type": "execute_result"
    }
   ],
   "source": [
    "from client import list_tools, call_tool\n",
    "await list_tools()"
   ]
  },
  {
   "cell_type": "code",
   "execution_count": 5,
   "metadata": {},
   "outputs": [
    {
     "data": {
      "text/plain": [
       "CallToolResult(meta=None, content=[TextContent(type='text', text='1000.0', annotations=None)], isError=False)"
      ]
     },
     "execution_count": 5,
     "metadata": {},
     "output_type": "execute_result"
    }
   ],
   "source": [
    "await call_tool(\"get_balance\", {\"name\": \"John\"})"
   ]
  },
  {
   "cell_type": "code",
   "execution_count": 7,
   "metadata": {},
   "outputs": [
    {
     "data": {
      "text/plain": [
       "[FunctionTool(name='get_balance', description='Get the cash balance of the given account name.\\n\\n    Args:\\n        name: The name of the account holder\\n    ', params_json_schema={'properties': {'name': {'title': 'Name', 'type': 'string'}}, 'required': ['name'], 'title': 'get_balanceArguments', 'type': 'object', 'additionalProperties': False}, on_invoke_tool=<function <lambda> at 0x13b830400>, strict_json_schema=True)]"
      ]
     },
     "execution_count": 7,
     "metadata": {},
     "output_type": "execute_result"
    }
   ],
   "source": [
    "from agents import FunctionTool\n",
    "\n",
    "openai_tools = []\n",
    "import json\n",
    "\n",
    "for tool in await list_tools():\n",
    "    schema = tool.inputSchema\n",
    "    schema[\"additionalProperties\"] = False\n",
    "    openai_tool = FunctionTool(\n",
    "        name=tool.name,\n",
    "        description=tool.description,\n",
    "        params_json_schema=schema,\n",
    "        on_invoke_tool=lambda ctx, args: call_tool(tool.name, json.loads(args)),\n",
    "    )\n",
    "    openai_tools.append(openai_tool)\n",
    "\n",
    "openai_tools\n"
   ]
  },
  {
   "cell_type": "code",
   "execution_count": 8,
   "metadata": {},
   "outputs": [],
   "source": [
    "from agents import Agent, Runner"
   ]
  },
  {
   "cell_type": "code",
   "execution_count": 9,
   "metadata": {},
   "outputs": [],
   "source": [
    "account_manager = Agent(\n",
    "    name=\"Account Manager\",\n",
    "    instructions=\"You are an account manager at a bank. You use the tools to tell a customer their balance.\",\n",
    "    tools=openai_tools)\n"
   ]
  },
  {
   "cell_type": "code",
   "execution_count": 10,
   "metadata": {},
   "outputs": [
    {
     "name": "stdout",
     "output_type": "stream",
     "text": [
      "Hi Ed, your account balance is $1000.00.\n"
     ]
    }
   ],
   "source": [
    "result = await Runner.run(account_manager, \"My name's Ed, how much do I have in my account?\")\n",
    "print(result.final_output)"
   ]
  }
 ],
 "metadata": {
  "kernelspec": {
   "display_name": ".venv",
   "language": "python",
   "name": "python3"
  },
  "language_info": {
   "codemirror_mode": {
    "name": "ipython",
    "version": 3
   },
   "file_extension": ".py",
   "mimetype": "text/x-python",
   "name": "python",
   "nbconvert_exporter": "python",
   "pygments_lexer": "ipython3",
   "version": "3.12.9"
  }
 },
 "nbformat": 4,
 "nbformat_minor": 2
}
