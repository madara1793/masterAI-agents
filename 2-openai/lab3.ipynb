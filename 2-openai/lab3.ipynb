{
 "cells": [
  {
   "cell_type": "code",
   "execution_count": 1,
   "metadata": {},
   "outputs": [],
   "source": [
    "from agents import Agent, WebSearchTool, trace, Runner, gen_trace_id, function_tool\n",
    "from agents.model_settings import ModelSettings\n",
    "from pydantic import BaseModel\n",
    "from dotenv import load_dotenv\n",
    "import asyncio\n",
    "import sendgrid\n",
    "import os\n",
    "from sendgrid.helpers.mail import Mail, Email, To, Content\n",
    "from typing import Dict"
   ]
  },
  {
   "cell_type": "code",
   "execution_count": 2,
   "metadata": {},
   "outputs": [
    {
     "data": {
      "text/plain": [
       "True"
      ]
     },
     "execution_count": 2,
     "metadata": {},
     "output_type": "execute_result"
    }
   ],
   "source": [
    "load_dotenv(override=True)"
   ]
  },
  {
   "cell_type": "code",
   "execution_count": 3,
   "metadata": {},
   "outputs": [],
   "source": [
    "INSTRUCTIONS = (\n",
    "    \"You are a research assistant. Given a search term, you search the web for that term and \"\n",
    "    \"produce a concise summary of the results. The summary must 2-3 paragraphs and less than 300 \"\n",
    "    \"words. Capture the main points. Write succintly, no need to have complete sentences or good \"\n",
    "    \"grammar. This will be consumed by someone synthesizing a report, so its vital you capture the \"\n",
    "    \"essence and ignore any fluff. Do not include any additional commentary other than the summary \"\n",
    "    \"itself.\"\n",
    ")\n",
    "\n",
    "search_agent = Agent(\n",
    "    name=\"Search agent\",\n",
    "    instructions=INSTRUCTIONS,\n",
    "    tools=[WebSearchTool()],\n",
    "    model=\"gpt-4o-mini\",\n",
    "    model_settings=ModelSettings(tool_choice=\"required\"),\n",
    ")"
   ]
  },
  {
   "cell_type": "code",
   "execution_count": 4,
   "metadata": {},
   "outputs": [],
   "source": [
    "async def main():\n",
    "    message = \"Latest AI Agent frameworks in 2025\"\n",
    "\n",
    "    with trace(\"Search\"):\n",
    "        result = await Runner.run(search_agent, message)\n",
    "        print(result.final_output)"
   ]
  },
  {
   "cell_type": "code",
   "execution_count": 5,
   "metadata": {},
   "outputs": [
    {
     "name": "stdout",
     "output_type": "stream",
     "text": [
      "In 2025, several AI agent frameworks have emerged, each offering unique capabilities for developing intelligent systems. LangChain facilitates the creation of applications powered by large language models (LLMs), integrating with multiple LLMs and supporting semantic search and API interactions. LangGraph builds upon LangChain, focusing on multi-agent systems with coordination tools and visual graph-based workflows. CrewAI emphasizes teamwork through a role-based architecture, enabling specialized agents to collaborate effectively. Microsoft's Semantic Kernel integrates traditional development tools with AI capabilities, supporting multiple languages and complex workflows. AutoGen, also from Microsoft, automates the generation of code and models for complex workflows, offering a modular architecture and human-in-the-loop capabilities. OpenAI Gym provides diverse environments for training reinforcement learning agents, while Rasa offers an open-source framework for developing customized conversational AI solutions. JADE is tailored for distributed systems, particularly in IoT environments, with a lightweight and platform-independent design. ([curotec.com](https://www.curotec.com/insights/top-ai-agent-frameworks/?utm_source=openai))\n",
      "\n",
      "These frameworks cater to various applications, from conversational AI and research tools to collaborative problem-solving and IoT coordination. The choice of framework depends on project goals, team expertise, and specific requirements. As AI agents become more integrated into business operations, selecting the appropriate framework is crucial for developing efficient and effective intelligent systems. ([curotec.com](https://www.curotec.com/insights/top-ai-agent-frameworks/?utm_source=openai)) \n"
     ]
    }
   ],
   "source": [
    "await main()"
   ]
  },
  {
   "cell_type": "code",
   "execution_count": 5,
   "metadata": {},
   "outputs": [],
   "source": [
    "HOW_MANY_SEARCHES = 5\n",
    "\n",
    "INSTRUCTIONS = f\"You are a helpful research assistant. Given a query, come up with a set of web searches \\\n",
    "to perform to best answer the query. Output {HOW_MANY_SEARCHES} terms to query for.\"\n",
    "\n",
    "\n",
    "class WebSearchItem(BaseModel):\n",
    "    reason: str\n",
    "    \"Your reasoning for why this search is important to the query.\"\n",
    "\n",
    "    query: str\n",
    "    \"The search term to use for the web search.\"\n",
    "\n",
    "\n",
    "class WebSearchPlan(BaseModel):\n",
    "    searches: list[WebSearchItem]\n",
    "    \"\"\"A list of web searches to perform to best answer the query.\"\"\"\n",
    "\n",
    "\n",
    "planner_agent = Agent(\n",
    "    name=\"PlannerAgent\",\n",
    "    instructions=INSTRUCTIONS,\n",
    "    model=\"gpt-4o-mini\",\n",
    "    output_type=WebSearchPlan,\n",
    ")"
   ]
  },
  {
   "cell_type": "code",
   "execution_count": 8,
   "metadata": {},
   "outputs": [],
   "source": [
    "async def main():\n",
    "    message = \"Latest AI Agent frameworks in 2025\"\n",
    "\n",
    "    with trace(\"Search\"):\n",
    "        result = await Runner.run(planner_agent, message)\n",
    "        print(result.final_output)"
   ]
  },
  {
   "cell_type": "code",
   "execution_count": 21,
   "metadata": {},
   "outputs": [
    {
     "name": "stdout",
     "output_type": "stream",
     "text": [
      "searches=[WebSearchItem(reason='To find the newest frameworks related to AI agents released in 2025.', query='latest AI agent frameworks 2025'), WebSearchItem(reason='To identify popular AI agent frameworks and their features as of 2025.', query='top AI agent frameworks 2025'), WebSearchItem(reason='To gather information about advancements in AI agent technologies in 2025.', query='AI agent technology advancements 2025'), WebSearchItem(reason='To explore research papers or articles discussing AI agent frameworks developed in 2025.', query='research papers AI agent frameworks 2025'), WebSearchItem(reason='To find comparisons of different AI agent frameworks introduced in 2025.', query='comparison of AI agent frameworks 2025'), WebSearchItem(reason='To look for reviews or case studies on the application of AI agent frameworks in 2025.', query='AI agent framework case studies 2025'), WebSearchItem(reason='To find conferences or events in 2025 that focused on AI agent frameworks.', query='AI frameworks conference 2025'), WebSearchItem(reason='To discover industry trends related to AI agents and frameworks in 2025.', query='AI agent industry trends 2025'), WebSearchItem(reason='To locate tutorials or resources for implementing AI agent frameworks released in 2025.', query='tutorials on AI agent frameworks 2025'), WebSearchItem(reason='To check GitHub or repositories with the latest AI agent frameworks from 2025.', query='GitHub AI agent frameworks 2025')]\n"
     ]
    }
   ],
   "source": [
    "await main()"
   ]
  },
  {
   "cell_type": "code",
   "execution_count": 9,
   "metadata": {},
   "outputs": [],
   "source": [
    "@function_tool\n",
    "def send_email(subject: str, html_body: str) -> Dict[str, str]:\n",
    "    sg = sendgrid.SendGridAPIClient(api_key=os.environ.get('SENDGRID_API_KEY'))\n",
    "    from_email = Email(\"ed@edwarddonner.com\")\n",
    "    to_email = To(\"ed.donner@gmail.com\")\n",
    "    content = Content(\"text/html\", html_body)\n",
    "    mail = Mail(from_email, to_email, subject, content)\n",
    "    mail_json = mail.get()\n",
    "    response = sg.client.mail.send.post(request_body=mail_json)\n",
    "    return {\"status\": \"success\"}"
   ]
  },
  {
   "cell_type": "code",
   "execution_count": 10,
   "metadata": {},
   "outputs": [],
   "source": [
    "INSTRUCTIONS = \"\"\"You are able to send a nicely formatted HTML email based on a detailed report.\n",
    "You will be provided with a detailed report. You should use your tool to send one email, providing the \n",
    "report converted into clean, well presented HTML with an appropriate subject line.\"\"\"\n",
    "\n",
    "email_agent = Agent(\n",
    "    name=\"Email agent\",\n",
    "    instructions=INSTRUCTIONS,\n",
    "    tools=[send_email],\n",
    "    model=\"gpt-4o-mini\",\n",
    ")\n",
    "\n"
   ]
  },
  {
   "cell_type": "code",
   "execution_count": 11,
   "metadata": {},
   "outputs": [],
   "source": [
    "INSTRUCTIONS = (\n",
    "    \"You are a senior researcher tasked with writing a cohesive report for a research query. \"\n",
    "    \"You will be provided with the original query, and some initial research done by a research assistant.\\n\"\n",
    "    \"You should first come up with an outline for the report that describes the structure and \"\n",
    "    \"flow of the report. Then, generate the report and return that as your final output.\\n\"\n",
    "    \"The final output should be in markdown format, and it should be lengthy and detailed. Aim \"\n",
    "    \"for 5-10 pages of content, at least 1000 words.\"\n",
    ")\n",
    "\n",
    "\n",
    "class ReportData(BaseModel):\n",
    "    short_summary: str\n",
    "    \"\"\"A short 2-3 sentence summary of the findings.\"\"\"\n",
    "\n",
    "    markdown_report: str\n",
    "    \"\"\"The final report\"\"\"\n",
    "\n",
    "    follow_up_questions: list[str]\n",
    "    \"\"\"Suggested topics to research further\"\"\"\n",
    "\n",
    "\n",
    "writer_agent = Agent(\n",
    "    name=\"WriterAgent\",\n",
    "    instructions=INSTRUCTIONS,\n",
    "    model=\"gpt-4o-mini\",\n",
    "    output_type=ReportData,\n",
    ")"
   ]
  },
  {
   "cell_type": "code",
   "execution_count": 12,
   "metadata": {},
   "outputs": [],
   "source": [
    "class ResearchManager:\n",
    "\n",
    "    async def run(self, query: str) -> None:\n",
    "        trace_id = gen_trace_id()\n",
    "        with trace(\"Research trace\", trace_id=trace_id):\n",
    "            print(f\"View trace: https://platform.openai.com/traces/{trace_id}\")\n",
    "            print(\"Starting research...\")\n",
    "\n",
    "            search_plan = await self._plan_searches(query)\n",
    "            search_results = await self._perform_searches(search_plan)\n",
    "            report = await self._write_report(query, search_results)\n",
    "            await self._send_email(report)\n",
    "        \n",
    "\n",
    "    async def _plan_searches(self, query: str) -> WebSearchPlan:\n",
    "        print(\"Planning searches...\")\n",
    "        result = await Runner.run(\n",
    "            planner_agent,\n",
    "            f\"Query: {query}\",\n",
    "        )\n",
    "        print(f\"Will perform {len(result.final_output.searches)} searches\")\n",
    "        return result.final_output_as(WebSearchPlan)\n",
    "\n",
    "    async def _perform_searches(self, search_plan: WebSearchPlan) -> list[str]:\n",
    "        print(\"Searching...\")\n",
    "        num_completed = 0\n",
    "        tasks = [asyncio.create_task(self._search(item)) for item in search_plan.searches]\n",
    "        results = []\n",
    "        for task in asyncio.as_completed(tasks):\n",
    "            result = await task\n",
    "            if result is not None:\n",
    "                results.append(result)\n",
    "            num_completed += 1\n",
    "            print(f\"Searching... {num_completed}/{len(tasks)} completed\")\n",
    "        print(\"Finished searching\")\n",
    "        return results\n",
    "\n",
    "    async def _search(self, item: WebSearchItem) -> str | None:\n",
    "        input = f\"Search term: {item.query}\\nReason for searching: {item.reason}\"\n",
    "        try:\n",
    "            result = await Runner.run(\n",
    "                search_agent,\n",
    "                input,\n",
    "            )\n",
    "            return str(result.final_output)\n",
    "        except Exception:\n",
    "            return None\n",
    "\n",
    "    async def _write_report(self, query: str, search_results: list[str]) -> ReportData:\n",
    "        print(\"Thinking about report...\")\n",
    "        input = f\"Original query: {query}\\nSummarized search results: {search_results}\"\n",
    "        result = await Runner.run(\n",
    "            writer_agent,\n",
    "            input,\n",
    "        )\n",
    "\n",
    "        print(\"Finished writing report\")\n",
    "        return result.final_output_as(ReportData)\n",
    "    \n",
    "    async def _send_email(self, report: ReportData) -> None:\n",
    "        print(\"Writing email...\")\n",
    "        result = await Runner.run(\n",
    "            email_agent,\n",
    "            report.markdown_report,\n",
    "        )\n",
    "        print(\"Email sent\")\n",
    "        return report"
   ]
  },
  {
   "cell_type": "code",
   "execution_count": null,
   "metadata": {},
   "outputs": [
    {
     "name": "stdout",
     "output_type": "stream",
     "text": [
      "View trace: https://platform.openai.com/traces/trace_0cced55424f544ac9c159c71ee1655ac\n",
      "Starting research...\n",
      "Planning searches...\n",
      "Will perform 10 searches\n",
      "Searching...\n",
      "Searching... 1/10 completed\n",
      "Searching... 2/10 completed\n",
      "Searching... 3/10 completed\n",
      "Searching... 4/10 completed\n",
      "Searching... 5/10 completed\n",
      "Searching... 6/10 completed\n",
      "Searching... 7/10 completed\n",
      "Searching... 8/10 completed\n",
      "Searching... 9/10 completed\n",
      "Searching... 10/10 completed\n",
      "Finished searching\n",
      "Thinking about report...\n",
      "Finished writing report\n",
      "Writing email...\n"
     ]
    }
   ],
   "source": [
    "await ResearchManager().run(\"Latest AI Agent frameworks in 2025\")"
   ]
  },
  {
   "cell_type": "code",
   "execution_count": null,
   "metadata": {},
   "outputs": [],
   "source": []
  }
 ],
 "metadata": {
  "kernelspec": {
   "display_name": ".venv",
   "language": "python",
   "name": "python3"
  },
  "language_info": {
   "codemirror_mode": {
    "name": "ipython",
    "version": 3
   },
   "file_extension": ".py",
   "mimetype": "text/x-python",
   "name": "python",
   "nbconvert_exporter": "python",
   "pygments_lexer": "ipython3",
   "version": "3.12.9"
  }
 },
 "nbformat": 4,
 "nbformat_minor": 2
}
