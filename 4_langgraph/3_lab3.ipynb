{
 "cells": [
  {
   "cell_type": "markdown",
   "metadata": {},
   "source": [
    "## Welcome to Week 4, Day 4\n",
    "\n",
    "This is the start of an AWESOME project! Really simple and very effective."
   ]
  },
  {
   "cell_type": "code",
   "execution_count": 1,
   "metadata": {},
   "outputs": [],
   "source": [
    "from typing import Annotated\n",
    "from typing_extensions import TypedDict\n",
    "from langgraph.graph import StateGraph, START\n",
    "from langgraph.graph.message import add_messages\n",
    "from dotenv import load_dotenv\n",
    "from IPython.display import Image, display\n",
    "import gradio as gr\n",
    "from typing_extensions import TypedDict\n",
    "from langgraph.graph import StateGraph\n",
    "from langgraph.graph.message import add_messages\n",
    "from langgraph.prebuilt import ToolNode, tools_condition\n",
    "import requests\n",
    "import os\n",
    "from langchain.agents import Tool\n",
    "\n",
    "from langchain_openai import ChatOpenAI\n",
    "from langgraph.checkpoint.memory import MemorySaver"
   ]
  },
  {
   "cell_type": "code",
   "execution_count": 2,
   "metadata": {},
   "outputs": [
    {
     "data": {
      "text/plain": [
       "True"
      ]
     },
     "execution_count": 2,
     "metadata": {},
     "output_type": "execute_result"
    }
   ],
   "source": [
    "load_dotenv(override=True)"
   ]
  },
  {
   "cell_type": "markdown",
   "metadata": {},
   "source": [
    "### Asynchronous LangGraph\n",
    "\n",
    "To run a tool:  \n",
    "Sync: `tool.run(inputs)`  \n",
    "Async: `await tool.arun(inputs)`\n",
    "\n",
    "To invoke the graph:  \n",
    "Sync: `graph.invoke(state)`  \n",
    "Async: `await graph.ainvoke(state)`"
   ]
  },
  {
   "cell_type": "code",
   "execution_count": 3,
   "metadata": {},
   "outputs": [],
   "source": [
    "class State(TypedDict):\n",
    "    \n",
    "    messages: Annotated[list, add_messages]\n",
    "\n",
    "\n",
    "graph_builder = StateGraph(State)"
   ]
  },
  {
   "cell_type": "code",
   "execution_count": 4,
   "metadata": {},
   "outputs": [],
   "source": [
    "pushover_token = os.getenv(\"PUSHOVER_TOKEN\")\n",
    "pushover_user = os.getenv(\"PUSHOVER_USER\")\n",
    "pushover_url = \"https://api.pushover.net/1/messages.json\"\n",
    "\n",
    "def push(text: str):\n",
    "    \"\"\"Send a push notification to the user\"\"\"\n",
    "    requests.post(pushover_url, data = {\"token\": pushover_token, \"user\": pushover_user, \"message\": text})\n",
    "\n",
    "tool_push = Tool(\n",
    "        name=\"send_push_notification\",\n",
    "        func=push,\n",
    "        description=\"useful for when you want to send a push notification\"\n",
    "    )"
   ]
  },
  {
   "cell_type": "markdown",
   "metadata": {},
   "source": [
    "### Next: Install Playwright\n",
    "\n",
    "On Windows and MacOS:  \n",
    "`playwright install`\n",
    "\n",
    "On Linux:  \n",
    "`playwright install —with-reps chromium`"
   ]
  },
  {
   "cell_type": "markdown",
   "metadata": {},
   "source": [
    "### Introducing nest_asyncio\n",
    "\n",
    "Python async code only allows for one \"event loop\" processing aynchronous events.\n",
    "\n",
    "The `nest_asyncio` library patches this, and is used for special situations, if you need to run a nested event loop.\n",
    "\n"
   ]
  },
  {
   "cell_type": "code",
   "execution_count": 5,
   "metadata": {},
   "outputs": [],
   "source": [
    "import nest_asyncio\n",
    "nest_asyncio.apply()"
   ]
  },
  {
   "cell_type": "markdown",
   "metadata": {},
   "source": [
    "### The LangChain community\n",
    "\n",
    "One of the remarkable things about LangChain is the rich community around it.\n",
    "\n",
    "Check this out:\n"
   ]
  },
  {
   "cell_type": "code",
   "execution_count": 6,
   "metadata": {},
   "outputs": [],
   "source": [
    "from langchain_community.agent_toolkits import PlayWrightBrowserToolkit\n",
    "from langchain_community.tools.playwright.utils import create_async_playwright_browser\n",
    "\n",
    "async_browser =  create_async_playwright_browser(headless=False)  # headful mode\n",
    "toolkit = PlayWrightBrowserToolkit.from_browser(async_browser=async_browser)\n",
    "tools = toolkit.get_tools()"
   ]
  },
  {
   "cell_type": "code",
   "execution_count": 7,
   "metadata": {},
   "outputs": [
    {
     "name": "stdout",
     "output_type": "stream",
     "text": [
      "click_element=async_browser=<Browser type=<BrowserType name=chromium executable_path=/Users/ed/Library/Caches/ms-playwright/chromium-1161/chrome-mac/Chromium.app/Contents/MacOS/Chromium> version=134.0.6998.35>\n",
      "navigate_browser=async_browser=<Browser type=<BrowserType name=chromium executable_path=/Users/ed/Library/Caches/ms-playwright/chromium-1161/chrome-mac/Chromium.app/Contents/MacOS/Chromium> version=134.0.6998.35>\n",
      "previous_webpage=async_browser=<Browser type=<BrowserType name=chromium executable_path=/Users/ed/Library/Caches/ms-playwright/chromium-1161/chrome-mac/Chromium.app/Contents/MacOS/Chromium> version=134.0.6998.35>\n",
      "extract_text=async_browser=<Browser type=<BrowserType name=chromium executable_path=/Users/ed/Library/Caches/ms-playwright/chromium-1161/chrome-mac/Chromium.app/Contents/MacOS/Chromium> version=134.0.6998.35>\n",
      "extract_hyperlinks=async_browser=<Browser type=<BrowserType name=chromium executable_path=/Users/ed/Library/Caches/ms-playwright/chromium-1161/chrome-mac/Chromium.app/Contents/MacOS/Chromium> version=134.0.6998.35>\n",
      "get_elements=async_browser=<Browser type=<BrowserType name=chromium executable_path=/Users/ed/Library/Caches/ms-playwright/chromium-1161/chrome-mac/Chromium.app/Contents/MacOS/Chromium> version=134.0.6998.35>\n",
      "current_webpage=async_browser=<Browser type=<BrowserType name=chromium executable_path=/Users/ed/Library/Caches/ms-playwright/chromium-1161/chrome-mac/Chromium.app/Contents/MacOS/Chromium> version=134.0.6998.35>\n"
     ]
    }
   ],
   "source": [
    "for tool in tools:\n",
    "    print(f\"{tool.name}={tool}\")"
   ]
  },
  {
   "cell_type": "code",
   "execution_count": 15,
   "metadata": {},
   "outputs": [],
   "source": [
    "tool_dict = {tool.name:tool for tool in tools}\n",
    "\n",
    "navigate_tool = tool_dict.get(\"navigate_browser\")\n",
    "extract_text_tool = tool_dict.get(\"extract_text\")\n",
    "\n",
    "    \n",
    "await navigate_tool.arun({\"url\": \"https://www.cnn.com\"})\n",
    "text = await extract_text_tool.arun({})"
   ]
  },
  {
   "cell_type": "code",
   "execution_count": 16,
   "metadata": {},
   "outputs": [
    {
     "name": "stdout",
     "output_type": "stream",
     "text": [
      "Breaking News, Latest News and Videos | CNN CNN values your feedback\n",
      "1. How relevant is this ad to you? 2. Did you encounter any technical\n",
      "issues? No Video player was slow to load content Video content never\n",
      "loaded Ad froze or did not finish loading Video content did not start\n",
      "after ad Audio on ad was too loud Other issues Ad never loaded Ad\n",
      "prevented/slowed the page from loading Content moved around while ad\n",
      "loaded Ad was repetitive to ads I've seen previously Other issues\n",
      "Cancel Submit Thank You! Your effort and contribution in providing\n",
      "this feedback is much\n",
      "appreciated. Close Ad Feedback Close icon US World Politics Business\n",
      "Health Entertainment Style Travel Sports Science Climate Weather\n",
      "Ukraine-Russia War Israel-Hamas War Underscored Games More US World\n",
      "Politics Business Health Entertainment Style Travel Sports Science\n",
      "Climate Weather Ukraine-Russia War Israel-Hamas War Underscored Games\n",
      "Watch Listen Live TV Subscribe Sign in My Account Settings Newsletters\n",
      "Topics You Follow Sign Out Your CNN account Sign in to your CNN\n",
      "account Sign in My Account Settings Newsletters Topics You Follow Sign\n",
      "Out Your CNN account Sign in to your CNN account Live TV Listen Watch\n",
      "Edition US International Arabic Español Edition US International\n",
      "Arabic Español US Crime + Justice World Africa Americas Asia Australia\n",
      "China Europe India Middle East United Kingdom Politics SCOTUS Congress\n",
      "Facts First 2024 Elections Business Tech Media Calculators Videos\n",
      "Markets Pre-markets After-Hours Fear & Greed Investing Markets Now\n",
      "Nightcap Health Life, But Better Fitness Food Sleep Mindfulness\n",
      "Relationships Entertainment Movies Television Celebrity Tech Innovate\n",
      "Foreseeable Future Mission: Ahead Work Transformed Innovative Cities\n",
      "Style Arts Design Fashion Architecture Luxury Beauty Video Travel\n",
      "Destinations Food & Drink Stay Videos Sports Pro Football College\n",
      "Football Basketball Baseball Soccer Olympics Hockey Science Space Life\n",
      "Unearthed Climate Solutions Weather Weather Video Climate Ukraine-\n",
      "Russia War Israel-Hamas War Watch Live TV CNN Headlines CNN Shorts\n",
      "Shows A-Z CNN10 CNN Max CNN TV Schedules FlashDocs Listen CNN 5 Things\n",
      "Chasing Life with Dr. Sanjay Gupta The Assignment with Audie Cornish\n",
      "One Thing Tug of War CNN Political Briefing The Axe Files All There Is\n",
      "with Anderson Cooper All CNN Audio podcasts CNN Underscored\n",
      "Electronics Fashion Beauty Health & Fitness Home Reviews Deals Gifts\n",
      "Travel Outdoors Pets Games CNN Crossword Jumble Crossword Photo\n",
      "Shuffle Sudoblock Sudoku 5 Things Quiz About CNN Subscribe Photos\n",
      "Investigations CNN Profiles CNN Leadership CNN Newsletters Work for\n",
      "CNN Follow CNN Live Updates Trump presidency March Madness Trending\n",
      "‘Hands Off!’ protests Canadian travel advisory HHS cuts ‘The White\n",
      "Lotus’ Season 3 finale Alex Ovechkin Trump's 'reciprocal' tariffs\n",
      "aren't quite what they seem Show all Carlos Barria/Reuters The tariffs\n",
      "were pitched as aiming to match the rates other countries charge the\n",
      "US. But here’s the real story. Live Updates Jaguar Land Rover pauses\n",
      "shipments to US ‘I’m really screwed’: Americans share their thoughts\n",
      "on Trump’s tariffs Inside Trump’s defiant response to markets’ tariff\n",
      "meltdown Elon Musk hopes for ‘zero-tariff situation’ between US and EU\n",
      "• Video 4:21 CEO lawyer Video Video shows Rep. Marjorie Taylor\n",
      "Greene’s ex-husband berating three Muslim women 4:21 • Video 11:35\n",
      "Video ‘You don’t seem unsettled’: Smerconish presses Navarro after\n",
      "stocks plunge 11:35 • Video 1:23 cnn Video Haberman reacts to Trump\n",
      "playing golf amid tariff meltdown 1:23 • Video 1:50 WJLA Video Massive\n",
      "anti-Trump and Musk protests erupt in cities around the world 1:50\n",
      "‘Hands Off!’ protesters across US rally against President Donald Trump\n",
      "and Elon Musk DOGE expected to take aim at DHS with staffing cuts,\n",
      "including at US Secret Service New York public schools tell Trump\n",
      "administration they won’t comply with DEI order Palestine Red Crescent\n",
      "Society Video showing final moments of Gaza emergency workers casts\n",
      "doubt on Israeli account of killings Trump will meet with Netanyahu at\n",
      "White House on Monday, official says Play CNN Headlines - Source: CNN\n",
      "Watch the latest CNN Headlines CNN Headlines is a curated channel\n",
      "covering major news events across politics, international, business,\n",
      "and entertainment, and showcasing the most impactful stories of the\n",
      "day. • For Subscribers For Subscribers US National Archives For\n",
      "Subscribers ‘He broke barriers’: One of the last survivors of elite\n",
      "group of paratroopers died. He was 108 • Live Updates Live Updates\n",
      "Getty Images Live Updates Here are the matchups, times and channels\n",
      "for the men’s Final Four • Video 2:29 CNN/TikTok Video ‘Just dumb’: A\n",
      "new travel trend has people getting through an airport in 15 minutes\n",
      "2:29 CNN Rats ‘bigger than cats’ are roaming Britain’s second-biggest\n",
      "city as garbage collectors strike More top stories Will Lanzoni/CNN\n",
      "What it’s like visiting Jonestown in Guyana, the settlement where more\n",
      "than 900 Americans died by murder-suicide Canada warns travelers of US\n",
      "border agents’ authority to search electronic devices Teens are\n",
      "delaying getting their driver’s licenses. Parents want to know why\n",
      "Video Law school dean on Trump’s executive orders: ‘This is just about\n",
      "retribution’ 6:55 Analysis Le Pen verdict stokes fury among members of\n",
      "Trump administration Analysis What FDR built, Trump wants to tear down\n",
      "Video Jake Tapper questions fascination with fake heiress Anna Delvey\n",
      "1:07 How Covenant School shooter planned deadly attack for years while\n",
      "manipulating parents and therapists Intuit Credit Karma Compare cards\n",
      "with 0% intro APR Immigration Courtesy  Jennifer-Vasquez Trump\n",
      "administration files emergency stay against order to return man who\n",
      "was mistakenly deported ‘It is time for you to leave the United\n",
      "States’: Ukrainians receive erroneous email from Homeland Security\n",
      "Department Measles outbreak • Opinion Opinion Courtesy Hawaii Gov.\n",
      "Josh Green Opinion ‘America’s children are in danger’: Hawaii’s\n",
      "governor, a former ER doctor, makes an urgent call to action Video\n",
      "‘He’ll have to confront his maker for those lies’: Former FDA vaccine\n",
      "chief slams RFK Jr. 3:10 Ad Feedback Ad Feedback CNN Podcasts Getty\n",
      "Images/iStockphoto The secret to longevity: Keep moving Apr 4, 2025\n",
      "Alex Kent/Getty Images College arrests: “A kind of policy that ends\n",
      "democracies” Apr 3, 2025 Jessica Hill/AP Think before you ‘Ring’:\n",
      "Keeping home surveillance safe Apr 1, 2025 Ad Feedback CNN Games and\n",
      "Quizzes Show all • Crossword Crossword CNN Crossword No pencil or\n",
      "eraser required: Play today’s scrambled crossword CNN Photo Shuffle:\n",
      "How fast can you put this week’s photo together? AP, Getty Images,\n",
      "Department of Conservation NZ Quiz: 65% of readers who took this\n",
      "week’s news quiz got 8 or more questions right. How will you do? Check\n",
      "these out Angela Weiss/AFP/Getty Images Mega Millions is changing\n",
      "everything about itself. Here’s what to know Josef Wegner/The Penn\n",
      "Museum Massive tomb of unknown pharaoh uncovered in Egypt • Video 1:21\n",
      "Mike Stobe/Getty Images Video MIT physicist developed ‘torpedo’ bat\n",
      "taking MLB by storm. Here’s how it works 1:21 Christopher\n",
      "Polk/Billboard/Getty Images Look of the Week: Was there a hidden\n",
      "message in Erykah Badu’s ‘booty’ bodysuit? For Subscribers Jason\n",
      "Kravarik/CNN ‘We are women and that’s his prey:’ Neighbors condemn\n",
      "placing of ‘Pillowcase Rapist’ in their remote community CNN Columbia\n",
      "University student ran from Homeland Security, but still doesn’t know\n",
      "why they came for her Reuters Global scam industry evolving at\n",
      "‘unprecedented scale’ despite recent crackdown Ad Feedback Ad Feedback\n",
      "CNN Underscored Best-in-class Jillian Tracy/CNN Underscored Grab a\n",
      "pair of Hoka’s for up to 65% off this weekend Your mom deserves more\n",
      "than just a card this Mother’s Day. Here are 49 thoughtful gifts 25\n",
      "affordable Walmart furniture finds that look luxurious without the\n",
      "expensive price Sweatpant jeans promise comfort and style. So I tested\n",
      "them to see if they’re worth it We tested 6 popular grill brushes, but\n",
      "only one got the job done with ease Expert-backed guides Tobey Grumet\n",
      "Segal/CNN Underscored I’m over 50 and never had Botox. This is the\n",
      "makeup I can’t live without 26 must-have travel essentials under $25,\n",
      "recommended by experts 20 ingenious Amazon finds under $30 that can\n",
      "make everything in your home look new 40 game-changing products our\n",
      "editors tried last month and won't stop talking about Hate soggy\n",
      "sandwiches? We found the best panini presses that bring on the crunch\n",
      "Editors' picks Amina Lake Abdelrahman/CNN Underscored Bad day? Here\n",
      "are 27 things to make you happy in 2025 26 cheap swimsuits from Amazon\n",
      "that won’t fall apart 19 best sandals for walking all day long,\n",
      "according to podiatrists Yes, you should use a water flosser. So, we\n",
      "found the best ones 21 products our editors use on repeat to save them\n",
      "money in the long run Business Show all Andre Penner/AP Trump’s\n",
      "universal 10% tariff has gone into effect. What that means for\n",
      "Americans Analysis Trump says he’s punishing foreign countries. He’s\n",
      "mostly punishing Americans Trump to extend TikTok ban enforcement\n",
      "deadline after China tariffs derail deal America has lost its appetite\n",
      "for casual dining chains Entertainment Show all HBO Seven serious and\n",
      "unserious ‘White Lotus’ theories for the Season 3 finale Will Forte\n",
      "was once roommates with Val Kilmer, whom he calls ‘the most\n",
      "interesting person in the world’ With prison behind her, fake heiress\n",
      "Anna Delvey is preparing for her next act Conan O’Brien on why he went\n",
      "to the Kennedy Center while others have canceled in protest of Trump\n",
      "Ad Feedback PAID PARTNER CONTENT Apply for a rewards card that’s\n",
      "perfect for you Intuit Credit Karma This credit card is worth its\n",
      "weight in gold: best credit card for 2025 CardCritics Space and\n",
      "Science Show all • For Subscribers For Subscribers MedicaChristian/TMX\n",
      "For Subscribers An eerie spiral lit up the European skies. Here’s why\n",
      "such light shows are becoming more common 4 space tourists splash down\n",
      "after traveling an orbit never attempted before Ancient DNA sheds\n",
      "light on origins of 7,000-year-old Saharan mummies ‘Another mind-\n",
      "blowing change’: New data suggests mysterious dark energy is evolving\n",
      "Travel Show all Peter Titmuss/Education Images/Universal Images\n",
      "Group/Getty Images The English port still haunted by the ghosts of the\n",
      "Titanic Carbon monoxide poisoning has been tied to several traveler\n",
      "deaths. Here’s how to stay safe on your trips European countries issue\n",
      "warnings to trans residents about what could happen if they travel to\n",
      "US ‘I hated the Japanese intensely’: 80 years after the Battle of\n",
      "Okinawa, scars remain Style Show all Hayes Davidson Penthouse atop\n",
      "world’s skinniest skyscraper is now on the market for $110 million\n",
      "It’s among the largest collections of Michelangelo sculptures ever\n",
      "shown. But there’s a catch World’s ‘most complicated’ wristwatch\n",
      "unveiled From chiseled six-packs to sharp cheekbones, prosthetics are\n",
      "on the rise in fashion health and wellness Prostock-\n",
      "Studio/iStockphoto/Getty Images 17 factors affect your risk for\n",
      "dementia, stroke and depression, study suggests Essay: What I learned\n",
      "from a summertime job at a greasy spoon Spend 5 minutes a day moving\n",
      "like this and you’ll move better for life Why autism isn’t diagnosed\n",
      "in girls and women More Politics Show all Chip Somodevilla/Getty\n",
      "Images House conservatives reject Senate budget blueprint, throwing\n",
      "plans for Trump agenda into question ‘Imagine if I had done any of\n",
      "this’: Obama publicly rebukes Trump’s second-term actions As Democrats\n",
      "overperform in off-year elections, GOP frets over Trump voter turnout\n",
      "Cost of US military offensive against Houthis nears $1 billion with\n",
      "limited impact US Show all Jason Davis/Getty Images A boy walking to a\n",
      "school bus was swept away by floodwater and died – more than an hour\n",
      "after other bus routes were canceled Thunderstorms trigger\n",
      "catastrophic flooding across the middle of the US North Carolina\n",
      "judges side with Republican colleague in close Supreme Court race\n",
      "Theodore McCarrick, former archbishop accused of sexual abuse, dies at\n",
      "94 World Show all Agencia Press South/Getty Images Blackwater founder\n",
      "Erik Prince joins security operation in Ecuador Analysis Why a no-show\n",
      "by China’s No. 2 general has speculation running wild UK courts\n",
      "release new documents on Prince Andrew’s relationship to alleged\n",
      "Chinese spy The smell of death still lingers in the town at the\n",
      "epicenter of Myanmar’s earthquake CNN podcasts Show all Getty\n",
      "Images/iStockphoto The secret to longevity: Keep moving The heart\n",
      "transplant that connected two families What made these special\n",
      "elections…special College arrests: “A kind of policy that ends\n",
      "democracies” This group has a ‘deportation list.’ Is the government\n",
      "reading it? Sports Show all Final Four preview: Who will cut down the\n",
      "nets in San Antonio? Maryland prospect Derik Queen declares for 2025\n",
      "NBA draft JuJu Watkins wins 2025 Wooden award over Paige Bueckers Alex\n",
      "Ovechkin ties Wayne Gretzky’s all-time goals record South Carolina\n",
      "advances to back-to-back WCBB national title games Video • Video 0:59\n",
      "CNN Video ‘The most powerful type of liar’: Tapper asks Anna Delvey\n",
      "how she views her criminal past 0:59 • Video 3:58 Lisa\n",
      "Blumenfeld/Getty Images North America/Getty Images Video Celebrating\n",
      "Dikembe Mutombo: NBA icon and humanitarian hero 3:58 • Video 2:37 CNN\n",
      "Video Five simple ways to stop impulse shopping online, according to a\n",
      "financial educator 2:37 • Video 2:54 Artemis Technologies Video Is it\n",
      "a bird? Is it a boat? This vessel ‘flies’ above the water 2:54 Food\n",
      "and Home Teri Lyn Fisher/Food Network Baking recipes that are easy to\n",
      "cut in half Tara Donne/Food Network Healthy lunch recipes to keep you\n",
      "full until dinner HGTV How to build regulation cornhole boards for\n",
      "your Spring yard party Paid Content Paid Content Recommendations More\n",
      "from CNN Tech • Analysis Analysis Kevin Carter/Getty Images Analysis\n",
      "Apple needs a new reason to get you to buy a new iPhone. It may have\n",
      "one Tiffany Hagler-Geard/Bloomberg/Getty Images 23andMe is looking to\n",
      "sell customers’ genetic data. Here’s how to delete it Gabby\n",
      "Jones/Bloomberg/Getty Images What is Signal? The private chat app is\n",
      "only private if you use it right Investing FreshSplash/E+/Getty Images\n",
      "How to invest when stocks are volatile Mensent Photography/Moment\n",
      "RF/Getty Images Market losses early in retirement can increase your\n",
      "risk of outliving your money. But you can take steps to mitigate that\n",
      "Kathrin Ziegler/Digital Vision/Getty Images Want greater financial\n",
      "peace of mind amid the current uncertainty and chaos? Consider doing\n",
      "these 4 things Ad Feedback Photos • Gallery Gallery Sebastien\n",
      "Berger/AFP via Getty Images Gallery Deadly earthquake strikes Myanmar,\n",
      "Thailand and China • Gallery Gallery Mark Humphrey/AP Gallery Val\n",
      "Kilmer’s life in pictures • Gallery Gallery Violeta Santos\n",
      "Moura/Reuters Gallery The week in 34 photos • Gallery Gallery Dale\n",
      "Zanine/Imagn Images/Reuters Gallery The best photos from this year’s\n",
      "March Madness Paid Partner Content CNN Games + Quizzes Show all •\n",
      "Photo shuffle Photo shuffle CNN Photo shuffle How fast can you put\n",
      "this week’s photo together? • Sudoblock Sudoblock CNN Sudoblock Sudoku\n",
      "+ Blocks = addictive tile-matching puzzle • Today's crossword Today's\n",
      "crossword CNN Today's crossword No pencil or eraser required • Weekly\n",
      "news quiz Weekly news quiz cnn Weekly news quiz What do you remember\n",
      "from the week that was? In case you missed it SpaceX 4 space tourists\n",
      "splash down after traveling an orbit never attempted before Detroit\n",
      "Pistons complete one of the greatest single-season NBA turnarounds\n",
      "Ancient DNA pulls back curtain on the Sahara Desert’s greener past\n",
      "Early look at hurricane season predicts over a dozen named storms. But\n",
      "El Niño could change things Retro, hard-stone dial watches are making\n",
      "a comeback Wide majority of Americans oppose impeaching judges who\n",
      "rule against Trump, new poll shows Lawyer for Trump co-defendant and\n",
      "alleged US Capitol rioters picked for major role at DOJ Display of\n",
      "Jewish women graduates restored after US Naval Academy says it was\n",
      "‘mistakenly removed’ Subscribe Sign in My Account Settings Newsletters\n",
      "Topics You Follow Sign Out Your CNN account Sign in to your CNN\n",
      "account Live TV Listen Watch US Crime + Justice World Africa Americas\n",
      "Asia Australia China Europe India Middle East United Kingdom Politics\n",
      "SCOTUS Congress Facts First 2024 Elections Business Tech Media\n",
      "Calculators Videos Markets Pre-markets After-Hours Fear & Greed\n",
      "Investing Markets Now Nightcap Health Life, But Better Fitness Food\n",
      "Sleep Mindfulness Relationships Entertainment Movies Television\n",
      "Celebrity Tech Innovate Foreseeable Future Mission: Ahead Work\n",
      "Transformed Innovative Cities Style Arts Design Fashion Architecture\n",
      "Luxury Beauty Video Travel Destinations Food & Drink Stay News Videos\n",
      "Sports Pro Football College Football Basketball Baseball Soccer\n",
      "Olympics Hockey Science Space Life Unearthed Climate Solutions Weather\n",
      "Weather Video Climate Ukraine-Russia War Israel-Hamas War Watch Live\n",
      "TV CNN Headlines CNN Shorts Shows A-Z CNN10 CNN Max CNN TV Schedules\n",
      "FlashDocs Listen CNN 5 Things Chasing Life with Dr. Sanjay Gupta The\n",
      "Assignment with Audie Cornish One Thing Tug of War CNN Political\n",
      "Briefing The Axe Files All There Is with Anderson Cooper All CNN Audio\n",
      "podcasts CNN Underscored Electronics Fashion Beauty Health & Fitness\n",
      "Home Reviews Deals Gifts Travel Outdoors Pets Games CNN Crossword\n",
      "Jumble Crossword Photo Shuffle Sudoblock Sudoku 5 Things Quiz About\n",
      "CNN Subscribe Photos Investigations CNN Profiles CNN Leadership CNN\n",
      "Newsletters Work for CNN Watch Listen Live TV Follow CNN Subscribe\n",
      "Sign in My Account Settings Newsletters Topics You Follow Sign Out\n",
      "Your CNN account Sign in to your CNN account Terms of Use Privacy\n",
      "Policy Cookie Settings Ad Choices Accessibility & CC About Subscribe\n",
      "Newsletters Transcripts Help Center © 2025 Cable News Network. A\n",
      "Warner Bros. Discovery Company. All Rights Reserved. CNN Sans ™ & ©\n",
      "2016 Cable News Network. Privacy Policy For privacy options, please\n",
      "see our privacy policy: https://www.cnn.com/privacy . Back Button\n",
      "Cookie List Search Icon Filter Icon Clear checkbox label label Apply\n",
      "Cancel Consent Leg.Interest checkbox label label checkbox label label\n",
      "checkbox label label Close\n"
     ]
    }
   ],
   "source": [
    "import textwrap\n",
    "print(textwrap.fill(text))"
   ]
  },
  {
   "cell_type": "code",
   "execution_count": 17,
   "metadata": {},
   "outputs": [],
   "source": [
    "all_tools = tools + [tool_push]"
   ]
  },
  {
   "cell_type": "code",
   "execution_count": 18,
   "metadata": {},
   "outputs": [],
   "source": [
    "\n",
    "llm = ChatOpenAI(model=\"gpt-4o-mini\")\n",
    "llm_with_tools = llm.bind_tools(all_tools)\n",
    "\n",
    "\n",
    "def chatbot(state: State):\n",
    "    return {\"messages\": [llm_with_tools.invoke(state[\"messages\"])]}\n"
   ]
  },
  {
   "cell_type": "code",
   "execution_count": 19,
   "metadata": {},
   "outputs": [
    {
     "data": {
      "image/png": "[encoded data removed]",
      "text/plain": [
       "<IPython.core.display.Image object>"
      ]
     },
     "metadata": {},
     "output_type": "display_data"
    }
   ],
   "source": [
    "\n",
    "graph_builder = StateGraph(State)\n",
    "graph_builder.add_node(\"chatbot\", chatbot)\n",
    "graph_builder.add_node(\"tools\", ToolNode(tools=all_tools))\n",
    "graph_builder.add_conditional_edges( \"chatbot\", tools_condition, \"tools\")\n",
    "graph_builder.add_edge(\"tools\", \"chatbot\")\n",
    "graph_builder.add_edge(START, \"chatbot\")\n",
    "\n",
    "memory = MemorySaver()\n",
    "graph = graph_builder.compile(checkpointer=memory)\n",
    "display(Image(graph.get_graph().draw_mermaid_png()))"
   ]
  },
  {
   "cell_type": "code",
   "execution_count": 22,
   "metadata": {},
   "outputs": [
    {
     "name": "stdout",
     "output_type": "stream",
     "text": [
      "* Running on local URL:  http://127.0.0.1:7866\n",
      "\n",
      "To create a public link, set `share=True` in `launch()`.\n"
     ]
    },
    {
     "data": {
      "text/html": [
       "<div><iframe src=\"http://127.0.0.1:7866/\" width=\"100%\" height=\"500\" allow=\"autoplay; camera; microphone; clipboard-read; clipboard-write;\" frameborder=\"0\" allowfullscreen></iframe></div>"
      ],
      "text/plain": [
       "<IPython.core.display.HTML object>"
      ]
     },
     "metadata": {},
     "output_type": "display_data"
    },
    {
     "data": {
      "text/plain": []
     },
     "execution_count": 22,
     "metadata": {},
     "output_type": "execute_result"
    }
   ],
   "source": [
    "config = {\"configurable\": {\"thread_id\": \"10\"}}\n",
    "\n",
    "async def chat(user_input: str, history):\n",
    "    result = await graph.ainvoke({\"messages\": [{\"role\": \"user\", \"content\": user_input}]}, config=config)\n",
    "    return result[\"messages\"][-1].content\n",
    "\n",
    "\n",
    "gr.ChatInterface(chat, type=\"messages\").launch()"
   ]
  },
  {
   "cell_type": "code",
   "execution_count": null,
   "metadata": {},
   "outputs": [],
   "source": []
  }
 ],
 "metadata": {
  "kernelspec": {
   "display_name": ".venv",
   "language": "python",
   "name": "python3"
  },
  "language_info": {
   "codemirror_mode": {
    "name": "ipython",
    "version": 3
   },
   "file_extension": ".py",
   "mimetype": "text/x-python",
   "name": "python",
   "nbconvert_exporter": "python",
   "pygments_lexer": "ipython3",
   "version": "3.12.9"
  }
 },
 "nbformat": 4,
 "nbformat_minor": 2
}
